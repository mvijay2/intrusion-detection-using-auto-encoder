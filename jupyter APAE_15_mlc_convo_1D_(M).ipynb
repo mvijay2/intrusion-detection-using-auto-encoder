{
 "cells": [
  {
   "cell_type": "markdown",
   "metadata": {
    "id": "LRShq69snak8"
   },
   "source": [
    "self attention module: It shortens the distance between any two inputs significantly to enhance the learning ability of long-term dependence."
   ]
  },
  {
   "cell_type": "markdown",
   "metadata": {
    "id": "i5O2MzsOl1TX"
   },
   "source": [
    "doing min max scaler, testdata=std_x_test.reshape(82332,194), x_train=x_train.values() are the ways to get data into 2d vector"
   ]
  },
  {
   "cell_type": "code",
   "execution_count": 1,
   "metadata": {
    "id": "sOdjJSY0gKn2"
   },
   "outputs": [],
   "source": [
    "import matplotlib.pyplot as plt\n",
    "import numpy as np\n",
    "import pandas as pd\n"
   ]
  },
  {
   "cell_type": "code",
   "execution_count": 2,
   "metadata": {
    "id": "-vigDFPfgZkA"
   },
   "outputs": [],
   "source": [
    "Test = pd.read_csv(r'C:\\Users\\lenovo\\Downloads\\UNSW_NB15_testing-set.csv.zip')\n",
    "Train = pd.read_csv(r'C:\\Users\\lenovo\\Downloads\\UNSW_NB15_training-set.csv.zip')"
   ]
  },
  {
   "cell_type": "code",
   "execution_count": 3,
   "metadata": {
    "colab": {
     "base_uri": "https://localhost:8080/"
    },
    "id": "9SSrBnC6I3lT",
    "outputId": "554d76b5-126e-4d2f-9952-a5b05269b277"
   },
   "outputs": [
    {
     "data": {
      "text/plain": [
       "(82332, 45)"
      ]
     },
     "execution_count": 3,
     "metadata": {},
     "output_type": "execute_result"
    }
   ],
   "source": [
    "Train.shape"
   ]
  },
  {
   "cell_type": "code",
   "execution_count": 4,
   "metadata": {
    "colab": {
     "base_uri": "https://localhost:8080/"
    },
    "id": "asqc08rmI6VV",
    "outputId": "feeec7d8-89b3-4f8d-c68a-57088588d7a7"
   },
   "outputs": [
    {
     "data": {
      "text/plain": [
       "(175341, 45)"
      ]
     },
     "execution_count": 4,
     "metadata": {},
     "output_type": "execute_result"
    }
   ],
   "source": [
    "Test.shape"
   ]
  },
  {
   "cell_type": "code",
   "execution_count": 5,
   "metadata": {
    "id": "H1zRxk_YIpij"
   },
   "outputs": [],
   "source": [
    "Test=Test.drop(['label'],axis=1)"
   ]
  },
  {
   "cell_type": "code",
   "execution_count": 6,
   "metadata": {
    "id": "0TB6WxffJvo1"
   },
   "outputs": [],
   "source": [
    "Train=Train.drop(['label'],axis=1)"
   ]
  },
  {
   "cell_type": "code",
   "execution_count": 7,
   "metadata": {
    "colab": {
     "base_uri": "https://localhost:8080/"
    },
    "id": "hHqMZ-JMJ1Qv",
    "outputId": "958c3282-94c5-4701-ca34-a3168a3c43ab"
   },
   "outputs": [
    {
     "data": {
      "text/plain": [
       "(175341, 44)"
      ]
     },
     "execution_count": 7,
     "metadata": {},
     "output_type": "execute_result"
    }
   ],
   "source": [
    "Test.shape"
   ]
  },
  {
   "cell_type": "code",
   "execution_count": 8,
   "metadata": {
    "colab": {
     "base_uri": "https://localhost:8080/"
    },
    "id": "4dLD9ASBJ3Gt",
    "outputId": "4244c69a-470a-4428-be77-1c370c4c9089"
   },
   "outputs": [
    {
     "data": {
      "text/plain": [
       "(82332, 44)"
      ]
     },
     "execution_count": 8,
     "metadata": {},
     "output_type": "execute_result"
    }
   ],
   "source": [
    "Train.shape"
   ]
  },
  {
   "cell_type": "code",
   "execution_count": 9,
   "metadata": {
    "id": "J3tPlLHBQmoY"
   },
   "outputs": [],
   "source": [
    "Train['attack_cat'] = Train['attack_cat'].replace(['Normal'], 0)\n",
    "Train['attack_cat'] = Train['attack_cat'].replace(['Reconnaissance'], 1)\n",
    "Train['attack_cat'] = Train['attack_cat'].replace(['Backdoor'], 2)\n",
    "Train['attack_cat'] = Train['attack_cat'].replace(['DoS'], 3)\n",
    "Train['attack_cat'] = Train['attack_cat'].replace(['Exploits'], 4)\n",
    "Train['attack_cat'] = Train['attack_cat'].replace(['Analysis'], 5)\n",
    "Train['attack_cat'] = Train['attack_cat'].replace(['Fuzzers'], 6)\n",
    "Train['attack_cat'] = Train['attack_cat'].replace(['Worms'], 7)\n",
    "Train['attack_cat'] = Train['attack_cat'].replace(['Shellcode'], 8)\n",
    "Train['attack_cat'] = Train['attack_cat'].replace(['Generic'], 9)"
   ]
  },
  {
   "cell_type": "code",
   "execution_count": 10,
   "metadata": {
    "colab": {
     "base_uri": "https://localhost:8080/"
    },
    "id": "rQ_MSI4SSIf7",
    "outputId": "0507d6c5-9433-44b0-cb22-4703a5f5e154"
   },
   "outputs": [
    {
     "name": "stdout",
     "output_type": "stream",
     "text": [
      "<class 'pandas.core.frame.DataFrame'>\n",
      "RangeIndex: 82332 entries, 0 to 82331\n",
      "Data columns (total 44 columns):\n",
      " #   Column             Non-Null Count  Dtype  \n",
      "---  ------             --------------  -----  \n",
      " 0   id                 82332 non-null  int64  \n",
      " 1   dur                82332 non-null  float64\n",
      " 2   proto              82332 non-null  object \n",
      " 3   service            82332 non-null  object \n",
      " 4   state              82332 non-null  object \n",
      " 5   spkts              82332 non-null  int64  \n",
      " 6   dpkts              82332 non-null  int64  \n",
      " 7   sbytes             82332 non-null  int64  \n",
      " 8   dbytes             82332 non-null  int64  \n",
      " 9   rate               82332 non-null  float64\n",
      " 10  sttl               82332 non-null  int64  \n",
      " 11  dttl               82332 non-null  int64  \n",
      " 12  sload              82332 non-null  float64\n",
      " 13  dload              82332 non-null  float64\n",
      " 14  sloss              82332 non-null  int64  \n",
      " 15  dloss              82332 non-null  int64  \n",
      " 16  sinpkt             82332 non-null  float64\n",
      " 17  dinpkt             82332 non-null  float64\n",
      " 18  sjit               82332 non-null  float64\n",
      " 19  djit               82332 non-null  float64\n",
      " 20  swin               82332 non-null  int64  \n",
      " 21  stcpb              82332 non-null  int64  \n",
      " 22  dtcpb              82332 non-null  int64  \n",
      " 23  dwin               82332 non-null  int64  \n",
      " 24  tcprtt             82332 non-null  float64\n",
      " 25  synack             82332 non-null  float64\n",
      " 26  ackdat             82332 non-null  float64\n",
      " 27  smean              82332 non-null  int64  \n",
      " 28  dmean              82332 non-null  int64  \n",
      " 29  trans_depth        82332 non-null  int64  \n",
      " 30  response_body_len  82332 non-null  int64  \n",
      " 31  ct_srv_src         82332 non-null  int64  \n",
      " 32  ct_state_ttl       82332 non-null  int64  \n",
      " 33  ct_dst_ltm         82332 non-null  int64  \n",
      " 34  ct_src_dport_ltm   82332 non-null  int64  \n",
      " 35  ct_dst_sport_ltm   82332 non-null  int64  \n",
      " 36  ct_dst_src_ltm     82332 non-null  int64  \n",
      " 37  is_ftp_login       82332 non-null  int64  \n",
      " 38  ct_ftp_cmd         82332 non-null  int64  \n",
      " 39  ct_flw_http_mthd   82332 non-null  int64  \n",
      " 40  ct_src_ltm         82332 non-null  int64  \n",
      " 41  ct_srv_dst         82332 non-null  int64  \n",
      " 42  is_sm_ips_ports    82332 non-null  int64  \n",
      " 43  attack_cat         82332 non-null  int64  \n",
      "dtypes: float64(11), int64(30), object(3)\n",
      "memory usage: 27.6+ MB\n"
     ]
    }
   ],
   "source": [
    "Train.info()"
   ]
  },
  {
   "cell_type": "code",
   "execution_count": 11,
   "metadata": {
    "colab": {
     "base_uri": "https://localhost:8080/"
    },
    "id": "xFVOxv1SdRz7",
    "outputId": "e23d4e30-988c-4a02-e23d-1f2967dff9c2"
   },
   "outputs": [
    {
     "data": {
      "text/plain": [
       "{0, 1, 2, 3, 4, 5, 6, 7, 8, 9}"
      ]
     },
     "execution_count": 11,
     "metadata": {},
     "output_type": "execute_result"
    }
   ],
   "source": [
    "set(Train['attack_cat'])"
   ]
  },
  {
   "cell_type": "code",
   "execution_count": 12,
   "metadata": {
    "id": "_X79HHsUIBdE"
   },
   "outputs": [],
   "source": [
    "Train[\"Class\"]=Train.apply('attack_cat',axis=1)\n",
    "Train=Train.drop(\"attack_cat\",axis=1)"
   ]
  },
  {
   "cell_type": "code",
   "execution_count": 13,
   "metadata": {
    "colab": {
     "base_uri": "https://localhost:8080/",
     "height": 443
    },
    "id": "Lixb9BgDSwsv",
    "outputId": "beb8ea70-7031-4f40-ff71-f6ba6820d2a8"
   },
   "outputs": [
    {
     "data": {
      "text/html": [
       "<div>\n",
       "<style scoped>\n",
       "    .dataframe tbody tr th:only-of-type {\n",
       "        vertical-align: middle;\n",
       "    }\n",
       "\n",
       "    .dataframe tbody tr th {\n",
       "        vertical-align: top;\n",
       "    }\n",
       "\n",
       "    .dataframe thead th {\n",
       "        text-align: right;\n",
       "    }\n",
       "</style>\n",
       "<table border=\"1\" class=\"dataframe\">\n",
       "  <thead>\n",
       "    <tr style=\"text-align: right;\">\n",
       "      <th></th>\n",
       "      <th>id</th>\n",
       "      <th>dur</th>\n",
       "      <th>proto</th>\n",
       "      <th>service</th>\n",
       "      <th>state</th>\n",
       "      <th>spkts</th>\n",
       "      <th>dpkts</th>\n",
       "      <th>sbytes</th>\n",
       "      <th>dbytes</th>\n",
       "      <th>rate</th>\n",
       "      <th>...</th>\n",
       "      <th>ct_src_dport_ltm</th>\n",
       "      <th>ct_dst_sport_ltm</th>\n",
       "      <th>ct_dst_src_ltm</th>\n",
       "      <th>is_ftp_login</th>\n",
       "      <th>ct_ftp_cmd</th>\n",
       "      <th>ct_flw_http_mthd</th>\n",
       "      <th>ct_src_ltm</th>\n",
       "      <th>ct_srv_dst</th>\n",
       "      <th>is_sm_ips_ports</th>\n",
       "      <th>Class</th>\n",
       "    </tr>\n",
       "  </thead>\n",
       "  <tbody>\n",
       "    <tr>\n",
       "      <th>0</th>\n",
       "      <td>1</td>\n",
       "      <td>0.000011</td>\n",
       "      <td>udp</td>\n",
       "      <td>-</td>\n",
       "      <td>INT</td>\n",
       "      <td>2</td>\n",
       "      <td>0</td>\n",
       "      <td>496</td>\n",
       "      <td>0</td>\n",
       "      <td>90909.090200</td>\n",
       "      <td>...</td>\n",
       "      <td>1</td>\n",
       "      <td>1</td>\n",
       "      <td>2</td>\n",
       "      <td>0</td>\n",
       "      <td>0</td>\n",
       "      <td>0</td>\n",
       "      <td>1</td>\n",
       "      <td>2</td>\n",
       "      <td>0</td>\n",
       "      <td>0</td>\n",
       "    </tr>\n",
       "    <tr>\n",
       "      <th>1</th>\n",
       "      <td>2</td>\n",
       "      <td>0.000008</td>\n",
       "      <td>udp</td>\n",
       "      <td>-</td>\n",
       "      <td>INT</td>\n",
       "      <td>2</td>\n",
       "      <td>0</td>\n",
       "      <td>1762</td>\n",
       "      <td>0</td>\n",
       "      <td>125000.000300</td>\n",
       "      <td>...</td>\n",
       "      <td>1</td>\n",
       "      <td>1</td>\n",
       "      <td>2</td>\n",
       "      <td>0</td>\n",
       "      <td>0</td>\n",
       "      <td>0</td>\n",
       "      <td>1</td>\n",
       "      <td>2</td>\n",
       "      <td>0</td>\n",
       "      <td>0</td>\n",
       "    </tr>\n",
       "    <tr>\n",
       "      <th>2</th>\n",
       "      <td>3</td>\n",
       "      <td>0.000005</td>\n",
       "      <td>udp</td>\n",
       "      <td>-</td>\n",
       "      <td>INT</td>\n",
       "      <td>2</td>\n",
       "      <td>0</td>\n",
       "      <td>1068</td>\n",
       "      <td>0</td>\n",
       "      <td>200000.005100</td>\n",
       "      <td>...</td>\n",
       "      <td>1</td>\n",
       "      <td>1</td>\n",
       "      <td>3</td>\n",
       "      <td>0</td>\n",
       "      <td>0</td>\n",
       "      <td>0</td>\n",
       "      <td>1</td>\n",
       "      <td>3</td>\n",
       "      <td>0</td>\n",
       "      <td>0</td>\n",
       "    </tr>\n",
       "    <tr>\n",
       "      <th>3</th>\n",
       "      <td>4</td>\n",
       "      <td>0.000006</td>\n",
       "      <td>udp</td>\n",
       "      <td>-</td>\n",
       "      <td>INT</td>\n",
       "      <td>2</td>\n",
       "      <td>0</td>\n",
       "      <td>900</td>\n",
       "      <td>0</td>\n",
       "      <td>166666.660800</td>\n",
       "      <td>...</td>\n",
       "      <td>2</td>\n",
       "      <td>1</td>\n",
       "      <td>3</td>\n",
       "      <td>0</td>\n",
       "      <td>0</td>\n",
       "      <td>0</td>\n",
       "      <td>2</td>\n",
       "      <td>3</td>\n",
       "      <td>0</td>\n",
       "      <td>0</td>\n",
       "    </tr>\n",
       "    <tr>\n",
       "      <th>4</th>\n",
       "      <td>5</td>\n",
       "      <td>0.000010</td>\n",
       "      <td>udp</td>\n",
       "      <td>-</td>\n",
       "      <td>INT</td>\n",
       "      <td>2</td>\n",
       "      <td>0</td>\n",
       "      <td>2126</td>\n",
       "      <td>0</td>\n",
       "      <td>100000.002500</td>\n",
       "      <td>...</td>\n",
       "      <td>2</td>\n",
       "      <td>1</td>\n",
       "      <td>3</td>\n",
       "      <td>0</td>\n",
       "      <td>0</td>\n",
       "      <td>0</td>\n",
       "      <td>2</td>\n",
       "      <td>3</td>\n",
       "      <td>0</td>\n",
       "      <td>0</td>\n",
       "    </tr>\n",
       "    <tr>\n",
       "      <th>...</th>\n",
       "      <td>...</td>\n",
       "      <td>...</td>\n",
       "      <td>...</td>\n",
       "      <td>...</td>\n",
       "      <td>...</td>\n",
       "      <td>...</td>\n",
       "      <td>...</td>\n",
       "      <td>...</td>\n",
       "      <td>...</td>\n",
       "      <td>...</td>\n",
       "      <td>...</td>\n",
       "      <td>...</td>\n",
       "      <td>...</td>\n",
       "      <td>...</td>\n",
       "      <td>...</td>\n",
       "      <td>...</td>\n",
       "      <td>...</td>\n",
       "      <td>...</td>\n",
       "      <td>...</td>\n",
       "      <td>...</td>\n",
       "      <td>...</td>\n",
       "    </tr>\n",
       "    <tr>\n",
       "      <th>82327</th>\n",
       "      <td>82328</td>\n",
       "      <td>0.000005</td>\n",
       "      <td>udp</td>\n",
       "      <td>-</td>\n",
       "      <td>INT</td>\n",
       "      <td>2</td>\n",
       "      <td>0</td>\n",
       "      <td>104</td>\n",
       "      <td>0</td>\n",
       "      <td>200000.005100</td>\n",
       "      <td>...</td>\n",
       "      <td>1</td>\n",
       "      <td>1</td>\n",
       "      <td>2</td>\n",
       "      <td>0</td>\n",
       "      <td>0</td>\n",
       "      <td>0</td>\n",
       "      <td>2</td>\n",
       "      <td>1</td>\n",
       "      <td>0</td>\n",
       "      <td>0</td>\n",
       "    </tr>\n",
       "    <tr>\n",
       "      <th>82328</th>\n",
       "      <td>82329</td>\n",
       "      <td>1.106101</td>\n",
       "      <td>tcp</td>\n",
       "      <td>-</td>\n",
       "      <td>FIN</td>\n",
       "      <td>20</td>\n",
       "      <td>8</td>\n",
       "      <td>18062</td>\n",
       "      <td>354</td>\n",
       "      <td>24.410067</td>\n",
       "      <td>...</td>\n",
       "      <td>1</td>\n",
       "      <td>1</td>\n",
       "      <td>1</td>\n",
       "      <td>0</td>\n",
       "      <td>0</td>\n",
       "      <td>0</td>\n",
       "      <td>3</td>\n",
       "      <td>2</td>\n",
       "      <td>0</td>\n",
       "      <td>0</td>\n",
       "    </tr>\n",
       "    <tr>\n",
       "      <th>82329</th>\n",
       "      <td>82330</td>\n",
       "      <td>0.000000</td>\n",
       "      <td>arp</td>\n",
       "      <td>-</td>\n",
       "      <td>INT</td>\n",
       "      <td>1</td>\n",
       "      <td>0</td>\n",
       "      <td>46</td>\n",
       "      <td>0</td>\n",
       "      <td>0.000000</td>\n",
       "      <td>...</td>\n",
       "      <td>1</td>\n",
       "      <td>1</td>\n",
       "      <td>1</td>\n",
       "      <td>0</td>\n",
       "      <td>0</td>\n",
       "      <td>0</td>\n",
       "      <td>1</td>\n",
       "      <td>1</td>\n",
       "      <td>1</td>\n",
       "      <td>0</td>\n",
       "    </tr>\n",
       "    <tr>\n",
       "      <th>82330</th>\n",
       "      <td>82331</td>\n",
       "      <td>0.000000</td>\n",
       "      <td>arp</td>\n",
       "      <td>-</td>\n",
       "      <td>INT</td>\n",
       "      <td>1</td>\n",
       "      <td>0</td>\n",
       "      <td>46</td>\n",
       "      <td>0</td>\n",
       "      <td>0.000000</td>\n",
       "      <td>...</td>\n",
       "      <td>1</td>\n",
       "      <td>1</td>\n",
       "      <td>1</td>\n",
       "      <td>0</td>\n",
       "      <td>0</td>\n",
       "      <td>0</td>\n",
       "      <td>1</td>\n",
       "      <td>1</td>\n",
       "      <td>1</td>\n",
       "      <td>0</td>\n",
       "    </tr>\n",
       "    <tr>\n",
       "      <th>82331</th>\n",
       "      <td>82332</td>\n",
       "      <td>0.000009</td>\n",
       "      <td>udp</td>\n",
       "      <td>-</td>\n",
       "      <td>INT</td>\n",
       "      <td>2</td>\n",
       "      <td>0</td>\n",
       "      <td>104</td>\n",
       "      <td>0</td>\n",
       "      <td>111111.107200</td>\n",
       "      <td>...</td>\n",
       "      <td>1</td>\n",
       "      <td>1</td>\n",
       "      <td>1</td>\n",
       "      <td>0</td>\n",
       "      <td>0</td>\n",
       "      <td>0</td>\n",
       "      <td>1</td>\n",
       "      <td>1</td>\n",
       "      <td>0</td>\n",
       "      <td>0</td>\n",
       "    </tr>\n",
       "  </tbody>\n",
       "</table>\n",
       "<p>82332 rows × 44 columns</p>\n",
       "</div>"
      ],
      "text/plain": [
       "          id       dur proto service state  spkts  dpkts  sbytes  dbytes  \\\n",
       "0          1  0.000011   udp       -   INT      2      0     496       0   \n",
       "1          2  0.000008   udp       -   INT      2      0    1762       0   \n",
       "2          3  0.000005   udp       -   INT      2      0    1068       0   \n",
       "3          4  0.000006   udp       -   INT      2      0     900       0   \n",
       "4          5  0.000010   udp       -   INT      2      0    2126       0   \n",
       "...      ...       ...   ...     ...   ...    ...    ...     ...     ...   \n",
       "82327  82328  0.000005   udp       -   INT      2      0     104       0   \n",
       "82328  82329  1.106101   tcp       -   FIN     20      8   18062     354   \n",
       "82329  82330  0.000000   arp       -   INT      1      0      46       0   \n",
       "82330  82331  0.000000   arp       -   INT      1      0      46       0   \n",
       "82331  82332  0.000009   udp       -   INT      2      0     104       0   \n",
       "\n",
       "                rate  ...  ct_src_dport_ltm  ct_dst_sport_ltm  ct_dst_src_ltm  \\\n",
       "0       90909.090200  ...                 1                 1               2   \n",
       "1      125000.000300  ...                 1                 1               2   \n",
       "2      200000.005100  ...                 1                 1               3   \n",
       "3      166666.660800  ...                 2                 1               3   \n",
       "4      100000.002500  ...                 2                 1               3   \n",
       "...              ...  ...               ...               ...             ...   \n",
       "82327  200000.005100  ...                 1                 1               2   \n",
       "82328      24.410067  ...                 1                 1               1   \n",
       "82329       0.000000  ...                 1                 1               1   \n",
       "82330       0.000000  ...                 1                 1               1   \n",
       "82331  111111.107200  ...                 1                 1               1   \n",
       "\n",
       "       is_ftp_login  ct_ftp_cmd  ct_flw_http_mthd  ct_src_ltm  ct_srv_dst  \\\n",
       "0                 0           0                 0           1           2   \n",
       "1                 0           0                 0           1           2   \n",
       "2                 0           0                 0           1           3   \n",
       "3                 0           0                 0           2           3   \n",
       "4                 0           0                 0           2           3   \n",
       "...             ...         ...               ...         ...         ...   \n",
       "82327             0           0                 0           2           1   \n",
       "82328             0           0                 0           3           2   \n",
       "82329             0           0                 0           1           1   \n",
       "82330             0           0                 0           1           1   \n",
       "82331             0           0                 0           1           1   \n",
       "\n",
       "       is_sm_ips_ports  Class  \n",
       "0                    0      0  \n",
       "1                    0      0  \n",
       "2                    0      0  \n",
       "3                    0      0  \n",
       "4                    0      0  \n",
       "...                ...    ...  \n",
       "82327                0      0  \n",
       "82328                0      0  \n",
       "82329                1      0  \n",
       "82330                1      0  \n",
       "82331                0      0  \n",
       "\n",
       "[82332 rows x 44 columns]"
      ]
     },
     "execution_count": 13,
     "metadata": {},
     "output_type": "execute_result"
    }
   ],
   "source": [
    "Train"
   ]
  },
  {
   "cell_type": "code",
   "execution_count": 14,
   "metadata": {
    "id": "-hQqQgV5Wjuo"
   },
   "outputs": [],
   "source": [
    "Test['attack_cat'] = Test['attack_cat'].replace(['Normal'], 0)\n",
    "Test['attack_cat'] = Test['attack_cat'].replace(['Reconnaissance'], 1)\n",
    "Test['attack_cat'] = Test['attack_cat'].replace(['Backdoor'],2)\n",
    "Test['attack_cat'] = Test['attack_cat'].replace(['DoS'], 3)\n",
    "Test['attack_cat'] = Test['attack_cat'].replace(['Exploits'], 4)\n",
    "Test['attack_cat'] = Test['attack_cat'].replace(['Analysis'], 5)\n",
    "Test['attack_cat'] = Test['attack_cat'].replace(['Fuzzers'], 6)\n",
    "Test['attack_cat'] = Test['attack_cat'].replace(['Worms'], 7)\n",
    "Test['attack_cat'] = Test['attack_cat'].replace(['Shellcode'], 8)\n",
    "Test['attack_cat'] = Test['attack_cat'].replace(['Generic'], 9)"
   ]
  },
  {
   "cell_type": "code",
   "execution_count": 15,
   "metadata": {
    "id": "w_zEfdT-W2dT"
   },
   "outputs": [],
   "source": [
    "Test[\"Class\"]=Test.apply('attack_cat',axis=1)\n",
    "Test=Test.drop(\"attack_cat\",axis=1)"
   ]
  },
  {
   "cell_type": "code",
   "execution_count": 16,
   "metadata": {
    "colab": {
     "base_uri": "https://localhost:8080/",
     "height": 443
    },
    "id": "oycjU9jXWz8N",
    "outputId": "7530cfbb-1140-4f64-eaac-a84a0061ae1a"
   },
   "outputs": [
    {
     "data": {
      "text/html": [
       "<div>\n",
       "<style scoped>\n",
       "    .dataframe tbody tr th:only-of-type {\n",
       "        vertical-align: middle;\n",
       "    }\n",
       "\n",
       "    .dataframe tbody tr th {\n",
       "        vertical-align: top;\n",
       "    }\n",
       "\n",
       "    .dataframe thead th {\n",
       "        text-align: right;\n",
       "    }\n",
       "</style>\n",
       "<table border=\"1\" class=\"dataframe\">\n",
       "  <thead>\n",
       "    <tr style=\"text-align: right;\">\n",
       "      <th></th>\n",
       "      <th>id</th>\n",
       "      <th>dur</th>\n",
       "      <th>proto</th>\n",
       "      <th>service</th>\n",
       "      <th>state</th>\n",
       "      <th>spkts</th>\n",
       "      <th>dpkts</th>\n",
       "      <th>sbytes</th>\n",
       "      <th>dbytes</th>\n",
       "      <th>rate</th>\n",
       "      <th>...</th>\n",
       "      <th>ct_src_dport_ltm</th>\n",
       "      <th>ct_dst_sport_ltm</th>\n",
       "      <th>ct_dst_src_ltm</th>\n",
       "      <th>is_ftp_login</th>\n",
       "      <th>ct_ftp_cmd</th>\n",
       "      <th>ct_flw_http_mthd</th>\n",
       "      <th>ct_src_ltm</th>\n",
       "      <th>ct_srv_dst</th>\n",
       "      <th>is_sm_ips_ports</th>\n",
       "      <th>Class</th>\n",
       "    </tr>\n",
       "  </thead>\n",
       "  <tbody>\n",
       "    <tr>\n",
       "      <th>0</th>\n",
       "      <td>1</td>\n",
       "      <td>0.121478</td>\n",
       "      <td>tcp</td>\n",
       "      <td>-</td>\n",
       "      <td>FIN</td>\n",
       "      <td>6</td>\n",
       "      <td>4</td>\n",
       "      <td>258</td>\n",
       "      <td>172</td>\n",
       "      <td>74.087490</td>\n",
       "      <td>...</td>\n",
       "      <td>1</td>\n",
       "      <td>1</td>\n",
       "      <td>1</td>\n",
       "      <td>0</td>\n",
       "      <td>0</td>\n",
       "      <td>0</td>\n",
       "      <td>1</td>\n",
       "      <td>1</td>\n",
       "      <td>0</td>\n",
       "      <td>0</td>\n",
       "    </tr>\n",
       "    <tr>\n",
       "      <th>1</th>\n",
       "      <td>2</td>\n",
       "      <td>0.649902</td>\n",
       "      <td>tcp</td>\n",
       "      <td>-</td>\n",
       "      <td>FIN</td>\n",
       "      <td>14</td>\n",
       "      <td>38</td>\n",
       "      <td>734</td>\n",
       "      <td>42014</td>\n",
       "      <td>78.473372</td>\n",
       "      <td>...</td>\n",
       "      <td>1</td>\n",
       "      <td>1</td>\n",
       "      <td>2</td>\n",
       "      <td>0</td>\n",
       "      <td>0</td>\n",
       "      <td>0</td>\n",
       "      <td>1</td>\n",
       "      <td>6</td>\n",
       "      <td>0</td>\n",
       "      <td>0</td>\n",
       "    </tr>\n",
       "    <tr>\n",
       "      <th>2</th>\n",
       "      <td>3</td>\n",
       "      <td>1.623129</td>\n",
       "      <td>tcp</td>\n",
       "      <td>-</td>\n",
       "      <td>FIN</td>\n",
       "      <td>8</td>\n",
       "      <td>16</td>\n",
       "      <td>364</td>\n",
       "      <td>13186</td>\n",
       "      <td>14.170161</td>\n",
       "      <td>...</td>\n",
       "      <td>1</td>\n",
       "      <td>1</td>\n",
       "      <td>3</td>\n",
       "      <td>0</td>\n",
       "      <td>0</td>\n",
       "      <td>0</td>\n",
       "      <td>2</td>\n",
       "      <td>6</td>\n",
       "      <td>0</td>\n",
       "      <td>0</td>\n",
       "    </tr>\n",
       "    <tr>\n",
       "      <th>3</th>\n",
       "      <td>4</td>\n",
       "      <td>1.681642</td>\n",
       "      <td>tcp</td>\n",
       "      <td>ftp</td>\n",
       "      <td>FIN</td>\n",
       "      <td>12</td>\n",
       "      <td>12</td>\n",
       "      <td>628</td>\n",
       "      <td>770</td>\n",
       "      <td>13.677108</td>\n",
       "      <td>...</td>\n",
       "      <td>1</td>\n",
       "      <td>1</td>\n",
       "      <td>3</td>\n",
       "      <td>1</td>\n",
       "      <td>1</td>\n",
       "      <td>0</td>\n",
       "      <td>2</td>\n",
       "      <td>1</td>\n",
       "      <td>0</td>\n",
       "      <td>0</td>\n",
       "    </tr>\n",
       "    <tr>\n",
       "      <th>4</th>\n",
       "      <td>5</td>\n",
       "      <td>0.449454</td>\n",
       "      <td>tcp</td>\n",
       "      <td>-</td>\n",
       "      <td>FIN</td>\n",
       "      <td>10</td>\n",
       "      <td>6</td>\n",
       "      <td>534</td>\n",
       "      <td>268</td>\n",
       "      <td>33.373826</td>\n",
       "      <td>...</td>\n",
       "      <td>2</td>\n",
       "      <td>1</td>\n",
       "      <td>40</td>\n",
       "      <td>0</td>\n",
       "      <td>0</td>\n",
       "      <td>0</td>\n",
       "      <td>2</td>\n",
       "      <td>39</td>\n",
       "      <td>0</td>\n",
       "      <td>0</td>\n",
       "    </tr>\n",
       "    <tr>\n",
       "      <th>...</th>\n",
       "      <td>...</td>\n",
       "      <td>...</td>\n",
       "      <td>...</td>\n",
       "      <td>...</td>\n",
       "      <td>...</td>\n",
       "      <td>...</td>\n",
       "      <td>...</td>\n",
       "      <td>...</td>\n",
       "      <td>...</td>\n",
       "      <td>...</td>\n",
       "      <td>...</td>\n",
       "      <td>...</td>\n",
       "      <td>...</td>\n",
       "      <td>...</td>\n",
       "      <td>...</td>\n",
       "      <td>...</td>\n",
       "      <td>...</td>\n",
       "      <td>...</td>\n",
       "      <td>...</td>\n",
       "      <td>...</td>\n",
       "      <td>...</td>\n",
       "    </tr>\n",
       "    <tr>\n",
       "      <th>175336</th>\n",
       "      <td>175337</td>\n",
       "      <td>0.000009</td>\n",
       "      <td>udp</td>\n",
       "      <td>dns</td>\n",
       "      <td>INT</td>\n",
       "      <td>2</td>\n",
       "      <td>0</td>\n",
       "      <td>114</td>\n",
       "      <td>0</td>\n",
       "      <td>111111.107200</td>\n",
       "      <td>...</td>\n",
       "      <td>24</td>\n",
       "      <td>13</td>\n",
       "      <td>24</td>\n",
       "      <td>0</td>\n",
       "      <td>0</td>\n",
       "      <td>0</td>\n",
       "      <td>24</td>\n",
       "      <td>24</td>\n",
       "      <td>0</td>\n",
       "      <td>9</td>\n",
       "    </tr>\n",
       "    <tr>\n",
       "      <th>175337</th>\n",
       "      <td>175338</td>\n",
       "      <td>0.505762</td>\n",
       "      <td>tcp</td>\n",
       "      <td>-</td>\n",
       "      <td>FIN</td>\n",
       "      <td>10</td>\n",
       "      <td>8</td>\n",
       "      <td>620</td>\n",
       "      <td>354</td>\n",
       "      <td>33.612649</td>\n",
       "      <td>...</td>\n",
       "      <td>1</td>\n",
       "      <td>1</td>\n",
       "      <td>2</td>\n",
       "      <td>0</td>\n",
       "      <td>0</td>\n",
       "      <td>0</td>\n",
       "      <td>1</td>\n",
       "      <td>1</td>\n",
       "      <td>0</td>\n",
       "      <td>8</td>\n",
       "    </tr>\n",
       "    <tr>\n",
       "      <th>175338</th>\n",
       "      <td>175339</td>\n",
       "      <td>0.000009</td>\n",
       "      <td>udp</td>\n",
       "      <td>dns</td>\n",
       "      <td>INT</td>\n",
       "      <td>2</td>\n",
       "      <td>0</td>\n",
       "      <td>114</td>\n",
       "      <td>0</td>\n",
       "      <td>111111.107200</td>\n",
       "      <td>...</td>\n",
       "      <td>3</td>\n",
       "      <td>3</td>\n",
       "      <td>13</td>\n",
       "      <td>0</td>\n",
       "      <td>0</td>\n",
       "      <td>0</td>\n",
       "      <td>3</td>\n",
       "      <td>12</td>\n",
       "      <td>0</td>\n",
       "      <td>9</td>\n",
       "    </tr>\n",
       "    <tr>\n",
       "      <th>175339</th>\n",
       "      <td>175340</td>\n",
       "      <td>0.000009</td>\n",
       "      <td>udp</td>\n",
       "      <td>dns</td>\n",
       "      <td>INT</td>\n",
       "      <td>2</td>\n",
       "      <td>0</td>\n",
       "      <td>114</td>\n",
       "      <td>0</td>\n",
       "      <td>111111.107200</td>\n",
       "      <td>...</td>\n",
       "      <td>30</td>\n",
       "      <td>14</td>\n",
       "      <td>30</td>\n",
       "      <td>0</td>\n",
       "      <td>0</td>\n",
       "      <td>0</td>\n",
       "      <td>30</td>\n",
       "      <td>30</td>\n",
       "      <td>0</td>\n",
       "      <td>9</td>\n",
       "    </tr>\n",
       "    <tr>\n",
       "      <th>175340</th>\n",
       "      <td>175341</td>\n",
       "      <td>0.000009</td>\n",
       "      <td>udp</td>\n",
       "      <td>dns</td>\n",
       "      <td>INT</td>\n",
       "      <td>2</td>\n",
       "      <td>0</td>\n",
       "      <td>114</td>\n",
       "      <td>0</td>\n",
       "      <td>111111.107200</td>\n",
       "      <td>...</td>\n",
       "      <td>30</td>\n",
       "      <td>16</td>\n",
       "      <td>30</td>\n",
       "      <td>0</td>\n",
       "      <td>0</td>\n",
       "      <td>0</td>\n",
       "      <td>30</td>\n",
       "      <td>30</td>\n",
       "      <td>0</td>\n",
       "      <td>9</td>\n",
       "    </tr>\n",
       "  </tbody>\n",
       "</table>\n",
       "<p>175341 rows × 44 columns</p>\n",
       "</div>"
      ],
      "text/plain": [
       "            id       dur proto service state  spkts  dpkts  sbytes  dbytes  \\\n",
       "0            1  0.121478   tcp       -   FIN      6      4     258     172   \n",
       "1            2  0.649902   tcp       -   FIN     14     38     734   42014   \n",
       "2            3  1.623129   tcp       -   FIN      8     16     364   13186   \n",
       "3            4  1.681642   tcp     ftp   FIN     12     12     628     770   \n",
       "4            5  0.449454   tcp       -   FIN     10      6     534     268   \n",
       "...        ...       ...   ...     ...   ...    ...    ...     ...     ...   \n",
       "175336  175337  0.000009   udp     dns   INT      2      0     114       0   \n",
       "175337  175338  0.505762   tcp       -   FIN     10      8     620     354   \n",
       "175338  175339  0.000009   udp     dns   INT      2      0     114       0   \n",
       "175339  175340  0.000009   udp     dns   INT      2      0     114       0   \n",
       "175340  175341  0.000009   udp     dns   INT      2      0     114       0   \n",
       "\n",
       "                 rate  ...  ct_src_dport_ltm  ct_dst_sport_ltm  \\\n",
       "0           74.087490  ...                 1                 1   \n",
       "1           78.473372  ...                 1                 1   \n",
       "2           14.170161  ...                 1                 1   \n",
       "3           13.677108  ...                 1                 1   \n",
       "4           33.373826  ...                 2                 1   \n",
       "...               ...  ...               ...               ...   \n",
       "175336  111111.107200  ...                24                13   \n",
       "175337      33.612649  ...                 1                 1   \n",
       "175338  111111.107200  ...                 3                 3   \n",
       "175339  111111.107200  ...                30                14   \n",
       "175340  111111.107200  ...                30                16   \n",
       "\n",
       "        ct_dst_src_ltm  is_ftp_login  ct_ftp_cmd  ct_flw_http_mthd  \\\n",
       "0                    1             0           0                 0   \n",
       "1                    2             0           0                 0   \n",
       "2                    3             0           0                 0   \n",
       "3                    3             1           1                 0   \n",
       "4                   40             0           0                 0   \n",
       "...                ...           ...         ...               ...   \n",
       "175336              24             0           0                 0   \n",
       "175337               2             0           0                 0   \n",
       "175338              13             0           0                 0   \n",
       "175339              30             0           0                 0   \n",
       "175340              30             0           0                 0   \n",
       "\n",
       "        ct_src_ltm  ct_srv_dst  is_sm_ips_ports  Class  \n",
       "0                1           1                0      0  \n",
       "1                1           6                0      0  \n",
       "2                2           6                0      0  \n",
       "3                2           1                0      0  \n",
       "4                2          39                0      0  \n",
       "...            ...         ...              ...    ...  \n",
       "175336          24          24                0      9  \n",
       "175337           1           1                0      8  \n",
       "175338           3          12                0      9  \n",
       "175339          30          30                0      9  \n",
       "175340          30          30                0      9  \n",
       "\n",
       "[175341 rows x 44 columns]"
      ]
     },
     "execution_count": 16,
     "metadata": {},
     "output_type": "execute_result"
    }
   ],
   "source": [
    "Test"
   ]
  },
  {
   "cell_type": "code",
   "execution_count": 17,
   "metadata": {
    "colab": {
     "base_uri": "https://localhost:8080/"
    },
    "id": "t3wKzI8tJ7u-",
    "outputId": "8a990d9a-d19b-4318-f9c6-529796c801b4"
   },
   "outputs": [
    {
     "name": "stdout",
     "output_type": "stream",
     "text": [
      "<class 'pandas.core.frame.DataFrame'>\n",
      "RangeIndex: 175341 entries, 0 to 175340\n",
      "Data columns (total 44 columns):\n",
      " #   Column             Non-Null Count   Dtype  \n",
      "---  ------             --------------   -----  \n",
      " 0   id                 175341 non-null  int64  \n",
      " 1   dur                175341 non-null  float64\n",
      " 2   proto              175341 non-null  object \n",
      " 3   service            175341 non-null  object \n",
      " 4   state              175341 non-null  object \n",
      " 5   spkts              175341 non-null  int64  \n",
      " 6   dpkts              175341 non-null  int64  \n",
      " 7   sbytes             175341 non-null  int64  \n",
      " 8   dbytes             175341 non-null  int64  \n",
      " 9   rate               175341 non-null  float64\n",
      " 10  sttl               175341 non-null  int64  \n",
      " 11  dttl               175341 non-null  int64  \n",
      " 12  sload              175341 non-null  float64\n",
      " 13  dload              175341 non-null  float64\n",
      " 14  sloss              175341 non-null  int64  \n",
      " 15  dloss              175341 non-null  int64  \n",
      " 16  sinpkt             175341 non-null  float64\n",
      " 17  dinpkt             175341 non-null  float64\n",
      " 18  sjit               175341 non-null  float64\n",
      " 19  djit               175341 non-null  float64\n",
      " 20  swin               175341 non-null  int64  \n",
      " 21  stcpb              175341 non-null  int64  \n",
      " 22  dtcpb              175341 non-null  int64  \n",
      " 23  dwin               175341 non-null  int64  \n",
      " 24  tcprtt             175341 non-null  float64\n",
      " 25  synack             175341 non-null  float64\n",
      " 26  ackdat             175341 non-null  float64\n",
      " 27  smean              175341 non-null  int64  \n",
      " 28  dmean              175341 non-null  int64  \n",
      " 29  trans_depth        175341 non-null  int64  \n",
      " 30  response_body_len  175341 non-null  int64  \n",
      " 31  ct_srv_src         175341 non-null  int64  \n",
      " 32  ct_state_ttl       175341 non-null  int64  \n",
      " 33  ct_dst_ltm         175341 non-null  int64  \n",
      " 34  ct_src_dport_ltm   175341 non-null  int64  \n",
      " 35  ct_dst_sport_ltm   175341 non-null  int64  \n",
      " 36  ct_dst_src_ltm     175341 non-null  int64  \n",
      " 37  is_ftp_login       175341 non-null  int64  \n",
      " 38  ct_ftp_cmd         175341 non-null  int64  \n",
      " 39  ct_flw_http_mthd   175341 non-null  int64  \n",
      " 40  ct_src_ltm         175341 non-null  int64  \n",
      " 41  ct_srv_dst         175341 non-null  int64  \n",
      " 42  is_sm_ips_ports    175341 non-null  int64  \n",
      " 43  Class              175341 non-null  int64  \n",
      "dtypes: float64(11), int64(30), object(3)\n",
      "memory usage: 58.9+ MB\n"
     ]
    }
   ],
   "source": [
    "Test.info()"
   ]
  },
  {
   "cell_type": "code",
   "execution_count": 18,
   "metadata": {
    "colab": {
     "base_uri": "https://localhost:8080/"
    },
    "id": "tPo8NUb6UWsR",
    "outputId": "2d3659da-2147-46f4-8e46-07b5674fb33b"
   },
   "outputs": [
    {
     "data": {
      "text/plain": [
       "0        0\n",
       "1        0\n",
       "2        0\n",
       "3        0\n",
       "4        0\n",
       "        ..\n",
       "82327    0\n",
       "82328    0\n",
       "82329    0\n",
       "82330    0\n",
       "82331    0\n",
       "Name: Class, Length: 82332, dtype: int32"
      ]
     },
     "execution_count": 18,
     "metadata": {},
     "output_type": "execute_result"
    }
   ],
   "source": [
    "Test['Class'].astype(int)\n",
    "Train['Class'].astype(int)"
   ]
  },
  {
   "cell_type": "code",
   "execution_count": 19,
   "metadata": {
    "colab": {
     "base_uri": "https://localhost:8080/"
    },
    "id": "nstRSROQxRDr",
    "outputId": "c5ed7784-ef5e-4dcf-de11-ab6887cc7134"
   },
   "outputs": [
    {
     "name": "stdout",
     "output_type": "stream",
     "text": [
      "<class 'pandas.core.frame.DataFrame'>\n",
      "RangeIndex: 82332 entries, 0 to 82331\n",
      "Data columns (total 44 columns):\n",
      " #   Column             Non-Null Count  Dtype  \n",
      "---  ------             --------------  -----  \n",
      " 0   id                 82332 non-null  int64  \n",
      " 1   dur                82332 non-null  float64\n",
      " 2   proto              82332 non-null  object \n",
      " 3   service            82332 non-null  object \n",
      " 4   state              82332 non-null  object \n",
      " 5   spkts              82332 non-null  int64  \n",
      " 6   dpkts              82332 non-null  int64  \n",
      " 7   sbytes             82332 non-null  int64  \n",
      " 8   dbytes             82332 non-null  int64  \n",
      " 9   rate               82332 non-null  float64\n",
      " 10  sttl               82332 non-null  int64  \n",
      " 11  dttl               82332 non-null  int64  \n",
      " 12  sload              82332 non-null  float64\n",
      " 13  dload              82332 non-null  float64\n",
      " 14  sloss              82332 non-null  int64  \n",
      " 15  dloss              82332 non-null  int64  \n",
      " 16  sinpkt             82332 non-null  float64\n",
      " 17  dinpkt             82332 non-null  float64\n",
      " 18  sjit               82332 non-null  float64\n",
      " 19  djit               82332 non-null  float64\n",
      " 20  swin               82332 non-null  int64  \n",
      " 21  stcpb              82332 non-null  int64  \n",
      " 22  dtcpb              82332 non-null  int64  \n",
      " 23  dwin               82332 non-null  int64  \n",
      " 24  tcprtt             82332 non-null  float64\n",
      " 25  synack             82332 non-null  float64\n",
      " 26  ackdat             82332 non-null  float64\n",
      " 27  smean              82332 non-null  int64  \n",
      " 28  dmean              82332 non-null  int64  \n",
      " 29  trans_depth        82332 non-null  int64  \n",
      " 30  response_body_len  82332 non-null  int64  \n",
      " 31  ct_srv_src         82332 non-null  int64  \n",
      " 32  ct_state_ttl       82332 non-null  int64  \n",
      " 33  ct_dst_ltm         82332 non-null  int64  \n",
      " 34  ct_src_dport_ltm   82332 non-null  int64  \n",
      " 35  ct_dst_sport_ltm   82332 non-null  int64  \n",
      " 36  ct_dst_src_ltm     82332 non-null  int64  \n",
      " 37  is_ftp_login       82332 non-null  int64  \n",
      " 38  ct_ftp_cmd         82332 non-null  int64  \n",
      " 39  ct_flw_http_mthd   82332 non-null  int64  \n",
      " 40  ct_src_ltm         82332 non-null  int64  \n",
      " 41  ct_srv_dst         82332 non-null  int64  \n",
      " 42  is_sm_ips_ports    82332 non-null  int64  \n",
      " 43  Class              82332 non-null  int64  \n",
      "dtypes: float64(11), int64(30), object(3)\n",
      "memory usage: 27.6+ MB\n"
     ]
    }
   ],
   "source": [
    "Train.info()"
   ]
  },
  {
   "cell_type": "code",
   "execution_count": 20,
   "metadata": {
    "colab": {
     "base_uri": "https://localhost:8080/",
     "height": 466
    },
    "id": "hEYs5cDHKjL_",
    "outputId": "b8ef5340-55a6-41f5-e0a2-6409dbc28235"
   },
   "outputs": [
    {
     "data": {
      "text/plain": [
       "<Axes: xlabel='Class', ylabel='count'>"
      ]
     },
     "execution_count": 20,
     "metadata": {},
     "output_type": "execute_result"
    },
    {
     "data": {
      "image/png": "[encoded data removed]",
      "text/plain": [
       "<Figure size 640x480 with 1 Axes>"
      ]
     },
     "metadata": {},
     "output_type": "display_data"
    }
   ],
   "source": [
    "\n",
    "import seaborn as sns\n",
    "sns.countplot(x=Train['Class'])"
   ]
  },
  {
   "cell_type": "code",
   "execution_count": 21,
   "metadata": {
    "id": "LHcccQFn0UIp"
   },
   "outputs": [],
   "source": [
    "X_train = Train.iloc[:,:-1]\n",
    "y_train = Train.iloc[:,-1]"
   ]
  },
  {
   "cell_type": "code",
   "execution_count": 22,
   "metadata": {
    "colab": {
     "base_uri": "https://localhost:8080/"
    },
    "id": "e1iNQ0PM0Wwu",
    "outputId": "86cd9500-f930-4523-affb-728059bfbf01"
   },
   "outputs": [
    {
     "data": {
      "text/plain": [
       "{0, 1, 2, 3, 4, 5, 6, 7, 8, 9}"
      ]
     },
     "execution_count": 22,
     "metadata": {},
     "output_type": "execute_result"
    }
   ],
   "source": [
    "set(y_train)"
   ]
  },
  {
   "cell_type": "code",
   "execution_count": 23,
   "metadata": {
    "colab": {
     "base_uri": "https://localhost:8080/"
    },
    "id": "4w1E8zQf0Y2u",
    "outputId": "3963fdb2-f55c-4cf8-9cb0-defd27706244"
   },
   "outputs": [
    {
     "data": {
      "text/plain": [
       "{'3pc',\n",
       " 'a/n',\n",
       " 'aes-sp3-d',\n",
       " 'any',\n",
       " 'argus',\n",
       " 'aris',\n",
       " 'arp',\n",
       " 'ax.25',\n",
       " 'bbn-rcc',\n",
       " 'bna',\n",
       " 'br-sat-mon',\n",
       " 'cbt',\n",
       " 'cftp',\n",
       " 'chaos',\n",
       " 'compaq-peer',\n",
       " 'cphb',\n",
       " 'cpnx',\n",
       " 'crtp',\n",
       " 'crudp',\n",
       " 'dcn',\n",
       " 'ddp',\n",
       " 'ddx',\n",
       " 'dgp',\n",
       " 'egp',\n",
       " 'eigrp',\n",
       " 'emcon',\n",
       " 'encap',\n",
       " 'etherip',\n",
       " 'fc',\n",
       " 'fire',\n",
       " 'ggp',\n",
       " 'gmtp',\n",
       " 'gre',\n",
       " 'hmp',\n",
       " 'i-nlsp',\n",
       " 'iatp',\n",
       " 'ib',\n",
       " 'idpr',\n",
       " 'idpr-cmtp',\n",
       " 'idrp',\n",
       " 'ifmp',\n",
       " 'igmp',\n",
       " 'igp',\n",
       " 'il',\n",
       " 'ip',\n",
       " 'ipcomp',\n",
       " 'ipcv',\n",
       " 'ipip',\n",
       " 'iplt',\n",
       " 'ipnip',\n",
       " 'ippc',\n",
       " 'ipv6',\n",
       " 'ipv6-frag',\n",
       " 'ipv6-no',\n",
       " 'ipv6-opts',\n",
       " 'ipv6-route',\n",
       " 'ipx-n-ip',\n",
       " 'irtp',\n",
       " 'isis',\n",
       " 'iso-ip',\n",
       " 'iso-tp4',\n",
       " 'kryptolan',\n",
       " 'l2tp',\n",
       " 'larp',\n",
       " 'leaf-1',\n",
       " 'leaf-2',\n",
       " 'merit-inp',\n",
       " 'mfe-nsp',\n",
       " 'mhrp',\n",
       " 'micp',\n",
       " 'mobile',\n",
       " 'mtp',\n",
       " 'mux',\n",
       " 'narp',\n",
       " 'netblt',\n",
       " 'nsfnet-igp',\n",
       " 'nvp',\n",
       " 'ospf',\n",
       " 'pgm',\n",
       " 'pim',\n",
       " 'pipe',\n",
       " 'pnni',\n",
       " 'pri-enc',\n",
       " 'prm',\n",
       " 'ptp',\n",
       " 'pup',\n",
       " 'pvp',\n",
       " 'qnx',\n",
       " 'rdp',\n",
       " 'rsvp',\n",
       " 'rvd',\n",
       " 'sat-expak',\n",
       " 'sat-mon',\n",
       " 'sccopmce',\n",
       " 'scps',\n",
       " 'sctp',\n",
       " 'sdrp',\n",
       " 'secure-vmtp',\n",
       " 'sep',\n",
       " 'skip',\n",
       " 'sm',\n",
       " 'smp',\n",
       " 'snp',\n",
       " 'sprite-rpc',\n",
       " 'sps',\n",
       " 'srp',\n",
       " 'st2',\n",
       " 'stp',\n",
       " 'sun-nd',\n",
       " 'swipe',\n",
       " 'tcf',\n",
       " 'tcp',\n",
       " 'tlsp',\n",
       " 'tp++',\n",
       " 'trunk-1',\n",
       " 'trunk-2',\n",
       " 'ttp',\n",
       " 'udp',\n",
       " 'unas',\n",
       " 'uti',\n",
       " 'vines',\n",
       " 'visa',\n",
       " 'vmtp',\n",
       " 'vrrp',\n",
       " 'wb-expak',\n",
       " 'wb-mon',\n",
       " 'wsn',\n",
       " 'xnet',\n",
       " 'xns-idp',\n",
       " 'xtp',\n",
       " 'zero'}"
      ]
     },
     "execution_count": 23,
     "metadata": {},
     "output_type": "execute_result"
    }
   ],
   "source": [
    "set(X_train['proto'])"
   ]
  },
  {
   "cell_type": "code",
   "execution_count": 24,
   "metadata": {
    "id": "s0tHIBIp0cN-"
   },
   "outputs": [],
   "source": [
    "import pandas as pd\n",
    "\n",
    "# Assuming you have a DataFrame called 'df' with columns 'proto', 'service', and 'state'\n",
    "from sklearn.preprocessing import LabelEncoder\n",
    "\n",
    "label_encoder = LabelEncoder()\n",
    "\n",
    "# Apply label encoding to 'proto' column\n",
    "X_train['proto_e'] = label_encoder.fit_transform(X_train['proto'])\n",
    "\n",
    "# Apply label encoding to 'service' column\n",
    "X_train['service_e'] = label_encoder.fit_transform(X_train['service'])\n",
    "\n",
    "# Apply label encoding to 'state' column\n",
    "X_train['state_e'] = label_encoder.fit_transform(X_train['state'])\n",
    "# Drop the original columns\n",
    "X_train.drop(columns=['proto', 'service', 'state'], inplace=True)"
   ]
  },
  {
   "cell_type": "code",
   "execution_count": 25,
   "metadata": {
    "colab": {
     "base_uri": "https://localhost:8080/"
    },
    "id": "1X6b_rqx0egr",
    "outputId": "a1b93cd2-d032-4b4e-ba00-3260a412236b"
   },
   "outputs": [
    {
     "data": {
      "text/plain": [
       "{0,\n",
       " 1,\n",
       " 2,\n",
       " 3,\n",
       " 4,\n",
       " 5,\n",
       " 6,\n",
       " 7,\n",
       " 8,\n",
       " 9,\n",
       " 10,\n",
       " 11,\n",
       " 12,\n",
       " 13,\n",
       " 14,\n",
       " 15,\n",
       " 16,\n",
       " 17,\n",
       " 18,\n",
       " 19,\n",
       " 20,\n",
       " 21,\n",
       " 22,\n",
       " 23,\n",
       " 24,\n",
       " 25,\n",
       " 26,\n",
       " 27,\n",
       " 28,\n",
       " 29,\n",
       " 30,\n",
       " 31,\n",
       " 32,\n",
       " 33,\n",
       " 34,\n",
       " 35,\n",
       " 36,\n",
       " 37,\n",
       " 38,\n",
       " 39,\n",
       " 40,\n",
       " 41,\n",
       " 42,\n",
       " 43,\n",
       " 44,\n",
       " 45,\n",
       " 46,\n",
       " 47,\n",
       " 48,\n",
       " 49,\n",
       " 50,\n",
       " 51,\n",
       " 52,\n",
       " 53,\n",
       " 54,\n",
       " 55,\n",
       " 56,\n",
       " 57,\n",
       " 58,\n",
       " 59,\n",
       " 60,\n",
       " 61,\n",
       " 62,\n",
       " 63,\n",
       " 64,\n",
       " 65,\n",
       " 66,\n",
       " 67,\n",
       " 68,\n",
       " 69,\n",
       " 70,\n",
       " 71,\n",
       " 72,\n",
       " 73,\n",
       " 74,\n",
       " 75,\n",
       " 76,\n",
       " 77,\n",
       " 78,\n",
       " 79,\n",
       " 80,\n",
       " 81,\n",
       " 82,\n",
       " 83,\n",
       " 84,\n",
       " 85,\n",
       " 86,\n",
       " 87,\n",
       " 88,\n",
       " 89,\n",
       " 90,\n",
       " 91,\n",
       " 92,\n",
       " 93,\n",
       " 94,\n",
       " 95,\n",
       " 96,\n",
       " 97,\n",
       " 98,\n",
       " 99,\n",
       " 100,\n",
       " 101,\n",
       " 102,\n",
       " 103,\n",
       " 104,\n",
       " 105,\n",
       " 106,\n",
       " 107,\n",
       " 108,\n",
       " 109,\n",
       " 110,\n",
       " 111,\n",
       " 112,\n",
       " 113,\n",
       " 114,\n",
       " 115,\n",
       " 116,\n",
       " 117,\n",
       " 118,\n",
       " 119,\n",
       " 120,\n",
       " 121,\n",
       " 122,\n",
       " 123,\n",
       " 124,\n",
       " 125,\n",
       " 126,\n",
       " 127,\n",
       " 128,\n",
       " 129,\n",
       " 130}"
      ]
     },
     "execution_count": 25,
     "metadata": {},
     "output_type": "execute_result"
    }
   ],
   "source": [
    "set(X_train['proto_e'])"
   ]
  },
  {
   "cell_type": "code",
   "execution_count": 26,
   "metadata": {
    "colab": {
     "base_uri": "https://localhost:8080/"
    },
    "id": "inTk3F8lk8_d",
    "outputId": "ac39db1d-f5ad-4fe2-fda4-dd807e959089"
   },
   "outputs": [
    {
     "name": "stdout",
     "output_type": "stream",
     "text": [
      "<class 'pandas.core.frame.DataFrame'>\n",
      "RangeIndex: 82332 entries, 0 to 82331\n",
      "Data columns (total 43 columns):\n",
      " #   Column             Non-Null Count  Dtype  \n",
      "---  ------             --------------  -----  \n",
      " 0   id                 82332 non-null  int64  \n",
      " 1   dur                82332 non-null  float64\n",
      " 2   spkts              82332 non-null  int64  \n",
      " 3   dpkts              82332 non-null  int64  \n",
      " 4   sbytes             82332 non-null  int64  \n",
      " 5   dbytes             82332 non-null  int64  \n",
      " 6   rate               82332 non-null  float64\n",
      " 7   sttl               82332 non-null  int64  \n",
      " 8   dttl               82332 non-null  int64  \n",
      " 9   sload              82332 non-null  float64\n",
      " 10  dload              82332 non-null  float64\n",
      " 11  sloss              82332 non-null  int64  \n",
      " 12  dloss              82332 non-null  int64  \n",
      " 13  sinpkt             82332 non-null  float64\n",
      " 14  dinpkt             82332 non-null  float64\n",
      " 15  sjit               82332 non-null  float64\n",
      " 16  djit               82332 non-null  float64\n",
      " 17  swin               82332 non-null  int64  \n",
      " 18  stcpb              82332 non-null  int64  \n",
      " 19  dtcpb              82332 non-null  int64  \n",
      " 20  dwin               82332 non-null  int64  \n",
      " 21  tcprtt             82332 non-null  float64\n",
      " 22  synack             82332 non-null  float64\n",
      " 23  ackdat             82332 non-null  float64\n",
      " 24  smean              82332 non-null  int64  \n",
      " 25  dmean              82332 non-null  int64  \n",
      " 26  trans_depth        82332 non-null  int64  \n",
      " 27  response_body_len  82332 non-null  int64  \n",
      " 28  ct_srv_src         82332 non-null  int64  \n",
      " 29  ct_state_ttl       82332 non-null  int64  \n",
      " 30  ct_dst_ltm         82332 non-null  int64  \n",
      " 31  ct_src_dport_ltm   82332 non-null  int64  \n",
      " 32  ct_dst_sport_ltm   82332 non-null  int64  \n",
      " 33  ct_dst_src_ltm     82332 non-null  int64  \n",
      " 34  is_ftp_login       82332 non-null  int64  \n",
      " 35  ct_ftp_cmd         82332 non-null  int64  \n",
      " 36  ct_flw_http_mthd   82332 non-null  int64  \n",
      " 37  ct_src_ltm         82332 non-null  int64  \n",
      " 38  ct_srv_dst         82332 non-null  int64  \n",
      " 39  is_sm_ips_ports    82332 non-null  int64  \n",
      " 40  proto_e            82332 non-null  int32  \n",
      " 41  service_e          82332 non-null  int32  \n",
      " 42  state_e            82332 non-null  int32  \n",
      "dtypes: float64(11), int32(3), int64(29)\n",
      "memory usage: 26.1 MB\n"
     ]
    }
   ],
   "source": [
    "X_train.info()"
   ]
  },
  {
   "cell_type": "code",
   "execution_count": 27,
   "metadata": {
    "colab": {
     "base_uri": "https://localhost:8080/"
    },
    "id": "i5ZN35PRlC7W",
    "outputId": "154438aa-7ea7-47c3-b95d-3c5fe1a2e705"
   },
   "outputs": [
    {
     "data": {
      "text/plain": [
       "(82332,)"
      ]
     },
     "execution_count": 27,
     "metadata": {},
     "output_type": "execute_result"
    }
   ],
   "source": [
    "y_train.shape"
   ]
  },
  {
   "cell_type": "code",
   "execution_count": 28,
   "metadata": {
    "colab": {
     "base_uri": "https://localhost:8080/"
    },
    "id": "Hmyc6niblWgO",
    "outputId": "b39a7e54-6f7a-459e-d35d-7deba6ced310"
   },
   "outputs": [
    {
     "data": {
      "text/plain": [
       "(82332, 43)"
      ]
     },
     "execution_count": 28,
     "metadata": {},
     "output_type": "execute_result"
    }
   ],
   "source": [
    "X_train.shape"
   ]
  },
  {
   "cell_type": "code",
   "execution_count": 29,
   "metadata": {
    "colab": {
     "base_uri": "https://localhost:8080/"
    },
    "id": "BQlvIDAAlam7",
    "outputId": "4155bbd1-162d-4b58-ea35-ecae9ec96549"
   },
   "outputs": [
    {
     "data": {
      "text/plain": [
       "(82332,)"
      ]
     },
     "execution_count": 29,
     "metadata": {},
     "output_type": "execute_result"
    }
   ],
   "source": [
    "y_train.shape"
   ]
  },
  {
   "cell_type": "code",
   "execution_count": 30,
   "metadata": {
    "colab": {
     "base_uri": "https://localhost:8080/",
     "height": 466
    },
    "id": "X3PMOXErbA17",
    "outputId": "f45fb055-7aa1-47c6-9f86-543b52f606d5"
   },
   "outputs": [
    {
     "data": {
      "text/plain": [
       "<Axes: xlabel='Class', ylabel='count'>"
      ]
     },
     "execution_count": 30,
     "metadata": {},
     "output_type": "execute_result"
    },
    {
     "data": {
      "image/png": "[encoded data removed]",
      "text/plain": [
       "<Figure size 640x480 with 1 Axes>"
      ]
     },
     "metadata": {},
     "output_type": "display_data"
    }
   ],
   "source": [
    "sns.countplot(x=y_train)"
   ]
  },
  {
   "cell_type": "code",
   "execution_count": 31,
   "metadata": {
    "colab": {
     "base_uri": "https://localhost:8080/"
    },
    "id": "UJBiJU5w0hKA",
    "outputId": "23a79dc5-e9d5-4bed-ca64-acc9eb948381"
   },
   "outputs": [
    {
     "name": "stdout",
     "output_type": "stream",
     "text": [
      "<class 'pandas.core.frame.DataFrame'>\n",
      "RangeIndex: 82332 entries, 0 to 82331\n",
      "Data columns (total 43 columns):\n",
      " #   Column             Non-Null Count  Dtype  \n",
      "---  ------             --------------  -----  \n",
      " 0   id                 82332 non-null  int64  \n",
      " 1   dur                82332 non-null  float64\n",
      " 2   spkts              82332 non-null  int64  \n",
      " 3   dpkts              82332 non-null  int64  \n",
      " 4   sbytes             82332 non-null  int64  \n",
      " 5   dbytes             82332 non-null  int64  \n",
      " 6   rate               82332 non-null  float64\n",
      " 7   sttl               82332 non-null  int64  \n",
      " 8   dttl               82332 non-null  int64  \n",
      " 9   sload              82332 non-null  float64\n",
      " 10  dload              82332 non-null  float64\n",
      " 11  sloss              82332 non-null  int64  \n",
      " 12  dloss              82332 non-null  int64  \n",
      " 13  sinpkt             82332 non-null  float64\n",
      " 14  dinpkt             82332 non-null  float64\n",
      " 15  sjit               82332 non-null  float64\n",
      " 16  djit               82332 non-null  float64\n",
      " 17  swin               82332 non-null  int64  \n",
      " 18  stcpb              82332 non-null  int64  \n",
      " 19  dtcpb              82332 non-null  int64  \n",
      " 20  dwin               82332 non-null  int64  \n",
      " 21  tcprtt             82332 non-null  float64\n",
      " 22  synack             82332 non-null  float64\n",
      " 23  ackdat             82332 non-null  float64\n",
      " 24  smean              82332 non-null  int64  \n",
      " 25  dmean              82332 non-null  int64  \n",
      " 26  trans_depth        82332 non-null  int64  \n",
      " 27  response_body_len  82332 non-null  int64  \n",
      " 28  ct_srv_src         82332 non-null  int64  \n",
      " 29  ct_state_ttl       82332 non-null  int64  \n",
      " 30  ct_dst_ltm         82332 non-null  int64  \n",
      " 31  ct_src_dport_ltm   82332 non-null  int64  \n",
      " 32  ct_dst_sport_ltm   82332 non-null  int64  \n",
      " 33  ct_dst_src_ltm     82332 non-null  int64  \n",
      " 34  is_ftp_login       82332 non-null  int64  \n",
      " 35  ct_ftp_cmd         82332 non-null  int64  \n",
      " 36  ct_flw_http_mthd   82332 non-null  int64  \n",
      " 37  ct_src_ltm         82332 non-null  int64  \n",
      " 38  ct_srv_dst         82332 non-null  int64  \n",
      " 39  is_sm_ips_ports    82332 non-null  int64  \n",
      " 40  proto_e            82332 non-null  int32  \n",
      " 41  service_e          82332 non-null  int32  \n",
      " 42  state_e            82332 non-null  int32  \n",
      "dtypes: float64(11), int32(3), int64(29)\n",
      "memory usage: 26.1 MB\n"
     ]
    }
   ],
   "source": [
    "X_train.info()"
   ]
  },
  {
   "cell_type": "markdown",
   "metadata": {
    "id": "w4AzKckL0mjT"
   },
   "source": [
    "test data spliting"
   ]
  },
  {
   "cell_type": "code",
   "execution_count": 32,
   "metadata": {
    "id": "TxLFeh2h0lrg"
   },
   "outputs": [],
   "source": [
    "X_test = Test.iloc[:,:-1]\n",
    "y_test = Test.iloc[:,-1]"
   ]
  },
  {
   "cell_type": "code",
   "execution_count": 33,
   "metadata": {
    "colab": {
     "base_uri": "https://localhost:8080/"
    },
    "id": "KY-mGnwi3rgN",
    "outputId": "9c3c3ff3-3a77-4d1f-8e1a-a70f064e4cf4"
   },
   "outputs": [
    {
     "data": {
      "text/plain": [
       "{0, 1, 2, 3, 4, 5, 6, 7, 8, 9}"
      ]
     },
     "execution_count": 33,
     "metadata": {},
     "output_type": "execute_result"
    }
   ],
   "source": [
    "set(y_test)"
   ]
  },
  {
   "cell_type": "code",
   "execution_count": 34,
   "metadata": {
    "id": "z2YSJt2I0pLF"
   },
   "outputs": [],
   "source": [
    "import pandas as pd\n",
    "\n",
    "# Assuming you have a DataFrame called 'df' with columns 'proto', 'service', and 'state'\n",
    "from sklearn.preprocessing import LabelEncoder\n",
    "\n",
    "label_encoder = LabelEncoder()\n",
    "\n",
    "# Apply label encoding to 'proto' column\n",
    "X_test['proto_e'] = label_encoder.fit_transform(X_test['proto'])\n",
    "\n",
    "# Apply label encoding to 'service' column\n",
    "X_test['service_e'] = label_encoder.fit_transform(X_test['service'])\n",
    "\n",
    "# Apply label encoding to 'state' column\n",
    "X_test['state_e'] = label_encoder.fit_transform(X_test['state'])\n",
    "# Drop the original columns\n",
    "X_test.drop(columns=['proto', 'service', 'state'], inplace=True)"
   ]
  },
  {
   "cell_type": "code",
   "execution_count": 35,
   "metadata": {},
   "outputs": [
    {
     "name": "stdout",
     "output_type": "stream",
     "text": [
      "Defaulting to user installation because normal site-packages is not writeable\n",
      "Requirement already satisfied: imbalanced-learn in c:\\users\\lenovo\\appdata\\roaming\\python\\python311\\site-packages (0.11.0)\n",
      "Requirement already satisfied: numpy>=1.17.3 in c:\\users\\lenovo\\appdata\\roaming\\python\\python311\\site-packages (from imbalanced-learn) (1.24.3)\n",
      "Requirement already satisfied: scipy>=1.5.0 in c:\\users\\lenovo\\appdata\\roaming\\python\\python311\\site-packages (from imbalanced-learn) (1.11.1)\n",
      "Requirement already satisfied: scikit-learn>=1.0.2 in c:\\users\\lenovo\\appdata\\roaming\\python\\python311\\site-packages (from imbalanced-learn) (1.3.0)\n",
      "Requirement already satisfied: joblib>=1.1.1 in c:\\users\\lenovo\\appdata\\roaming\\python\\python311\\site-packages (from imbalanced-learn) (1.3.1)\n",
      "Requirement already satisfied: threadpoolctl>=2.0.0 in c:\\users\\lenovo\\appdata\\roaming\\python\\python311\\site-packages (from imbalanced-learn) (3.2.0)\n",
      "Note: you may need to restart the kernel to use updated packages.\n"
     ]
    }
   ],
   "source": [
    "pip install imbalanced-learn\n"
   ]
  },
  {
   "cell_type": "code",
   "execution_count": 36,
   "metadata": {
    "colab": {
     "base_uri": "https://localhost:8080/",
     "height": 105
    },
    "id": "PV8WulEd1j1P",
    "outputId": "b0fc7f66-2b90-406e-b340-a0014627eb9e"
   },
   "outputs": [
    {
     "name": "stdout",
     "output_type": "stream",
     "text": [
      "Original class distribution: Counter({0: 37000, 9: 18871, 4: 11132, 6: 6062, 3: 4089, 1: 3496, 5: 677, 2: 583, 8: 378, 7: 44})\n",
      "Oversampled class distribution: Counter({0: 37000, 1: 37000, 2: 37000, 3: 37000, 4: 37000, 5: 37000, 6: 37000, 7: 37000, 8: 37000, 9: 37000})\n"
     ]
    }
   ],
   "source": [
    "import numpy as np\n",
    "from collections import Counter\n",
    "from imblearn.over_sampling import RandomOverSampler\n",
    "\n",
    "# Assuming you have the following data:\n",
    "# X_train: Input data with shape (num_samples, num_features)\n",
    "# y_train: Target labels with shape (num_samples,)\n",
    "\n",
    "# Check the class distribution before oversampling\n",
    "print(\"Original class distribution:\", Counter(y_train))\n",
    "\n",
    "# Create an instance of RandomOverSampler\n",
    "ros = RandomOverSampler(random_state=42)\n",
    "\n",
    "# Reshape y_train to have 1D shape (num_samples,)\n",
    "y_train = np.reshape(y_train, (-1,))\n",
    "\n",
    "# Perform the oversampling\n",
    "x_train, y_train = ros.fit_resample(X_train, y_train)\n",
    "\n",
    "# Check the class distribution after oversampling\n",
    "print(\"Oversampled class distribution:\", Counter(y_train))"
   ]
  },
  {
   "cell_type": "code",
   "execution_count": 37,
   "metadata": {
    "colab": {
     "base_uri": "https://localhost:8080/",
     "height": 105
    },
    "id": "vlvRwtmLb8dN",
    "outputId": "3ce5ba6a-3457-45b6-e71d-485930c7eac1"
   },
   "outputs": [
    {
     "name": "stdout",
     "output_type": "stream",
     "text": [
      "Original class distribution: Counter({0: 56000, 9: 40000, 4: 33393, 6: 18184, 3: 12264, 1: 10491, 5: 2000, 2: 1746, 8: 1133, 7: 130})\n",
      "Oversampled class distribution: Counter({0: 56000, 2: 56000, 5: 56000, 6: 56000, 8: 56000, 1: 56000, 4: 56000, 3: 56000, 7: 56000, 9: 56000})\n"
     ]
    }
   ],
   "source": [
    "import numpy as np\n",
    "from collections import Counter\n",
    "from imblearn.over_sampling import RandomOverSampler\n",
    "\n",
    "# Assuming you have the following data:\n",
    "# X_train: Input data with shape (num_samples, num_features)\n",
    "# y_train: Target labels with shape (num_samples,)\n",
    "\n",
    "# Check the class distribution before oversampling\n",
    "print(\"Original class distribution:\", Counter(y_test))\n",
    "\n",
    "# Create an instance of RandomOverSampler\n",
    "ros = RandomOverSampler(random_state=42)\n",
    "\n",
    "# Reshape y_train to have 1D shape (num_samples,)\n",
    "y_test = np.reshape(y_test, (-1,))\n",
    "\n",
    "# Perform the oversampling\n",
    "x_test, y_test = ros.fit_resample(X_test, y_test)\n",
    "\n",
    "# Check the class distribution after oversampling\n",
    "print(\"Oversampled class distribution:\", Counter(y_test))"
   ]
  },
  {
   "cell_type": "code",
   "execution_count": 38,
   "metadata": {
    "colab": {
     "base_uri": "https://localhost:8080/",
     "height": 466
    },
    "id": "QZx-jSbWKzzy",
    "outputId": "b86c07bd-4e11-4953-fede-eafe76150664"
   },
   "outputs": [
    {
     "data": {
      "text/plain": [
       "<Axes: ylabel='count'>"
      ]
     },
     "execution_count": 38,
     "metadata": {},
     "output_type": "execute_result"
    },
    {
     "data": {
      "image/png": "[encoded data removed]",
      "text/plain": [
       "<Figure size 640x480 with 1 Axes>"
      ]
     },
     "metadata": {},
     "output_type": "display_data"
    }
   ],
   "source": [
    "sns.countplot(x=y_train)"
   ]
  },
  {
   "cell_type": "code",
   "execution_count": 39,
   "metadata": {
    "colab": {
     "base_uri": "https://localhost:8080/",
     "height": 466
    },
    "id": "1Op2Ug_Ach1V",
    "outputId": "b61f90c2-a0e8-459f-b6c3-6ebc10f129e5"
   },
   "outputs": [
    {
     "data": {
      "text/plain": [
       "<Axes: ylabel='count'>"
      ]
     },
     "execution_count": 39,
     "metadata": {},
     "output_type": "execute_result"
    },
    {
     "data": {
      "image/png": "[encoded data removed]",
      "text/plain": [
       "<Figure size 640x480 with 1 Axes>"
      ]
     },
     "metadata": {},
     "output_type": "display_data"
    }
   ],
   "source": [
    "sns.countplot(x=y_test)"
   ]
  },
  {
   "cell_type": "code",
   "execution_count": 40,
   "metadata": {
    "id": "5p4om5Zh0tFp"
   },
   "outputs": [],
   "source": [
    "# 6 + 5 + 6 unique = 17, therefore the first 17 rows will be the categories that have been encoded, start scaling from row 18 only.\n",
    "\n",
    "from sklearn.preprocessing import StandardScaler\n",
    "sc = StandardScaler()\n",
    "x_train = sc.fit_transform(x_train)\n",
    "x_test = sc.fit_transform(x_test)"
   ]
  },
  {
   "cell_type": "code",
   "execution_count": 41,
   "metadata": {
    "colab": {
     "base_uri": "https://localhost:8080/"
    },
    "id": "W_TYfo7qoxUj",
    "outputId": "c617e0a4-6fd3-4f58-a030-26f9e939042c"
   },
   "outputs": [
    {
     "data": {
      "text/plain": [
       "(370000, 43)"
      ]
     },
     "execution_count": 41,
     "metadata": {},
     "output_type": "execute_result"
    }
   ],
   "source": [
    "x_train.shape"
   ]
  },
  {
   "cell_type": "code",
   "execution_count": 42,
   "metadata": {
    "colab": {
     "base_uri": "https://localhost:8080/"
    },
    "id": "SmuUd0DW0y9-",
    "outputId": "1b6e6975-00e3-4ae8-c310-a00ddc7dbd17"
   },
   "outputs": [
    {
     "name": "stdout",
     "output_type": "stream",
     "text": [
      "Model: \"model\"\n",
      "__________________________________________________________________________________________________\n",
      " Layer (type)                Output Shape                 Param #   Connected to                  \n",
      "==================================================================================================\n",
      " input_1 (InputLayer)        [(None, 370000, 43)]         0         []                            \n",
      "                                                                                                  \n",
      " conv1d (Conv1D)             (None, 370000, 128)          16640     ['input_1[0][0]']             \n",
      "                                                                                                  \n",
      " conv1d_3 (Conv1D)           (None, 370000, 128)          16640     ['input_1[0][0]']             \n",
      "                                                                                                  \n",
      " conv1d_1 (Conv1D)           (None, 370000, 64)           24640     ['conv1d[0][0]']              \n",
      "                                                                                                  \n",
      " conv1d_4 (Conv1D)           (None, 370000, 64)           24640     ['conv1d_3[0][0]']            \n",
      "                                                                                                  \n",
      " conv1d_2 (Conv1D)           (None, 370000, 32)           6176      ['conv1d_1[0][0]']            \n",
      "                                                                                                  \n",
      " conv1d_5 (Conv1D)           (None, 370000, 32)           6176      ['conv1d_4[0][0]']            \n",
      "                                                                                                  \n",
      " tf.math.add (TFOpLambda)    (None, 370000, 32)           0         ['conv1d_2[0][0]',            \n",
      "                                                                     'conv1d_5[0][0]']            \n",
      "                                                                                                  \n",
      "==================================================================================================\n",
      "Total params: 94912 (370.75 KB)\n",
      "Trainable params: 94912 (370.75 KB)\n",
      "Non-trainable params: 0 (0.00 Byte)\n",
      "__________________________________________________________________________________________________\n",
      "Model: \"model_1\"\n",
      "_________________________________________________________________\n",
      " Layer (type)                Output Shape              Param #   \n",
      "=================================================================\n",
      " input_1 (InputLayer)        [(None, 370000, 43)]      0         \n",
      "                                                                 \n",
      " model (Functional)          (None, 370000, 32)        94912     \n",
      "                                                                 \n",
      " conv1d_transpose (Conv1DTr  (None, 370000, 32)        3104      \n",
      " anspose)                                                        \n",
      "                                                                 \n",
      " conv1d_transpose_1 (Conv1D  (None, 370000, 64)        6208      \n",
      " Transpose)                                                      \n",
      "                                                                 \n",
      " conv1d_transpose_2 (Conv1D  (None, 370000, 128)       24704     \n",
      " Transpose)                                                      \n",
      "                                                                 \n",
      " conv1d_transpose_3 (Conv1D  (None, 370000, 256)       98560     \n",
      " Transpose)                                                      \n",
      "                                                                 \n",
      " conv1d_transpose_4 (Conv1D  (None, 370000, 128)       98432     \n",
      " Transpose)                                                      \n",
      "                                                                 \n",
      " conv1d_transpose_5 (Conv1D  (None, 370000, 64)        24640     \n",
      " Transpose)                                                      \n",
      "                                                                 \n",
      " conv1d_transpose_6 (Conv1D  (None, 370000, 32)        6176      \n",
      " Transpose)                                                      \n",
      "                                                                 \n",
      " conv1d_transpose_7 (Conv1D  (None, 370000, 43)        4171      \n",
      " Transpose)                                                      \n",
      "                                                                 \n",
      " tf.reshape (TFOpLambda)     (None, 370000, 43)        0         \n",
      "                                                                 \n",
      "=================================================================\n",
      "Total params: 360907 (1.38 MB)\n",
      "Trainable params: 360907 (1.38 MB)\n",
      "Non-trainable params: 0 (0.00 Byte)\n",
      "_________________________________________________________________\n",
      "1/1 [==============================] - 1s 1s/step\n",
      "1/1 [==============================] - 2s 2s/step\n"
     ]
    }
   ],
   "source": [
    "import tensorflow as tf\n",
    "from tensorflow.keras.layers import Input, Conv1D, GlobalAveragePooling1D, Dense, Softmax, Reshape, Multiply, Add, Concatenate, Flatten\n",
    "from tensorflow.keras.models import Model\n",
    "\n",
    "# Your data shapes\n",
    "timesteps = x_train.shape[0]\n",
    "input_dim = x_train.shape[1]\n",
    "\n",
    "inp = Input(shape=(timesteps,input_dim))# Define Channel Attention module\n",
    "class ChannelAttention(tf.keras.layers.Layer):\n",
    "    def __init__(self):\n",
    "        super(ChannelAttention, self).__init__()\n",
    "        self.avg_pool = GlobalAveragePooling1D()\n",
    "        self.fc = Dense(1, activation='relu')  # Use 1 output unit for channel attention\n",
    "        self.softmax = Softmax(axis=-1)\n",
    "        self.multiply = Multiply()\n",
    "\n",
    "    def call(self, x):\n",
    "        # Compute channel attention map\n",
    "        y = self.avg_pool(x)\n",
    "        y = self.fc(y)\n",
    "        y = self.softmax(y)\n",
    "        y = Reshape(target_shape=(1, 1, -1))(y)\n",
    "        attention_map = self.multiply([x, y])\n",
    "\n",
    "        # Combine attention map with original input\n",
    "        output = Add()([x, attention_map])\n",
    "        return output\n",
    "\n",
    "# Define Positional Attention module\n",
    "class PositionalAttention(tf.keras.layers.Layer):\n",
    "    def __init__(self):\n",
    "        super(PositionalAttention, self).__init__()\n",
    "\n",
    "    def build(self, input_shape):\n",
    "        self.query = Conv1D(input_shape[-1], kernel_size=1)\n",
    "        self.key = Conv1D(input_shape[-1], kernel_size=1)\n",
    "        self.value = Conv1D(input_shape[-1], kernel_size=1)\n",
    "\n",
    "    def call(self, inputs):\n",
    "        # Split the input into query, key, and value\n",
    "        query = self.query(inputs)\n",
    "        key = self.key(inputs)\n",
    "        value = self.value(inputs)\n",
    "\n",
    "        # Reshape query, key, and value for positional attention\n",
    "        query = tf.reshape(query, [-1, query.shape[1], query.shape[2], query.shape[3]])\n",
    "        key = tf.reshape(key, [-1, key.shape[1], key.shape[2], key.shape[3]])\n",
    "        value = tf.reshape(value, [-1, value.shape[1], value.shape[2], value.shape[3]])\n",
    "\n",
    "        # Compute attention scores\n",
    "        scores = tf.matmul(query, key, transpose_b=True)\n",
    "        scores = scores / tf.math.sqrt(tf.cast(query.shape[-1], tf.float32))\n",
    "\n",
    "        # Apply softmax activation to get attention probabilities\n",
    "        attention_probs = tf.nn.softmax(scores, axis=-1)\n",
    "\n",
    "        # Compute attention-weighted sum of value feature maps\n",
    "        attention_output = tf.matmul(attention_probs, value)\n",
    "        return attention_output\n",
    "\n",
    "\n",
    "\n",
    "# Define the autoencoder architecture\n",
    "# Encoder 1 with standard convolution layers and positional attention\n",
    "x1 = Conv1D(filters=128, kernel_size=3, padding='same', activation='relu')(inp)\n",
    "x1 = Conv1D(filters=64, kernel_size=3, padding='same', activation='relu')(x1)\n",
    "x1 = Conv1D(filters=32, kernel_size=3, padding='same', activation='relu')(x1)\n",
    "#x1_att = PositionalAttention(32,num_heads=4)(x1)\n",
    "\n",
    "# Encoder 2 with dilated convolution layers and channel attention\n",
    "x2 = Conv1D(filters=128, kernel_size=3, padding='same', dilation_rate=2, activation='relu')(inp)\n",
    "x2 = Conv1D(filters=64, kernel_size=3, padding='same', dilation_rate=4, activation='relu')(x2)\n",
    "x2 = Conv1D(filters=32, kernel_size=3, padding='same', dilation_rate=4, activation='relu')(x2)\n",
    "#x2_att = ChannelAttention(32)(x2)\n",
    "\n",
    "# Reshape x1 and x2 to have the same shape for addition\n",
    "# Reshape x1 and x2 to have the same shape for addition\n",
    "#x1_reshaped = tf.reshape(x1_att, [-1, timesteps, 32])\n",
    "#x2_reshaped = tf.reshape(x2_att, [-1, timesteps, 32])\n",
    "\n",
    "\n",
    "# Perform addition\n",
    "encoder_output = tf.add(x1, x2)\n",
    "\n",
    "# Create the encoder model\n",
    "encoder = Model(inputs=inp, outputs=encoder_output)\n",
    "\n",
    "# Print the summary of the encoder\n",
    "encoder.summary()\n",
    "\n",
    "#decoder part\n",
    "from tensorflow.keras.layers import Conv1DTranspose\n",
    "\n",
    "# Define the decoder architecture\n",
    "def create_decoder(encoder_output, input_dim, timesteps):\n",
    "    # Decoder 1\n",
    "    x = Conv1DTranspose(filters=32, kernel_size=3, padding='same', activation='relu')(encoder_output)\n",
    "    # Add more decoder layers as needed\n",
    "    x = Conv1DTranspose(filters=64, kernel_size=3, padding='same', activation='relu')(x)\n",
    "    x = Conv1DTranspose(filters=128, kernel_size=3, padding='same', activation='relu')(x)\n",
    "    x = Conv1DTranspose(filters=256, kernel_size=3, padding='same', activation='relu')(x)\n",
    "    x = Conv1DTranspose(filters=128, kernel_size=3, padding='same', activation='relu')(x)\n",
    "    x = Conv1DTranspose(filters=64, kernel_size=3, padding='same', activation='relu')(x)\n",
    "    x = Conv1DTranspose(filters=32, kernel_size=3, padding='same', activation='relu')(x)\n",
    "    # Final layer\n",
    "    decoded_output = Conv1DTranspose(filters=input_dim, kernel_size=3, padding='same', activation='sigmoid')(x)\n",
    "\n",
    "    # Reshape the output to match the original input shape\n",
    "    decoded_output = tf.reshape(decoded_output, [-1, timesteps, input_dim])\n",
    "\n",
    "    return decoded_output\n",
    "# Assuming you have the encoder model `encoder` already defined\n",
    "# Get the output of the encoder\n",
    "encoder_output = encoder(inp)\n",
    "\n",
    "# Create the decoder model\n",
    "decoder_output = create_decoder(encoder_output, input_dim, timesteps)\n",
    "\n",
    "decoder = Model(inputs=inp, outputs=decoder_output)\n",
    "\n",
    "# Print the summary of the decoder\n",
    "decoder.summary()\n",
    "\n",
    "import numpy as np\n",
    "# Expand dimensions to match expected input shape\n",
    "x_train_expanded = np.expand_dims(x_train, axis=0)\n",
    "x_test_expanded = np.expand_dims(x_test, axis=0)\n",
    "\n",
    "# Assuming you have the encoder model `encoder` already defined\n",
    "# Get the output of the encoder\n",
    "encoded_x_train = encoder.predict(x_train_expanded)  # Shape: (1, timesteps, 32)\n",
    "encoded_x_test = encoder.predict(x_test_expanded)    # Shape: (1, timesteps, 32)\n",
    "\n"
   ]
  },
  {
   "cell_type": "code",
   "execution_count": 43,
   "metadata": {
    "colab": {
     "base_uri": "https://localhost:8080/",
     "height": 105
    },
    "id": "ebHWSaVRz1lg",
    "outputId": "bd085179-f848-4112-e624-c76397f17451"
   },
   "outputs": [
    {
     "data": {
      "text/plain": [
       "'import numpy as np\\nfrom collections import Counter\\nfrom imblearn.over_sampling import RandomOverSampler\\n\\n# Assuming you have the following data:\\n# X_train: Input data with shape (num_samples, num_features)\\n# y_train: Target labels with shape (num_samples,)\\n\\n# Check the class distribution before oversampling\\nprint(\"Original class distribution:\", Counter(y_train))\\n\\n# Create an instance of RandomOverSampler\\nros = RandomOverSampler(random_state=42)\\n\\n# Reshape y_train to have 1D shape (num_samples,)\\ny_train = np.reshape(y_train, (-1,))\\n\\n# Perform the oversampling\\nX_train , y_train = ros.fit_resample(X_train, y_train)\\n\\n# Check the class distribution after oversampling\\nprint(\"Oversampled class distribution:\", Counter(y_train))'"
      ]
     },
     "execution_count": 43,
     "metadata": {},
     "output_type": "execute_result"
    }
   ],
   "source": [
    "'''import numpy as np\n",
    "from collections import Counter\n",
    "from imblearn.over_sampling import RandomOverSampler\n",
    "\n",
    "# Assuming you have the following data:\n",
    "# X_train: Input data with shape (num_samples, num_features)\n",
    "# y_train: Target labels with shape (num_samples,)\n",
    "\n",
    "# Check the class distribution before oversampling\n",
    "print(\"Original class distribution:\", Counter(y_train))\n",
    "\n",
    "# Create an instance of RandomOverSampler\n",
    "ros = RandomOverSampler(random_state=42)\n",
    "\n",
    "# Reshape y_train to have 1D shape (num_samples,)\n",
    "y_train = np.reshape(y_train, (-1,))\n",
    "\n",
    "# Perform the oversampling\n",
    "X_train , y_train = ros.fit_resample(X_train, y_train)\n",
    "\n",
    "# Check the class distribution after oversampling\n",
    "print(\"Oversampled class distribution:\", Counter(y_train))'''\n"
   ]
  },
  {
   "cell_type": "code",
   "execution_count": 44,
   "metadata": {
    "colab": {
     "base_uri": "https://localhost:8080/"
    },
    "id": "bg39Vfx5miGe",
    "outputId": "da4678e7-13a5-4cf9-d850-6f1993e1a325"
   },
   "outputs": [
    {
     "name": "stdout",
     "output_type": "stream",
     "text": [
      "encoded_x_train.shape (1, 370000, 32)\n",
      "y_train.shape (370000,)\n"
     ]
    }
   ],
   "source": [
    "print('encoded_x_train.shape',encoded_x_train.shape)\n",
    "print('y_train.shape',y_train.shape)"
   ]
  },
  {
   "cell_type": "code",
   "execution_count": 45,
   "metadata": {
    "colab": {
     "base_uri": "https://localhost:8080/"
    },
    "id": "tYYJt3RjBC8O",
    "outputId": "061ee5c5-2a9c-4a7c-c260-79a729addcbc"
   },
   "outputs": [
    {
     "name": "stdout",
     "output_type": "stream",
     "text": [
      "encoded_x_train.shape (1, 560000, 32)\n",
      "y_train.shape (560000,)\n"
     ]
    }
   ],
   "source": [
    "print('encoded_x_train.shape',encoded_x_test.shape)\n",
    "print('y_train.shape',y_test.shape)"
   ]
  },
  {
   "cell_type": "code",
   "execution_count": 46,
   "metadata": {
    "id": "IG_TJcu-mlsw"
   },
   "outputs": [],
   "source": [
    "from sklearn.model_selection import train_test_split\n",
    "# Assuming encoded_x_train.shape is (43, 63123, 32)\n",
    "# Assuming y_val.shape is (63123,)\n",
    "\n",
    "# Reshape the encoded_x_train to (63123, 43*32)\n",
    "x_train = encoded_x_train.reshape(encoded_x_train.shape[1],-1)\n",
    "x_test = encoded_x_test.reshape(encoded_x_test.shape[1],-1)\n",
    "\n"
   ]
  },
  {
   "cell_type": "code",
   "execution_count": 47,
   "metadata": {
    "colab": {
     "base_uri": "https://localhost:8080/"
    },
    "id": "7AKr624Em5zL",
    "outputId": "11382b43-ff5c-40f1-c2e5-4a61e9598664"
   },
   "outputs": [
    {
     "name": "stdout",
     "output_type": "stream",
     "text": [
      "x_train.shape (370000, 32)\n",
      "y_train.shape (370000,)\n",
      "x_val.shape (560000, 32)\n",
      "y_val.shape (560000,)\n"
     ]
    }
   ],
   "source": [
    "\n",
    "print('x_train.shape',x_train.shape)\n",
    "print('y_train.shape',y_train.shape)\n",
    "print('x_val.shape',x_test.shape)\n",
    "print('y_val.shape',y_test.shape)"
   ]
  },
  {
   "cell_type": "code",
   "execution_count": 48,
   "metadata": {
    "colab": {
     "base_uri": "https://localhost:8080/"
    },
    "id": "WTUWutUAEcjs",
    "outputId": "f84c5e60-1319-4c9d-a143-01769f129860"
   },
   "outputs": [
    {
     "data": {
      "text/plain": [
       "{0, 1, 2, 3, 4, 5, 6, 7, 8, 9}"
      ]
     },
     "execution_count": 48,
     "metadata": {},
     "output_type": "execute_result"
    }
   ],
   "source": [
    "set(y_train)"
   ]
  },
  {
   "cell_type": "code",
   "execution_count": 49,
   "metadata": {
    "id": "rEONHxLqgpsY"
   },
   "outputs": [],
   "source": [
    "import tensorflow as tf\n",
    "from tensorflow.keras.layers import Input, Conv1D, Add,Dense,Flatten,Dropout\n",
    "from tensorflow.keras.models import Model,Sequential"
   ]
  },
  {
   "cell_type": "code",
   "execution_count": 50,
   "metadata": {
    "colab": {
     "base_uri": "https://localhost:8080/"
    },
    "id": "Z_ASGy46t1D3",
    "outputId": "0396d4a9-e1ce-4261-b164-13840cf991e2"
   },
   "outputs": [
    {
     "name": "stdout",
     "output_type": "stream",
     "text": [
      "Unique values in y_train: [0 1 2 3 4 5 6 7 8 9]\n",
      "Unique values in y_test: [0 1 2 3 4 5 6 7 8 9]\n"
     ]
    }
   ],
   "source": [
    "unique_y_train = np.unique(y_train)\n",
    "print(\"Unique values in y_train:\", unique_y_train)\n",
    "\n",
    "unique_y_test = np.unique(y_test)\n",
    "print(\"Unique values in y_test:\", unique_y_test)"
   ]
  },
  {
   "cell_type": "code",
   "execution_count": 51,
   "metadata": {
    "colab": {
     "base_uri": "https://localhost:8080/"
    },
    "id": "etgqjSE01Pcg",
    "outputId": "31409a80-7c4f-4274-cfcb-c827c600a69d"
   },
   "outputs": [
    {
     "name": "stdout",
     "output_type": "stream",
     "text": [
      "Epoch 1/5\n",
      "11563/11563 [==============================] - 71s 6ms/step - loss: 1.1408 - accuracy: 0.5702 - val_loss: 1.6041 - val_accuracy: 0.5054\n",
      "Epoch 2/5\n",
      "11563/11563 [==============================] - 72s 6ms/step - loss: 1.0180 - accuracy: 0.6217 - val_loss: 1.6750 - val_accuracy: 0.5073\n",
      "Epoch 3/5\n",
      "11563/11563 [==============================] - 69s 6ms/step - loss: 0.9860 - accuracy: 0.6340 - val_loss: 1.5827 - val_accuracy: 0.5138\n",
      "Epoch 4/5\n",
      "11563/11563 [==============================] - 56s 5ms/step - loss: 0.9709 - accuracy: 0.6408 - val_loss: 1.5993 - val_accuracy: 0.5117\n",
      "Epoch 5/5\n",
      "11563/11563 [==============================] - 56s 5ms/step - loss: 0.9587 - accuracy: 0.6467 - val_loss: 1.6116 - val_accuracy: 0.5088\n"
     ]
    }
   ],
   "source": [
    "# creating model\n",
    "mlp = Sequential()\n",
    "mlp.add(Dense(units=320, input_dim=x_train.shape[1], activation='relu'))\n",
    "mlp.add(Dropout(0.2))\n",
    "mlp.add(Dense(units=160, activation='relu'))\n",
    "mlp.add(Dropout(0.2))\n",
    "mlp.add(Dense(units=80, activation='relu'))\n",
    "mlp.add(Dropout(0.2))\n",
    "mlp.add(Dense(units=40, activation='relu'))\n",
    "mlp.add(Dropout(0.2))\n",
    "mlp.add(Dense(units=10, activation='Softmax'))\n",
    "#mlp.add(Dense(units=2, activation='Softmax'))\n",
    "from keras.utils import to_categorical\n",
    "y_train_c = to_categorical(y_train)\n",
    "y_test_c = to_categorical(y_test)\n",
    "# Compile the model\n",
    "mlp.compile(loss='categorical_crossentropy', optimizer='adam', metrics=['accuracy'])\n",
    "history=mlp.fit(x_train,y_train_c,epochs=5,batch_size=32, validation_data=(x_test,y_test_c))"
   ]
  },
  {
   "cell_type": "code",
   "execution_count": 52,
   "metadata": {
    "colab": {
     "base_uri": "https://localhost:8080/"
    },
    "id": "xivj2hNaG559",
    "outputId": "0bb76f26-72a0-48a2-d27b-09625b3a7f84"
   },
   "outputs": [
    {
     "name": "stdout",
     "output_type": "stream",
     "text": [
      "Classification  0\n",
      "1157/1157 [==============================] - 2s 1ms/step - loss: 0.5029 - accuracy: 0.8302\n",
      "Accuracy on training attacks: [0.5029136538505554, 0.8301621675491333]\n",
      "------------------\n",
      "Classification  1\n",
      "1157/1157 [==============================] - 2s 1ms/step - loss: 1.2905 - accuracy: 0.4042\n",
      "Accuracy on training attacks: [1.2904579639434814, 0.4041621685028076]\n",
      "------------------\n",
      "Classification  2\n",
      "1157/1157 [==============================] - 1s 1ms/step - loss: 0.9087 - accuracy: 0.6523\n",
      "Accuracy on training attacks: [0.9086534976959229, 0.6522702574729919]\n",
      "------------------\n",
      "Classification  3\n",
      "1157/1157 [==============================] - 1s 1ms/step - loss: 1.1780 - accuracy: 0.6221\n",
      "Accuracy on training attacks: [1.177994966506958, 0.6220811009407043]\n",
      "------------------\n",
      "Classification  4\n",
      "1157/1157 [==============================] - 1s 1ms/step - loss: 0.9964 - accuracy: 0.6447\n",
      "Accuracy on training attacks: [0.996410071849823, 0.6446756720542908]\n",
      "------------------\n",
      "Classification  5\n",
      "1157/1157 [==============================] - 2s 1ms/step - loss: 0.8491 - accuracy: 0.5445\n",
      "Accuracy on training attacks: [0.8491446375846863, 0.5444594621658325]\n",
      "------------------\n",
      "Classification  6\n",
      "1157/1157 [==============================] - 2s 1ms/step - loss: 1.1319 - accuracy: 0.6132\n",
      "Accuracy on training attacks: [1.1319341659545898, 0.613189160823822]\n",
      "------------------\n",
      "Classification  7\n",
      "1157/1157 [==============================] - 2s 1ms/step - loss: 0.3682 - accuracy: 0.8958\n",
      "Accuracy on training attacks: [0.36819523572921753, 0.8958107829093933]\n",
      "------------------\n",
      "Classification  8\n",
      "1157/1157 [==============================] - 2s 1ms/step - loss: 0.8232 - accuracy: 0.7533\n",
      "Accuracy on training attacks: [0.8231908679008484, 0.7532702684402466]\n",
      "------------------\n",
      "Classification  9\n",
      "1157/1157 [==============================] - 2s 2ms/step - loss: 0.5182 - accuracy: 0.8472\n",
      "Accuracy on training attacks: [0.5181945562362671, 0.8471621870994568]\n",
      "------------------\n"
     ]
    }
   ],
   "source": [
    "# Assuming you have imported the necessary modules and defined the model 'mlp'\n",
    "from tensorflow import keras\n",
    "import pandas as pd\n",
    "\n",
    "# Convert 'y_test' from Series to DataFrame with one-hot encoding\n",
    "y_train_df = pd.get_dummies(y_train)\n",
    "\n",
    "# Iterate over each class\n",
    "for i in y_train_df.columns:\n",
    "    print(\"Classification \", i)\n",
    "\n",
    "    # Find row indices where the class is equal to 'i'\n",
    "    row_indices = y_train_df.index[y_train_df[i] == 1]\n",
    "\n",
    "    # Extract the corresponding samples and labels for the class 'i'\n",
    "    y_t = y_train_df.loc[row_indices]\n",
    "    x_t = x_train[row_indices]  # Make sure x_test is defined properly\n",
    "\n",
    "    # Evaluate the MLP model on the samples for the class 'i'\n",
    "    accuracy = mlp.evaluate(x_t, y_t)  # Verify 'mlp' definition and compilation\n",
    "    print(\"Accuracy on training attacks:\", accuracy)\n",
    "    print(\"------------------\")\n"
   ]
  },
  {
   "cell_type": "code",
   "execution_count": 56,
   "metadata": {
    "colab": {
     "base_uri": "https://localhost:8080/"
    },
    "id": "TnpU5_p_ybzJ",
    "outputId": "6e293a0d-4154-4e10-c208-cd15955105c2"
   },
   "outputs": [
    {
     "name": "stdout",
     "output_type": "stream",
     "text": [
      "Classification for class 0\n",
      "1157/1157 [==============================] - 2s 2ms/step\n",
      "Confusion Matrix:\n",
      " [[30716   194   214   173  1565   167  2790   670   399   112]\n",
      " [    0     0     0     0     0     0     0     0     0     0]\n",
      " [    0     0     0     0     0     0     0     0     0     0]\n",
      " [    0     0     0     0     0     0     0     0     0     0]\n",
      " [    0     0     0     0     0     0     0     0     0     0]\n",
      " [    0     0     0     0     0     0     0     0     0     0]\n",
      " [    0     0     0     0     0     0     0     0     0     0]\n",
      " [    0     0     0     0     0     0     0     0     0     0]\n",
      " [    0     0     0     0     0     0     0     0     0     0]\n",
      " [    0     0     0     0     0     0     0     0     0     0]]\n",
      "Precision: 1.0\n",
      "Recall: 0.8301621621621622\n",
      "------------------\n",
      "Classification for class 1\n",
      "  49/1157 [>.............................] - ETA: 2s"
     ]
    },
    {
     "name": "stderr",
     "output_type": "stream",
     "text": [
      "C:\\Users\\lenovo\\AppData\\Roaming\\Python\\Python311\\site-packages\\sklearn\\metrics\\_classification.py:1469: UndefinedMetricWarning: Recall is ill-defined and being set to 0.0 in labels with no true samples. Use `zero_division` parameter to control this behavior.\n",
      "  _warn_prf(average, modifier, msg_start, len(result))\n"
     ]
    },
    {
     "name": "stdout",
     "output_type": "stream",
     "text": [
      "1157/1157 [==============================] - 2s 2ms/step\n",
      "Confusion Matrix:\n",
      " [[    0     0     0     0     0     0     0     0     0     0]\n",
      " [  133 14954   410  2915  2256   285  2722   887 12156   282]\n",
      " [    0     0     0     0     0     0     0     0     0     0]\n",
      " [    0     0     0     0     0     0     0     0     0     0]\n",
      " [    0     0     0     0     0     0     0     0     0     0]\n",
      " [    0     0     0     0     0     0     0     0     0     0]\n",
      " [    0     0     0     0     0     0     0     0     0     0]\n",
      " [    0     0     0     0     0     0     0     0     0     0]\n",
      " [    0     0     0     0     0     0     0     0     0     0]\n",
      " [    0     0     0     0     0     0     0     0     0     0]]\n",
      "Precision: 1.0\n",
      "Recall: 0.40416216216216216\n",
      "------------------\n",
      "Classification for class 2\n",
      "  68/1157 [>.............................] - ETA: 1s"
     ]
    },
    {
     "name": "stderr",
     "output_type": "stream",
     "text": [
      "C:\\Users\\lenovo\\AppData\\Roaming\\Python\\Python311\\site-packages\\sklearn\\metrics\\_classification.py:1469: UndefinedMetricWarning: Recall is ill-defined and being set to 0.0 in labels with no true samples. Use `zero_division` parameter to control this behavior.\n",
      "  _warn_prf(average, modifier, msg_start, len(result))\n"
     ]
    },
    {
     "name": "stdout",
     "output_type": "stream",
     "text": [
      "1157/1157 [==============================] - 2s 2ms/step\n",
      "Confusion Matrix:\n",
      " [[    0     0     0     0     0     0     0     0     0     0]\n",
      " [    0     0     0     0     0     0     0     0     0     0]\n",
      " [   35   168 24134  2303   107  9034   660    10   231   318]\n",
      " [    0     0     0     0     0     0     0     0     0     0]\n",
      " [    0     0     0     0     0     0     0     0     0     0]\n",
      " [    0     0     0     0     0     0     0     0     0     0]\n",
      " [    0     0     0     0     0     0     0     0     0     0]\n",
      " [    0     0     0     0     0     0     0     0     0     0]\n",
      " [    0     0     0     0     0     0     0     0     0     0]\n",
      " [    0     0     0     0     0     0     0     0     0     0]]\n",
      "Precision: 1.0\n",
      "Recall: 0.6522702702702703\n",
      "------------------\n",
      "Classification for class 3\n",
      "  67/1157 [>.............................] - ETA: 1s"
     ]
    },
    {
     "name": "stderr",
     "output_type": "stream",
     "text": [
      "C:\\Users\\lenovo\\AppData\\Roaming\\Python\\Python311\\site-packages\\sklearn\\metrics\\_classification.py:1469: UndefinedMetricWarning: Recall is ill-defined and being set to 0.0 in labels with no true samples. Use `zero_division` parameter to control this behavior.\n",
      "  _warn_prf(average, modifier, msg_start, len(result))\n"
     ]
    },
    {
     "name": "stdout",
     "output_type": "stream",
     "text": [
      "1157/1157 [==============================] - 2s 1ms/step\n",
      "Confusion Matrix:\n",
      " [[    0     0     0     0     0     0     0     0     0     0]\n",
      " [    0     0     0     0     0     0     0     0     0     0]\n",
      " [    0     0     0     0     0     0     0     0     0     0]\n",
      " [  216  1587  1400 23017  4702  2675  2083   251   751   318]\n",
      " [    0     0     0     0     0     0     0     0     0     0]\n",
      " [    0     0     0     0     0     0     0     0     0     0]\n",
      " [    0     0     0     0     0     0     0     0     0     0]\n",
      " [    0     0     0     0     0     0     0     0     0     0]\n",
      " [    0     0     0     0     0     0     0     0     0     0]\n",
      " [    0     0     0     0     0     0     0     0     0     0]]\n",
      "Precision: 1.0\n",
      "Recall: 0.6220810810810811\n",
      "------------------\n",
      "Classification for class 4\n",
      "  55/1157 [>.............................] - ETA: 2s"
     ]
    },
    {
     "name": "stderr",
     "output_type": "stream",
     "text": [
      "C:\\Users\\lenovo\\AppData\\Roaming\\Python\\Python311\\site-packages\\sklearn\\metrics\\_classification.py:1469: UndefinedMetricWarning: Recall is ill-defined and being set to 0.0 in labels with no true samples. Use `zero_division` parameter to control this behavior.\n",
      "  _warn_prf(average, modifier, msg_start, len(result))\n"
     ]
    },
    {
     "name": "stdout",
     "output_type": "stream",
     "text": [
      "1157/1157 [==============================] - 2s 1ms/step\n",
      "Confusion Matrix:\n",
      " [[    0     0     0     0     0     0     0     0     0     0]\n",
      " [    0     0     0     0     0     0     0     0     0     0]\n",
      " [    0     0     0     0     0     0     0     0     0     0]\n",
      " [    0     0     0     0     0     0     0     0     0     0]\n",
      " [  899  1300   603  4094 23853   537  2906  2071   485   252]\n",
      " [    0     0     0     0     0     0     0     0     0     0]\n",
      " [    0     0     0     0     0     0     0     0     0     0]\n",
      " [    0     0     0     0     0     0     0     0     0     0]\n",
      " [    0     0     0     0     0     0     0     0     0     0]\n",
      " [    0     0     0     0     0     0     0     0     0     0]]\n",
      "Precision: 1.0\n",
      "Recall: 0.6446756756756756\n",
      "------------------\n",
      "Classification for class 5\n",
      "  42/1157 [>.............................] - ETA: 2s"
     ]
    },
    {
     "name": "stderr",
     "output_type": "stream",
     "text": [
      "C:\\Users\\lenovo\\AppData\\Roaming\\Python\\Python311\\site-packages\\sklearn\\metrics\\_classification.py:1469: UndefinedMetricWarning: Recall is ill-defined and being set to 0.0 in labels with no true samples. Use `zero_division` parameter to control this behavior.\n",
      "  _warn_prf(average, modifier, msg_start, len(result))\n"
     ]
    },
    {
     "name": "stdout",
     "output_type": "stream",
     "text": [
      "1157/1157 [==============================] - 2s 2ms/step\n",
      "Confusion Matrix:\n",
      " [[    0     0     0     0     0     0     0     0     0     0]\n",
      " [    0     0     0     0     0     0     0     0     0     0]\n",
      " [    0     0     0     0     0     0     0     0     0     0]\n",
      " [    0     0     0     0     0     0     0     0     0     0]\n",
      " [    0     0     0     0     0     0     0     0     0     0]\n",
      " [   20    64 14163  1454   101 20145   627     2   197   227]\n",
      " [    0     0     0     0     0     0     0     0     0     0]\n",
      " [    0     0     0     0     0     0     0     0     0     0]\n",
      " [    0     0     0     0     0     0     0     0     0     0]\n",
      " [    0     0     0     0     0     0     0     0     0     0]]\n",
      "Precision: 1.0\n",
      "Recall: 0.5444594594594595\n",
      "------------------\n",
      "Classification for class 6\n",
      "  44/1157 [>.............................] - ETA: 2s"
     ]
    },
    {
     "name": "stderr",
     "output_type": "stream",
     "text": [
      "C:\\Users\\lenovo\\AppData\\Roaming\\Python\\Python311\\site-packages\\sklearn\\metrics\\_classification.py:1469: UndefinedMetricWarning: Recall is ill-defined and being set to 0.0 in labels with no true samples. Use `zero_division` parameter to control this behavior.\n",
      "  _warn_prf(average, modifier, msg_start, len(result))\n"
     ]
    },
    {
     "name": "stdout",
     "output_type": "stream",
     "text": [
      "1157/1157 [==============================] - 2s 2ms/step\n",
      "Confusion Matrix:\n",
      " [[    0     0     0     0     0     0     0     0     0     0]\n",
      " [    0     0     0     0     0     0     0     0     0     0]\n",
      " [    0     0     0     0     0     0     0     0     0     0]\n",
      " [    0     0     0     0     0     0     0     0     0     0]\n",
      " [    0     0     0     0     0     0     0     0     0     0]\n",
      " [    0     0     0     0     0     0     0     0     0     0]\n",
      " [  775  1807  1057  2331  3382   933 22688  1088  2589   350]\n",
      " [    0     0     0     0     0     0     0     0     0     0]\n",
      " [    0     0     0     0     0     0     0     0     0     0]\n",
      " [    0     0     0     0     0     0     0     0     0     0]]\n",
      "Precision: 1.0\n",
      "Recall: 0.6131891891891892\n",
      "------------------\n",
      "Classification for class 7\n",
      "  43/1157 [>.............................] - ETA: 2s"
     ]
    },
    {
     "name": "stderr",
     "output_type": "stream",
     "text": [
      "C:\\Users\\lenovo\\AppData\\Roaming\\Python\\Python311\\site-packages\\sklearn\\metrics\\_classification.py:1469: UndefinedMetricWarning: Recall is ill-defined and being set to 0.0 in labels with no true samples. Use `zero_division` parameter to control this behavior.\n",
      "  _warn_prf(average, modifier, msg_start, len(result))\n"
     ]
    },
    {
     "name": "stdout",
     "output_type": "stream",
     "text": [
      "1157/1157 [==============================] - 2s 2ms/step\n",
      "Confusion Matrix:\n",
      " [[    0     0     0     0     0     0     0     0     0     0]\n",
      " [    0     0     0     0     0     0     0     0     0     0]\n",
      " [    0     0     0     0     0     0     0     0     0     0]\n",
      " [    0     0     0     0     0     0     0     0     0     0]\n",
      " [    0     0     0     0     0     0     0     0     0     0]\n",
      " [    0     0     0     0     0     0     0     0     0     0]\n",
      " [    0     0     0     0     0     0     0     0     0     0]\n",
      " [  118   523     1    64  2252     1   835 33145    59     2]\n",
      " [    0     0     0     0     0     0     0     0     0     0]\n",
      " [    0     0     0     0     0     0     0     0     0     0]]\n",
      "Precision: 1.0\n",
      "Recall: 0.8958108108108108\n",
      "------------------\n",
      "Classification for class 8\n",
      "  63/1157 [>.............................] - ETA: 1s"
     ]
    },
    {
     "name": "stderr",
     "output_type": "stream",
     "text": [
      "C:\\Users\\lenovo\\AppData\\Roaming\\Python\\Python311\\site-packages\\sklearn\\metrics\\_classification.py:1469: UndefinedMetricWarning: Recall is ill-defined and being set to 0.0 in labels with no true samples. Use `zero_division` parameter to control this behavior.\n",
      "  _warn_prf(average, modifier, msg_start, len(result))\n"
     ]
    },
    {
     "name": "stdout",
     "output_type": "stream",
     "text": [
      "1157/1157 [==============================] - 2s 2ms/step\n",
      "Confusion Matrix:\n",
      " [[    0     0     0     0     0     0     0     0     0     0]\n",
      " [    0     0     0     0     0     0     0     0     0     0]\n",
      " [    0     0     0     0     0     0     0     0     0     0]\n",
      " [    0     0     0     0     0     0     0     0     0     0]\n",
      " [    0     0     0     0     0     0     0     0     0     0]\n",
      " [    0     0     0     0     0     0     0     0     0     0]\n",
      " [    0     0     0     0     0     0     0     0     0     0]\n",
      " [    0     0     0     0     0     0     0     0     0     0]\n",
      " [   38  5278   175   747   252   215  2264    86 27871    74]\n",
      " [    0     0     0     0     0     0     0     0     0     0]]\n",
      "Precision: 1.0\n",
      "Recall: 0.7532702702702703\n",
      "------------------\n",
      "Classification for class 9\n",
      "  39/1157 [>.............................] - ETA: 3s"
     ]
    },
    {
     "name": "stderr",
     "output_type": "stream",
     "text": [
      "C:\\Users\\lenovo\\AppData\\Roaming\\Python\\Python311\\site-packages\\sklearn\\metrics\\_classification.py:1469: UndefinedMetricWarning: Recall is ill-defined and being set to 0.0 in labels with no true samples. Use `zero_division` parameter to control this behavior.\n",
      "  _warn_prf(average, modifier, msg_start, len(result))\n"
     ]
    },
    {
     "name": "stdout",
     "output_type": "stream",
     "text": [
      "1157/1157 [==============================] - 2s 2ms/step\n",
      "Confusion Matrix:\n",
      " [[    0     0     0     0     0     0     0     0     0     0]\n",
      " [    0     0     0     0     0     0     0     0     0     0]\n",
      " [    0     0     0     0     0     0     0     0     0     0]\n",
      " [    0     0     0     0     0     0     0     0     0     0]\n",
      " [    0     0     0     0     0     0     0     0     0     0]\n",
      " [    0     0     0     0     0     0     0     0     0     0]\n",
      " [    0     0     0     0     0     0     0     0     0     0]\n",
      " [    0     0     0     0     0     0     0     0     0     0]\n",
      " [    0     0     0     0     0     0     0     0     0     0]\n",
      " [  162   271  2087   857   518   642   797    59   262 31345]]\n",
      "Precision: 1.0\n",
      "Recall: 0.8471621621621621\n",
      "------------------\n",
      "Overall Confusion Matrix:\n",
      " [[30716   194   214   173  1565   167  2790   670   399   112]\n",
      " [  133 14954   410  2915  2256   285  2722   887 12156   282]\n",
      " [   35   168 24134  2303   107  9034   660    10   231   318]\n",
      " [  216  1587  1400 23017  4702  2675  2083   251   751   318]\n",
      " [  899  1300   603  4094 23853   537  2906  2071   485   252]\n",
      " [   20    64 14163  1454   101 20145   627     2   197   227]\n",
      " [  775  1807  1057  2331  3382   933 22688  1088  2589   350]\n",
      " [  118   523     1    64  2252     1   835 33145    59     2]\n",
      " [   38  5278   175   747   252   215  2264    86 27871    74]\n",
      " [  162   271  2087   857   518   642   797    59   262 31345]]\n"
     ]
    },
    {
     "name": "stderr",
     "output_type": "stream",
     "text": [
      "C:\\Users\\lenovo\\AppData\\Roaming\\Python\\Python311\\site-packages\\sklearn\\metrics\\_classification.py:1469: UndefinedMetricWarning: Recall is ill-defined and being set to 0.0 in labels with no true samples. Use `zero_division` parameter to control this behavior.\n",
      "  _warn_prf(average, modifier, msg_start, len(result))\n"
     ]
    }
   ],
   "source": [
    "import numpy as np\n",
    "from sklearn.metrics import confusion_matrix, precision_score, recall_score\n",
    "\n",
    "# Define unique class labels\n",
    "unique_labels = np.arange(10)  # Assuming class labels range from 0 to 9\n",
    "\n",
    "# Initialize an empty confusion matrix\n",
    "overall_confusion_matrix = np.zeros((len(unique_labels), len(unique_labels)), dtype=int)\n",
    "\n",
    "# Initialize dictionaries to store precision and recall values for each class\n",
    "class_precisions = {}\n",
    "class_recalls = {}\n",
    "\n",
    "# Iterate over each class label\n",
    "for class_label in unique_labels:\n",
    "    print(\"Classification for class\", class_label)\n",
    "    \n",
    "    # Find row indices where the true class is equal to 'class_label'\n",
    "    true_indices = np.where(y_train == class_label)[0]\n",
    "    \n",
    "    # Extract the corresponding true labels and predicted labels for the class\n",
    "    true_labels = y_train[true_indices]\n",
    "    predicted_labels = mlp.predict(x_train[true_indices])\n",
    "    predicted_labels = np.argmax(predicted_labels, axis=1)\n",
    "    \n",
    "    # Calculate confusion matrix for the class\n",
    "    class_confusion_matrix = confusion_matrix(true_labels, predicted_labels, labels=unique_labels)\n",
    "    print(\"Confusion Matrix:\\n\", class_confusion_matrix)\n",
    "    overall_confusion_matrix += class_confusion_matrix\n",
    "    \n",
    "    # Calculate precision and recall for the class\n",
    "    precision = precision_score(true_labels, predicted_labels, average='weighted')\n",
    "    recall = recall_score(true_labels, predicted_labels, average='weighted')\n",
    "    class_precisions[class_label] = precision\n",
    "    class_recalls[class_label] = recall\n",
    "    \n",
    "    print(\"Precision:\", precision)\n",
    "    print(\"Recall:\", recall)\n",
    "    print(\"------------------\")\n",
    "\n",
    "# Print overall confusion matrix\n",
    "print(\"Overall Confusion Matrix:\\n\", overall_confusion_matrix)\n"
   ]
  },
  {
   "cell_type": "code",
   "execution_count": 57,
   "metadata": {},
   "outputs": [
    {
     "data": {
      "image/png": "[encoded data removed]",
      "text/plain": [
       "<Figure size 1000x800 with 2 Axes>"
      ]
     },
     "metadata": {},
     "output_type": "display_data"
    }
   ],
   "source": [
    "# Plot the confusion matrix as a heatmap\n",
    "plt.figure(figsize=(10, 8))\n",
    "sns.heatmap(overall_confusion_matrix, annot=True, fmt='d', cmap='Blues', xticklabels=unique_labels, yticklabels=unique_labels)\n",
    "plt.xlabel('Predicted')\n",
    "plt.ylabel('True')\n",
    "plt.title('Confusion Matrix')\n",
    "plt.show()"
   ]
  },
  {
   "cell_type": "code",
   "execution_count": null,
   "metadata": {},
   "outputs": [],
   "source": []
  }
 ],
 "metadata": {
  "accelerator": "GPU",
  "colab": {
   "gpuType": "T4",
   "provenance": []
  },
  "kernelspec": {
   "display_name": "Python 3 (ipykernel)",
   "language": "python",
   "name": "python3"
  },
  "language_info": {
   "codemirror_mode": {
    "name": "ipython",
    "version": 3
   },
   "file_extension": ".py",
   "mimetype": "text/x-python",
   "name": "python",
   "nbconvert_exporter": "python",
   "pygments_lexer": "ipython3",
   "version": "3.11.4"
  }
 },
 "nbformat": 4,
 "nbformat_minor": 4
}

{
 "cells": [
  {
   "cell_type": "markdown",
   "metadata": {
    "id": "LRShq69snak8"
   },
   "source": [
    "self attention module: It shortens the distance between any two inputs significantly to enhance the learning ability of long-term dependence."
   ]
  },
  {
   "cell_type": "markdown",
   "metadata": {
    "id": "i5O2MzsOl1TX"
   },
   "source": [
    "doing min max scaler, testdata=std_x_test.reshape(82332,194), x_train=x_train.values() are the ways to get data into 2d vector"
   ]
  },
  {
   "cell_type": "code",
   "execution_count": 1,
   "metadata": {
    "id": "sOdjJSY0gKn2"
   },
   "outputs": [],
   "source": [
    "import matplotlib.pyplot as plt\n",
    "import numpy as np\n",
    "import pandas as pd\n"
   ]
  },
  {
   "cell_type": "code",
   "execution_count": 2,
   "metadata": {
    "id": "-vigDFPfgZkA"
   },
   "outputs": [],
   "source": [
    "Test = pd.read_csv(r'C:\\Users\\lenovo\\Downloads\\UNSW_NB15_testing-set.csv.zip')\n",
    "Train = pd.read_csv(r'C:\\Users\\lenovo\\Downloads\\UNSW_NB15_training-set.csv.zip')"
   ]
  },
  {
   "cell_type": "code",
   "execution_count": 3,
   "metadata": {
    "colab": {
     "base_uri": "https://localhost:8080/"
    },
    "id": "9SSrBnC6I3lT",
    "outputId": "f667b183-57d0-44d6-8ad3-6c61bf60bad1"
   },
   "outputs": [
    {
     "data": {
      "text/plain": [
       "(82332, 45)"
      ]
     },
     "execution_count": 3,
     "metadata": {},
     "output_type": "execute_result"
    }
   ],
   "source": [
    "Train.shape"
   ]
  },
  {
   "cell_type": "code",
   "execution_count": 4,
   "metadata": {
    "colab": {
     "base_uri": "https://localhost:8080/"
    },
    "id": "asqc08rmI6VV",
    "outputId": "0ef860d5-b6e9-483e-9b94-172d88e0c48a"
   },
   "outputs": [
    {
     "data": {
      "text/plain": [
       "(175341, 45)"
      ]
     },
     "execution_count": 4,
     "metadata": {},
     "output_type": "execute_result"
    }
   ],
   "source": [
    "Test.shape"
   ]
  },
  {
   "cell_type": "code",
   "execution_count": 5,
   "metadata": {
    "id": "H1zRxk_YIpij"
   },
   "outputs": [],
   "source": [
    "Test=Test.drop(['label'],axis=1)"
   ]
  },
  {
   "cell_type": "code",
   "execution_count": 6,
   "metadata": {
    "id": "0TB6WxffJvo1"
   },
   "outputs": [],
   "source": [
    "Train=Train.drop(['label'],axis=1)"
   ]
  },
  {
   "cell_type": "code",
   "execution_count": 7,
   "metadata": {
    "colab": {
     "base_uri": "https://localhost:8080/"
    },
    "id": "hHqMZ-JMJ1Qv",
    "outputId": "3a9c9152-3067-4a84-d9f9-f5f1b9c4657a"
   },
   "outputs": [
    {
     "data": {
      "text/plain": [
       "(175341, 44)"
      ]
     },
     "execution_count": 7,
     "metadata": {},
     "output_type": "execute_result"
    }
   ],
   "source": [
    "Test.shape"
   ]
  },
  {
   "cell_type": "code",
   "execution_count": 8,
   "metadata": {
    "colab": {
     "base_uri": "https://localhost:8080/"
    },
    "id": "4dLD9ASBJ3Gt",
    "outputId": "4dcecac2-12a8-4437-c43a-ce835b67eeb4"
   },
   "outputs": [
    {
     "data": {
      "text/plain": [
       "(82332, 44)"
      ]
     },
     "execution_count": 8,
     "metadata": {},
     "output_type": "execute_result"
    }
   ],
   "source": [
    "Train.shape"
   ]
  },
  {
   "cell_type": "code",
   "execution_count": 9,
   "metadata": {
    "id": "J3tPlLHBQmoY"
   },
   "outputs": [],
   "source": [
    "Train['attack_cat'] = Train['attack_cat'].replace(['Normal'], 0)\n",
    "Train['attack_cat'] = Train['attack_cat'].replace(['Reconnaissance'], 1)\n",
    "Train['attack_cat'] = Train['attack_cat'].replace(['Backdoor'], 2)\n",
    "Train['attack_cat'] = Train['attack_cat'].replace(['DoS'], 3)\n",
    "Train['attack_cat'] = Train['attack_cat'].replace(['Exploits'], 4)\n",
    "Train['attack_cat'] = Train['attack_cat'].replace(['Analysis'], 5)\n",
    "Train['attack_cat'] = Train['attack_cat'].replace(['Fuzzers'], 6)\n",
    "Train['attack_cat'] = Train['attack_cat'].replace(['Worms'], 7)\n",
    "Train['attack_cat'] = Train['attack_cat'].replace(['Shellcode'], 8)\n",
    "Train['attack_cat'] = Train['attack_cat'].replace(['Generic'], 9)"
   ]
  },
  {
   "cell_type": "code",
   "execution_count": 10,
   "metadata": {
    "colab": {
     "base_uri": "https://localhost:8080/"
    },
    "id": "rQ_MSI4SSIf7",
    "outputId": "b8096ac8-4452-45e2-bb36-1b653150872e"
   },
   "outputs": [
    {
     "name": "stdout",
     "output_type": "stream",
     "text": [
      "<class 'pandas.core.frame.DataFrame'>\n",
      "RangeIndex: 82332 entries, 0 to 82331\n",
      "Data columns (total 44 columns):\n",
      " #   Column             Non-Null Count  Dtype  \n",
      "---  ------             --------------  -----  \n",
      " 0   id                 82332 non-null  int64  \n",
      " 1   dur                82332 non-null  float64\n",
      " 2   proto              82332 non-null  object \n",
      " 3   service            82332 non-null  object \n",
      " 4   state              82332 non-null  object \n",
      " 5   spkts              82332 non-null  int64  \n",
      " 6   dpkts              82332 non-null  int64  \n",
      " 7   sbytes             82332 non-null  int64  \n",
      " 8   dbytes             82332 non-null  int64  \n",
      " 9   rate               82332 non-null  float64\n",
      " 10  sttl               82332 non-null  int64  \n",
      " 11  dttl               82332 non-null  int64  \n",
      " 12  sload              82332 non-null  float64\n",
      " 13  dload              82332 non-null  float64\n",
      " 14  sloss              82332 non-null  int64  \n",
      " 15  dloss              82332 non-null  int64  \n",
      " 16  sinpkt             82332 non-null  float64\n",
      " 17  dinpkt             82332 non-null  float64\n",
      " 18  sjit               82332 non-null  float64\n",
      " 19  djit               82332 non-null  float64\n",
      " 20  swin               82332 non-null  int64  \n",
      " 21  stcpb              82332 non-null  int64  \n",
      " 22  dtcpb              82332 non-null  int64  \n",
      " 23  dwin               82332 non-null  int64  \n",
      " 24  tcprtt             82332 non-null  float64\n",
      " 25  synack             82332 non-null  float64\n",
      " 26  ackdat             82332 non-null  float64\n",
      " 27  smean              82332 non-null  int64  \n",
      " 28  dmean              82332 non-null  int64  \n",
      " 29  trans_depth        82332 non-null  int64  \n",
      " 30  response_body_len  82332 non-null  int64  \n",
      " 31  ct_srv_src         82332 non-null  int64  \n",
      " 32  ct_state_ttl       82332 non-null  int64  \n",
      " 33  ct_dst_ltm         82332 non-null  int64  \n",
      " 34  ct_src_dport_ltm   82332 non-null  int64  \n",
      " 35  ct_dst_sport_ltm   82332 non-null  int64  \n",
      " 36  ct_dst_src_ltm     82332 non-null  int64  \n",
      " 37  is_ftp_login       82332 non-null  int64  \n",
      " 38  ct_ftp_cmd         82332 non-null  int64  \n",
      " 39  ct_flw_http_mthd   82332 non-null  int64  \n",
      " 40  ct_src_ltm         82332 non-null  int64  \n",
      " 41  ct_srv_dst         82332 non-null  int64  \n",
      " 42  is_sm_ips_ports    82332 non-null  int64  \n",
      " 43  attack_cat         82332 non-null  int64  \n",
      "dtypes: float64(11), int64(30), object(3)\n",
      "memory usage: 27.6+ MB\n"
     ]
    }
   ],
   "source": [
    "Train.info()"
   ]
  },
  {
   "cell_type": "code",
   "execution_count": 11,
   "metadata": {
    "colab": {
     "base_uri": "https://localhost:8080/"
    },
    "id": "xFVOxv1SdRz7",
    "outputId": "e40a1b7e-e32c-43ee-e9ab-fc98b7ec3857"
   },
   "outputs": [
    {
     "data": {
      "text/plain": [
       "{0, 1, 2, 3, 4, 5, 6, 7, 8, 9}"
      ]
     },
     "execution_count": 11,
     "metadata": {},
     "output_type": "execute_result"
    }
   ],
   "source": [
    "set(Train['attack_cat'])"
   ]
  },
  {
   "cell_type": "code",
   "execution_count": 12,
   "metadata": {
    "id": "_X79HHsUIBdE"
   },
   "outputs": [],
   "source": [
    "Train[\"Class\"]=Train.apply('attack_cat',axis=1)\n",
    "Train=Train.drop(\"attack_cat\",axis=1)"
   ]
  },
  {
   "cell_type": "code",
   "execution_count": 13,
   "metadata": {
    "colab": {
     "base_uri": "https://localhost:8080/",
     "height": 443
    },
    "id": "Lixb9BgDSwsv",
    "outputId": "26f9c43f-e650-48c2-fd74-97935521e830"
   },
   "outputs": [
    {
     "data": {
      "text/html": [
       "<div>\n",
       "<style scoped>\n",
       "    .dataframe tbody tr th:only-of-type {\n",
       "        vertical-align: middle;\n",
       "    }\n",
       "\n",
       "    .dataframe tbody tr th {\n",
       "        vertical-align: top;\n",
       "    }\n",
       "\n",
       "    .dataframe thead th {\n",
       "        text-align: right;\n",
       "    }\n",
       "</style>\n",
       "<table border=\"1\" class=\"dataframe\">\n",
       "  <thead>\n",
       "    <tr style=\"text-align: right;\">\n",
       "      <th></th>\n",
       "      <th>id</th>\n",
       "      <th>dur</th>\n",
       "      <th>proto</th>\n",
       "      <th>service</th>\n",
       "      <th>state</th>\n",
       "      <th>spkts</th>\n",
       "      <th>dpkts</th>\n",
       "      <th>sbytes</th>\n",
       "      <th>dbytes</th>\n",
       "      <th>rate</th>\n",
       "      <th>...</th>\n",
       "      <th>ct_src_dport_ltm</th>\n",
       "      <th>ct_dst_sport_ltm</th>\n",
       "      <th>ct_dst_src_ltm</th>\n",
       "      <th>is_ftp_login</th>\n",
       "      <th>ct_ftp_cmd</th>\n",
       "      <th>ct_flw_http_mthd</th>\n",
       "      <th>ct_src_ltm</th>\n",
       "      <th>ct_srv_dst</th>\n",
       "      <th>is_sm_ips_ports</th>\n",
       "      <th>Class</th>\n",
       "    </tr>\n",
       "  </thead>\n",
       "  <tbody>\n",
       "    <tr>\n",
       "      <th>0</th>\n",
       "      <td>1</td>\n",
       "      <td>0.000011</td>\n",
       "      <td>udp</td>\n",
       "      <td>-</td>\n",
       "      <td>INT</td>\n",
       "      <td>2</td>\n",
       "      <td>0</td>\n",
       "      <td>496</td>\n",
       "      <td>0</td>\n",
       "      <td>90909.090200</td>\n",
       "      <td>...</td>\n",
       "      <td>1</td>\n",
       "      <td>1</td>\n",
       "      <td>2</td>\n",
       "      <td>0</td>\n",
       "      <td>0</td>\n",
       "      <td>0</td>\n",
       "      <td>1</td>\n",
       "      <td>2</td>\n",
       "      <td>0</td>\n",
       "      <td>0</td>\n",
       "    </tr>\n",
       "    <tr>\n",
       "      <th>1</th>\n",
       "      <td>2</td>\n",
       "      <td>0.000008</td>\n",
       "      <td>udp</td>\n",
       "      <td>-</td>\n",
       "      <td>INT</td>\n",
       "      <td>2</td>\n",
       "      <td>0</td>\n",
       "      <td>1762</td>\n",
       "      <td>0</td>\n",
       "      <td>125000.000300</td>\n",
       "      <td>...</td>\n",
       "      <td>1</td>\n",
       "      <td>1</td>\n",
       "      <td>2</td>\n",
       "      <td>0</td>\n",
       "      <td>0</td>\n",
       "      <td>0</td>\n",
       "      <td>1</td>\n",
       "      <td>2</td>\n",
       "      <td>0</td>\n",
       "      <td>0</td>\n",
       "    </tr>\n",
       "    <tr>\n",
       "      <th>2</th>\n",
       "      <td>3</td>\n",
       "      <td>0.000005</td>\n",
       "      <td>udp</td>\n",
       "      <td>-</td>\n",
       "      <td>INT</td>\n",
       "      <td>2</td>\n",
       "      <td>0</td>\n",
       "      <td>1068</td>\n",
       "      <td>0</td>\n",
       "      <td>200000.005100</td>\n",
       "      <td>...</td>\n",
       "      <td>1</td>\n",
       "      <td>1</td>\n",
       "      <td>3</td>\n",
       "      <td>0</td>\n",
       "      <td>0</td>\n",
       "      <td>0</td>\n",
       "      <td>1</td>\n",
       "      <td>3</td>\n",
       "      <td>0</td>\n",
       "      <td>0</td>\n",
       "    </tr>\n",
       "    <tr>\n",
       "      <th>3</th>\n",
       "      <td>4</td>\n",
       "      <td>0.000006</td>\n",
       "      <td>udp</td>\n",
       "      <td>-</td>\n",
       "      <td>INT</td>\n",
       "      <td>2</td>\n",
       "      <td>0</td>\n",
       "      <td>900</td>\n",
       "      <td>0</td>\n",
       "      <td>166666.660800</td>\n",
       "      <td>...</td>\n",
       "      <td>2</td>\n",
       "      <td>1</td>\n",
       "      <td>3</td>\n",
       "      <td>0</td>\n",
       "      <td>0</td>\n",
       "      <td>0</td>\n",
       "      <td>2</td>\n",
       "      <td>3</td>\n",
       "      <td>0</td>\n",
       "      <td>0</td>\n",
       "    </tr>\n",
       "    <tr>\n",
       "      <th>4</th>\n",
       "      <td>5</td>\n",
       "      <td>0.000010</td>\n",
       "      <td>udp</td>\n",
       "      <td>-</td>\n",
       "      <td>INT</td>\n",
       "      <td>2</td>\n",
       "      <td>0</td>\n",
       "      <td>2126</td>\n",
       "      <td>0</td>\n",
       "      <td>100000.002500</td>\n",
       "      <td>...</td>\n",
       "      <td>2</td>\n",
       "      <td>1</td>\n",
       "      <td>3</td>\n",
       "      <td>0</td>\n",
       "      <td>0</td>\n",
       "      <td>0</td>\n",
       "      <td>2</td>\n",
       "      <td>3</td>\n",
       "      <td>0</td>\n",
       "      <td>0</td>\n",
       "    </tr>\n",
       "    <tr>\n",
       "      <th>...</th>\n",
       "      <td>...</td>\n",
       "      <td>...</td>\n",
       "      <td>...</td>\n",
       "      <td>...</td>\n",
       "      <td>...</td>\n",
       "      <td>...</td>\n",
       "      <td>...</td>\n",
       "      <td>...</td>\n",
       "      <td>...</td>\n",
       "      <td>...</td>\n",
       "      <td>...</td>\n",
       "      <td>...</td>\n",
       "      <td>...</td>\n",
       "      <td>...</td>\n",
       "      <td>...</td>\n",
       "      <td>...</td>\n",
       "      <td>...</td>\n",
       "      <td>...</td>\n",
       "      <td>...</td>\n",
       "      <td>...</td>\n",
       "      <td>...</td>\n",
       "    </tr>\n",
       "    <tr>\n",
       "      <th>82327</th>\n",
       "      <td>82328</td>\n",
       "      <td>0.000005</td>\n",
       "      <td>udp</td>\n",
       "      <td>-</td>\n",
       "      <td>INT</td>\n",
       "      <td>2</td>\n",
       "      <td>0</td>\n",
       "      <td>104</td>\n",
       "      <td>0</td>\n",
       "      <td>200000.005100</td>\n",
       "      <td>...</td>\n",
       "      <td>1</td>\n",
       "      <td>1</td>\n",
       "      <td>2</td>\n",
       "      <td>0</td>\n",
       "      <td>0</td>\n",
       "      <td>0</td>\n",
       "      <td>2</td>\n",
       "      <td>1</td>\n",
       "      <td>0</td>\n",
       "      <td>0</td>\n",
       "    </tr>\n",
       "    <tr>\n",
       "      <th>82328</th>\n",
       "      <td>82329</td>\n",
       "      <td>1.106101</td>\n",
       "      <td>tcp</td>\n",
       "      <td>-</td>\n",
       "      <td>FIN</td>\n",
       "      <td>20</td>\n",
       "      <td>8</td>\n",
       "      <td>18062</td>\n",
       "      <td>354</td>\n",
       "      <td>24.410067</td>\n",
       "      <td>...</td>\n",
       "      <td>1</td>\n",
       "      <td>1</td>\n",
       "      <td>1</td>\n",
       "      <td>0</td>\n",
       "      <td>0</td>\n",
       "      <td>0</td>\n",
       "      <td>3</td>\n",
       "      <td>2</td>\n",
       "      <td>0</td>\n",
       "      <td>0</td>\n",
       "    </tr>\n",
       "    <tr>\n",
       "      <th>82329</th>\n",
       "      <td>82330</td>\n",
       "      <td>0.000000</td>\n",
       "      <td>arp</td>\n",
       "      <td>-</td>\n",
       "      <td>INT</td>\n",
       "      <td>1</td>\n",
       "      <td>0</td>\n",
       "      <td>46</td>\n",
       "      <td>0</td>\n",
       "      <td>0.000000</td>\n",
       "      <td>...</td>\n",
       "      <td>1</td>\n",
       "      <td>1</td>\n",
       "      <td>1</td>\n",
       "      <td>0</td>\n",
       "      <td>0</td>\n",
       "      <td>0</td>\n",
       "      <td>1</td>\n",
       "      <td>1</td>\n",
       "      <td>1</td>\n",
       "      <td>0</td>\n",
       "    </tr>\n",
       "    <tr>\n",
       "      <th>82330</th>\n",
       "      <td>82331</td>\n",
       "      <td>0.000000</td>\n",
       "      <td>arp</td>\n",
       "      <td>-</td>\n",
       "      <td>INT</td>\n",
       "      <td>1</td>\n",
       "      <td>0</td>\n",
       "      <td>46</td>\n",
       "      <td>0</td>\n",
       "      <td>0.000000</td>\n",
       "      <td>...</td>\n",
       "      <td>1</td>\n",
       "      <td>1</td>\n",
       "      <td>1</td>\n",
       "      <td>0</td>\n",
       "      <td>0</td>\n",
       "      <td>0</td>\n",
       "      <td>1</td>\n",
       "      <td>1</td>\n",
       "      <td>1</td>\n",
       "      <td>0</td>\n",
       "    </tr>\n",
       "    <tr>\n",
       "      <th>82331</th>\n",
       "      <td>82332</td>\n",
       "      <td>0.000009</td>\n",
       "      <td>udp</td>\n",
       "      <td>-</td>\n",
       "      <td>INT</td>\n",
       "      <td>2</td>\n",
       "      <td>0</td>\n",
       "      <td>104</td>\n",
       "      <td>0</td>\n",
       "      <td>111111.107200</td>\n",
       "      <td>...</td>\n",
       "      <td>1</td>\n",
       "      <td>1</td>\n",
       "      <td>1</td>\n",
       "      <td>0</td>\n",
       "      <td>0</td>\n",
       "      <td>0</td>\n",
       "      <td>1</td>\n",
       "      <td>1</td>\n",
       "      <td>0</td>\n",
       "      <td>0</td>\n",
       "    </tr>\n",
       "  </tbody>\n",
       "</table>\n",
       "<p>82332 rows × 44 columns</p>\n",
       "</div>"
      ],
      "text/plain": [
       "          id       dur proto service state  spkts  dpkts  sbytes  dbytes  \\\n",
       "0          1  0.000011   udp       -   INT      2      0     496       0   \n",
       "1          2  0.000008   udp       -   INT      2      0    1762       0   \n",
       "2          3  0.000005   udp       -   INT      2      0    1068       0   \n",
       "3          4  0.000006   udp       -   INT      2      0     900       0   \n",
       "4          5  0.000010   udp       -   INT      2      0    2126       0   \n",
       "...      ...       ...   ...     ...   ...    ...    ...     ...     ...   \n",
       "82327  82328  0.000005   udp       -   INT      2      0     104       0   \n",
       "82328  82329  1.106101   tcp       -   FIN     20      8   18062     354   \n",
       "82329  82330  0.000000   arp       -   INT      1      0      46       0   \n",
       "82330  82331  0.000000   arp       -   INT      1      0      46       0   \n",
       "82331  82332  0.000009   udp       -   INT      2      0     104       0   \n",
       "\n",
       "                rate  ...  ct_src_dport_ltm  ct_dst_sport_ltm  ct_dst_src_ltm  \\\n",
       "0       90909.090200  ...                 1                 1               2   \n",
       "1      125000.000300  ...                 1                 1               2   \n",
       "2      200000.005100  ...                 1                 1               3   \n",
       "3      166666.660800  ...                 2                 1               3   \n",
       "4      100000.002500  ...                 2                 1               3   \n",
       "...              ...  ...               ...               ...             ...   \n",
       "82327  200000.005100  ...                 1                 1               2   \n",
       "82328      24.410067  ...                 1                 1               1   \n",
       "82329       0.000000  ...                 1                 1               1   \n",
       "82330       0.000000  ...                 1                 1               1   \n",
       "82331  111111.107200  ...                 1                 1               1   \n",
       "\n",
       "       is_ftp_login  ct_ftp_cmd  ct_flw_http_mthd  ct_src_ltm  ct_srv_dst  \\\n",
       "0                 0           0                 0           1           2   \n",
       "1                 0           0                 0           1           2   \n",
       "2                 0           0                 0           1           3   \n",
       "3                 0           0                 0           2           3   \n",
       "4                 0           0                 0           2           3   \n",
       "...             ...         ...               ...         ...         ...   \n",
       "82327             0           0                 0           2           1   \n",
       "82328             0           0                 0           3           2   \n",
       "82329             0           0                 0           1           1   \n",
       "82330             0           0                 0           1           1   \n",
       "82331             0           0                 0           1           1   \n",
       "\n",
       "       is_sm_ips_ports  Class  \n",
       "0                    0      0  \n",
       "1                    0      0  \n",
       "2                    0      0  \n",
       "3                    0      0  \n",
       "4                    0      0  \n",
       "...                ...    ...  \n",
       "82327                0      0  \n",
       "82328                0      0  \n",
       "82329                1      0  \n",
       "82330                1      0  \n",
       "82331                0      0  \n",
       "\n",
       "[82332 rows x 44 columns]"
      ]
     },
     "execution_count": 13,
     "metadata": {},
     "output_type": "execute_result"
    }
   ],
   "source": [
    "Train"
   ]
  },
  {
   "cell_type": "code",
   "execution_count": 14,
   "metadata": {
    "id": "-hQqQgV5Wjuo"
   },
   "outputs": [],
   "source": [
    "Test['attack_cat'] = Test['attack_cat'].replace(['Normal'], 0)\n",
    "Test['attack_cat'] = Test['attack_cat'].replace(['Reconnaissance'], 1)\n",
    "Test['attack_cat'] = Test['attack_cat'].replace(['Backdoor'],2)\n",
    "Test['attack_cat'] = Test['attack_cat'].replace(['DoS'], 3)\n",
    "Test['attack_cat'] = Test['attack_cat'].replace(['Exploits'], 4)\n",
    "Test['attack_cat'] = Test['attack_cat'].replace(['Analysis'], 5)\n",
    "Test['attack_cat'] = Test['attack_cat'].replace(['Fuzzers'], 6)\n",
    "Test['attack_cat'] = Test['attack_cat'].replace(['Worms'], 7)\n",
    "Test['attack_cat'] = Test['attack_cat'].replace(['Shellcode'], 8)\n",
    "Test['attack_cat'] = Test['attack_cat'].replace(['Generic'], 9)"
   ]
  },
  {
   "cell_type": "code",
   "execution_count": 15,
   "metadata": {
    "id": "w_zEfdT-W2dT"
   },
   "outputs": [],
   "source": [
    "Test[\"Class\"]=Test.apply('attack_cat',axis=1)\n",
    "Test=Test.drop(\"attack_cat\",axis=1)"
   ]
  },
  {
   "cell_type": "code",
   "execution_count": 16,
   "metadata": {
    "colab": {
     "base_uri": "https://localhost:8080/",
     "height": 443
    },
    "id": "oycjU9jXWz8N",
    "outputId": "0c07a5e4-95ef-4845-e361-7b359848fe11"
   },
   "outputs": [
    {
     "data": {
      "text/html": [
       "<div>\n",
       "<style scoped>\n",
       "    .dataframe tbody tr th:only-of-type {\n",
       "        vertical-align: middle;\n",
       "    }\n",
       "\n",
       "    .dataframe tbody tr th {\n",
       "        vertical-align: top;\n",
       "    }\n",
       "\n",
       "    .dataframe thead th {\n",
       "        text-align: right;\n",
       "    }\n",
       "</style>\n",
       "<table border=\"1\" class=\"dataframe\">\n",
       "  <thead>\n",
       "    <tr style=\"text-align: right;\">\n",
       "      <th></th>\n",
       "      <th>id</th>\n",
       "      <th>dur</th>\n",
       "      <th>proto</th>\n",
       "      <th>service</th>\n",
       "      <th>state</th>\n",
       "      <th>spkts</th>\n",
       "      <th>dpkts</th>\n",
       "      <th>sbytes</th>\n",
       "      <th>dbytes</th>\n",
       "      <th>rate</th>\n",
       "      <th>...</th>\n",
       "      <th>ct_src_dport_ltm</th>\n",
       "      <th>ct_dst_sport_ltm</th>\n",
       "      <th>ct_dst_src_ltm</th>\n",
       "      <th>is_ftp_login</th>\n",
       "      <th>ct_ftp_cmd</th>\n",
       "      <th>ct_flw_http_mthd</th>\n",
       "      <th>ct_src_ltm</th>\n",
       "      <th>ct_srv_dst</th>\n",
       "      <th>is_sm_ips_ports</th>\n",
       "      <th>Class</th>\n",
       "    </tr>\n",
       "  </thead>\n",
       "  <tbody>\n",
       "    <tr>\n",
       "      <th>0</th>\n",
       "      <td>1</td>\n",
       "      <td>0.121478</td>\n",
       "      <td>tcp</td>\n",
       "      <td>-</td>\n",
       "      <td>FIN</td>\n",
       "      <td>6</td>\n",
       "      <td>4</td>\n",
       "      <td>258</td>\n",
       "      <td>172</td>\n",
       "      <td>74.087490</td>\n",
       "      <td>...</td>\n",
       "      <td>1</td>\n",
       "      <td>1</td>\n",
       "      <td>1</td>\n",
       "      <td>0</td>\n",
       "      <td>0</td>\n",
       "      <td>0</td>\n",
       "      <td>1</td>\n",
       "      <td>1</td>\n",
       "      <td>0</td>\n",
       "      <td>0</td>\n",
       "    </tr>\n",
       "    <tr>\n",
       "      <th>1</th>\n",
       "      <td>2</td>\n",
       "      <td>0.649902</td>\n",
       "      <td>tcp</td>\n",
       "      <td>-</td>\n",
       "      <td>FIN</td>\n",
       "      <td>14</td>\n",
       "      <td>38</td>\n",
       "      <td>734</td>\n",
       "      <td>42014</td>\n",
       "      <td>78.473372</td>\n",
       "      <td>...</td>\n",
       "      <td>1</td>\n",
       "      <td>1</td>\n",
       "      <td>2</td>\n",
       "      <td>0</td>\n",
       "      <td>0</td>\n",
       "      <td>0</td>\n",
       "      <td>1</td>\n",
       "      <td>6</td>\n",
       "      <td>0</td>\n",
       "      <td>0</td>\n",
       "    </tr>\n",
       "    <tr>\n",
       "      <th>2</th>\n",
       "      <td>3</td>\n",
       "      <td>1.623129</td>\n",
       "      <td>tcp</td>\n",
       "      <td>-</td>\n",
       "      <td>FIN</td>\n",
       "      <td>8</td>\n",
       "      <td>16</td>\n",
       "      <td>364</td>\n",
       "      <td>13186</td>\n",
       "      <td>14.170161</td>\n",
       "      <td>...</td>\n",
       "      <td>1</td>\n",
       "      <td>1</td>\n",
       "      <td>3</td>\n",
       "      <td>0</td>\n",
       "      <td>0</td>\n",
       "      <td>0</td>\n",
       "      <td>2</td>\n",
       "      <td>6</td>\n",
       "      <td>0</td>\n",
       "      <td>0</td>\n",
       "    </tr>\n",
       "    <tr>\n",
       "      <th>3</th>\n",
       "      <td>4</td>\n",
       "      <td>1.681642</td>\n",
       "      <td>tcp</td>\n",
       "      <td>ftp</td>\n",
       "      <td>FIN</td>\n",
       "      <td>12</td>\n",
       "      <td>12</td>\n",
       "      <td>628</td>\n",
       "      <td>770</td>\n",
       "      <td>13.677108</td>\n",
       "      <td>...</td>\n",
       "      <td>1</td>\n",
       "      <td>1</td>\n",
       "      <td>3</td>\n",
       "      <td>1</td>\n",
       "      <td>1</td>\n",
       "      <td>0</td>\n",
       "      <td>2</td>\n",
       "      <td>1</td>\n",
       "      <td>0</td>\n",
       "      <td>0</td>\n",
       "    </tr>\n",
       "    <tr>\n",
       "      <th>4</th>\n",
       "      <td>5</td>\n",
       "      <td>0.449454</td>\n",
       "      <td>tcp</td>\n",
       "      <td>-</td>\n",
       "      <td>FIN</td>\n",
       "      <td>10</td>\n",
       "      <td>6</td>\n",
       "      <td>534</td>\n",
       "      <td>268</td>\n",
       "      <td>33.373826</td>\n",
       "      <td>...</td>\n",
       "      <td>2</td>\n",
       "      <td>1</td>\n",
       "      <td>40</td>\n",
       "      <td>0</td>\n",
       "      <td>0</td>\n",
       "      <td>0</td>\n",
       "      <td>2</td>\n",
       "      <td>39</td>\n",
       "      <td>0</td>\n",
       "      <td>0</td>\n",
       "    </tr>\n",
       "    <tr>\n",
       "      <th>...</th>\n",
       "      <td>...</td>\n",
       "      <td>...</td>\n",
       "      <td>...</td>\n",
       "      <td>...</td>\n",
       "      <td>...</td>\n",
       "      <td>...</td>\n",
       "      <td>...</td>\n",
       "      <td>...</td>\n",
       "      <td>...</td>\n",
       "      <td>...</td>\n",
       "      <td>...</td>\n",
       "      <td>...</td>\n",
       "      <td>...</td>\n",
       "      <td>...</td>\n",
       "      <td>...</td>\n",
       "      <td>...</td>\n",
       "      <td>...</td>\n",
       "      <td>...</td>\n",
       "      <td>...</td>\n",
       "      <td>...</td>\n",
       "      <td>...</td>\n",
       "    </tr>\n",
       "    <tr>\n",
       "      <th>175336</th>\n",
       "      <td>175337</td>\n",
       "      <td>0.000009</td>\n",
       "      <td>udp</td>\n",
       "      <td>dns</td>\n",
       "      <td>INT</td>\n",
       "      <td>2</td>\n",
       "      <td>0</td>\n",
       "      <td>114</td>\n",
       "      <td>0</td>\n",
       "      <td>111111.107200</td>\n",
       "      <td>...</td>\n",
       "      <td>24</td>\n",
       "      <td>13</td>\n",
       "      <td>24</td>\n",
       "      <td>0</td>\n",
       "      <td>0</td>\n",
       "      <td>0</td>\n",
       "      <td>24</td>\n",
       "      <td>24</td>\n",
       "      <td>0</td>\n",
       "      <td>9</td>\n",
       "    </tr>\n",
       "    <tr>\n",
       "      <th>175337</th>\n",
       "      <td>175338</td>\n",
       "      <td>0.505762</td>\n",
       "      <td>tcp</td>\n",
       "      <td>-</td>\n",
       "      <td>FIN</td>\n",
       "      <td>10</td>\n",
       "      <td>8</td>\n",
       "      <td>620</td>\n",
       "      <td>354</td>\n",
       "      <td>33.612649</td>\n",
       "      <td>...</td>\n",
       "      <td>1</td>\n",
       "      <td>1</td>\n",
       "      <td>2</td>\n",
       "      <td>0</td>\n",
       "      <td>0</td>\n",
       "      <td>0</td>\n",
       "      <td>1</td>\n",
       "      <td>1</td>\n",
       "      <td>0</td>\n",
       "      <td>8</td>\n",
       "    </tr>\n",
       "    <tr>\n",
       "      <th>175338</th>\n",
       "      <td>175339</td>\n",
       "      <td>0.000009</td>\n",
       "      <td>udp</td>\n",
       "      <td>dns</td>\n",
       "      <td>INT</td>\n",
       "      <td>2</td>\n",
       "      <td>0</td>\n",
       "      <td>114</td>\n",
       "      <td>0</td>\n",
       "      <td>111111.107200</td>\n",
       "      <td>...</td>\n",
       "      <td>3</td>\n",
       "      <td>3</td>\n",
       "      <td>13</td>\n",
       "      <td>0</td>\n",
       "      <td>0</td>\n",
       "      <td>0</td>\n",
       "      <td>3</td>\n",
       "      <td>12</td>\n",
       "      <td>0</td>\n",
       "      <td>9</td>\n",
       "    </tr>\n",
       "    <tr>\n",
       "      <th>175339</th>\n",
       "      <td>175340</td>\n",
       "      <td>0.000009</td>\n",
       "      <td>udp</td>\n",
       "      <td>dns</td>\n",
       "      <td>INT</td>\n",
       "      <td>2</td>\n",
       "      <td>0</td>\n",
       "      <td>114</td>\n",
       "      <td>0</td>\n",
       "      <td>111111.107200</td>\n",
       "      <td>...</td>\n",
       "      <td>30</td>\n",
       "      <td>14</td>\n",
       "      <td>30</td>\n",
       "      <td>0</td>\n",
       "      <td>0</td>\n",
       "      <td>0</td>\n",
       "      <td>30</td>\n",
       "      <td>30</td>\n",
       "      <td>0</td>\n",
       "      <td>9</td>\n",
       "    </tr>\n",
       "    <tr>\n",
       "      <th>175340</th>\n",
       "      <td>175341</td>\n",
       "      <td>0.000009</td>\n",
       "      <td>udp</td>\n",
       "      <td>dns</td>\n",
       "      <td>INT</td>\n",
       "      <td>2</td>\n",
       "      <td>0</td>\n",
       "      <td>114</td>\n",
       "      <td>0</td>\n",
       "      <td>111111.107200</td>\n",
       "      <td>...</td>\n",
       "      <td>30</td>\n",
       "      <td>16</td>\n",
       "      <td>30</td>\n",
       "      <td>0</td>\n",
       "      <td>0</td>\n",
       "      <td>0</td>\n",
       "      <td>30</td>\n",
       "      <td>30</td>\n",
       "      <td>0</td>\n",
       "      <td>9</td>\n",
       "    </tr>\n",
       "  </tbody>\n",
       "</table>\n",
       "<p>175341 rows × 44 columns</p>\n",
       "</div>"
      ],
      "text/plain": [
       "            id       dur proto service state  spkts  dpkts  sbytes  dbytes  \\\n",
       "0            1  0.121478   tcp       -   FIN      6      4     258     172   \n",
       "1            2  0.649902   tcp       -   FIN     14     38     734   42014   \n",
       "2            3  1.623129   tcp       -   FIN      8     16     364   13186   \n",
       "3            4  1.681642   tcp     ftp   FIN     12     12     628     770   \n",
       "4            5  0.449454   tcp       -   FIN     10      6     534     268   \n",
       "...        ...       ...   ...     ...   ...    ...    ...     ...     ...   \n",
       "175336  175337  0.000009   udp     dns   INT      2      0     114       0   \n",
       "175337  175338  0.505762   tcp       -   FIN     10      8     620     354   \n",
       "175338  175339  0.000009   udp     dns   INT      2      0     114       0   \n",
       "175339  175340  0.000009   udp     dns   INT      2      0     114       0   \n",
       "175340  175341  0.000009   udp     dns   INT      2      0     114       0   \n",
       "\n",
       "                 rate  ...  ct_src_dport_ltm  ct_dst_sport_ltm  \\\n",
       "0           74.087490  ...                 1                 1   \n",
       "1           78.473372  ...                 1                 1   \n",
       "2           14.170161  ...                 1                 1   \n",
       "3           13.677108  ...                 1                 1   \n",
       "4           33.373826  ...                 2                 1   \n",
       "...               ...  ...               ...               ...   \n",
       "175336  111111.107200  ...                24                13   \n",
       "175337      33.612649  ...                 1                 1   \n",
       "175338  111111.107200  ...                 3                 3   \n",
       "175339  111111.107200  ...                30                14   \n",
       "175340  111111.107200  ...                30                16   \n",
       "\n",
       "        ct_dst_src_ltm  is_ftp_login  ct_ftp_cmd  ct_flw_http_mthd  \\\n",
       "0                    1             0           0                 0   \n",
       "1                    2             0           0                 0   \n",
       "2                    3             0           0                 0   \n",
       "3                    3             1           1                 0   \n",
       "4                   40             0           0                 0   \n",
       "...                ...           ...         ...               ...   \n",
       "175336              24             0           0                 0   \n",
       "175337               2             0           0                 0   \n",
       "175338              13             0           0                 0   \n",
       "175339              30             0           0                 0   \n",
       "175340              30             0           0                 0   \n",
       "\n",
       "        ct_src_ltm  ct_srv_dst  is_sm_ips_ports  Class  \n",
       "0                1           1                0      0  \n",
       "1                1           6                0      0  \n",
       "2                2           6                0      0  \n",
       "3                2           1                0      0  \n",
       "4                2          39                0      0  \n",
       "...            ...         ...              ...    ...  \n",
       "175336          24          24                0      9  \n",
       "175337           1           1                0      8  \n",
       "175338           3          12                0      9  \n",
       "175339          30          30                0      9  \n",
       "175340          30          30                0      9  \n",
       "\n",
       "[175341 rows x 44 columns]"
      ]
     },
     "execution_count": 16,
     "metadata": {},
     "output_type": "execute_result"
    }
   ],
   "source": [
    "Test"
   ]
  },
  {
   "cell_type": "code",
   "execution_count": 17,
   "metadata": {
    "colab": {
     "base_uri": "https://localhost:8080/"
    },
    "id": "t3wKzI8tJ7u-",
    "outputId": "7e41be23-e818-42ef-d78d-51a5e7d30015"
   },
   "outputs": [
    {
     "name": "stdout",
     "output_type": "stream",
     "text": [
      "<class 'pandas.core.frame.DataFrame'>\n",
      "RangeIndex: 175341 entries, 0 to 175340\n",
      "Data columns (total 44 columns):\n",
      " #   Column             Non-Null Count   Dtype  \n",
      "---  ------             --------------   -----  \n",
      " 0   id                 175341 non-null  int64  \n",
      " 1   dur                175341 non-null  float64\n",
      " 2   proto              175341 non-null  object \n",
      " 3   service            175341 non-null  object \n",
      " 4   state              175341 non-null  object \n",
      " 5   spkts              175341 non-null  int64  \n",
      " 6   dpkts              175341 non-null  int64  \n",
      " 7   sbytes             175341 non-null  int64  \n",
      " 8   dbytes             175341 non-null  int64  \n",
      " 9   rate               175341 non-null  float64\n",
      " 10  sttl               175341 non-null  int64  \n",
      " 11  dttl               175341 non-null  int64  \n",
      " 12  sload              175341 non-null  float64\n",
      " 13  dload              175341 non-null  float64\n",
      " 14  sloss              175341 non-null  int64  \n",
      " 15  dloss              175341 non-null  int64  \n",
      " 16  sinpkt             175341 non-null  float64\n",
      " 17  dinpkt             175341 non-null  float64\n",
      " 18  sjit               175341 non-null  float64\n",
      " 19  djit               175341 non-null  float64\n",
      " 20  swin               175341 non-null  int64  \n",
      " 21  stcpb              175341 non-null  int64  \n",
      " 22  dtcpb              175341 non-null  int64  \n",
      " 23  dwin               175341 non-null  int64  \n",
      " 24  tcprtt             175341 non-null  float64\n",
      " 25  synack             175341 non-null  float64\n",
      " 26  ackdat             175341 non-null  float64\n",
      " 27  smean              175341 non-null  int64  \n",
      " 28  dmean              175341 non-null  int64  \n",
      " 29  trans_depth        175341 non-null  int64  \n",
      " 30  response_body_len  175341 non-null  int64  \n",
      " 31  ct_srv_src         175341 non-null  int64  \n",
      " 32  ct_state_ttl       175341 non-null  int64  \n",
      " 33  ct_dst_ltm         175341 non-null  int64  \n",
      " 34  ct_src_dport_ltm   175341 non-null  int64  \n",
      " 35  ct_dst_sport_ltm   175341 non-null  int64  \n",
      " 36  ct_dst_src_ltm     175341 non-null  int64  \n",
      " 37  is_ftp_login       175341 non-null  int64  \n",
      " 38  ct_ftp_cmd         175341 non-null  int64  \n",
      " 39  ct_flw_http_mthd   175341 non-null  int64  \n",
      " 40  ct_src_ltm         175341 non-null  int64  \n",
      " 41  ct_srv_dst         175341 non-null  int64  \n",
      " 42  is_sm_ips_ports    175341 non-null  int64  \n",
      " 43  Class              175341 non-null  int64  \n",
      "dtypes: float64(11), int64(30), object(3)\n",
      "memory usage: 58.9+ MB\n"
     ]
    }
   ],
   "source": [
    "Test.info()"
   ]
  },
  {
   "cell_type": "code",
   "execution_count": 18,
   "metadata": {
    "colab": {
     "base_uri": "https://localhost:8080/"
    },
    "id": "tPo8NUb6UWsR",
    "outputId": "0b2415ca-8087-4b8b-afa6-1c662d711029"
   },
   "outputs": [
    {
     "data": {
      "text/plain": [
       "0        0\n",
       "1        0\n",
       "2        0\n",
       "3        0\n",
       "4        0\n",
       "        ..\n",
       "82327    0\n",
       "82328    0\n",
       "82329    0\n",
       "82330    0\n",
       "82331    0\n",
       "Name: Class, Length: 82332, dtype: int32"
      ]
     },
     "execution_count": 18,
     "metadata": {},
     "output_type": "execute_result"
    }
   ],
   "source": [
    "Test['Class'].astype(int)\n",
    "Train['Class'].astype(int)"
   ]
  },
  {
   "cell_type": "code",
   "execution_count": 19,
   "metadata": {
    "colab": {
     "base_uri": "https://localhost:8080/"
    },
    "id": "nstRSROQxRDr",
    "outputId": "eba7fc1c-0f2b-4d8d-9ff2-214cc9e3c1f6"
   },
   "outputs": [
    {
     "name": "stdout",
     "output_type": "stream",
     "text": [
      "<class 'pandas.core.frame.DataFrame'>\n",
      "RangeIndex: 82332 entries, 0 to 82331\n",
      "Data columns (total 44 columns):\n",
      " #   Column             Non-Null Count  Dtype  \n",
      "---  ------             --------------  -----  \n",
      " 0   id                 82332 non-null  int64  \n",
      " 1   dur                82332 non-null  float64\n",
      " 2   proto              82332 non-null  object \n",
      " 3   service            82332 non-null  object \n",
      " 4   state              82332 non-null  object \n",
      " 5   spkts              82332 non-null  int64  \n",
      " 6   dpkts              82332 non-null  int64  \n",
      " 7   sbytes             82332 non-null  int64  \n",
      " 8   dbytes             82332 non-null  int64  \n",
      " 9   rate               82332 non-null  float64\n",
      " 10  sttl               82332 non-null  int64  \n",
      " 11  dttl               82332 non-null  int64  \n",
      " 12  sload              82332 non-null  float64\n",
      " 13  dload              82332 non-null  float64\n",
      " 14  sloss              82332 non-null  int64  \n",
      " 15  dloss              82332 non-null  int64  \n",
      " 16  sinpkt             82332 non-null  float64\n",
      " 17  dinpkt             82332 non-null  float64\n",
      " 18  sjit               82332 non-null  float64\n",
      " 19  djit               82332 non-null  float64\n",
      " 20  swin               82332 non-null  int64  \n",
      " 21  stcpb              82332 non-null  int64  \n",
      " 22  dtcpb              82332 non-null  int64  \n",
      " 23  dwin               82332 non-null  int64  \n",
      " 24  tcprtt             82332 non-null  float64\n",
      " 25  synack             82332 non-null  float64\n",
      " 26  ackdat             82332 non-null  float64\n",
      " 27  smean              82332 non-null  int64  \n",
      " 28  dmean              82332 non-null  int64  \n",
      " 29  trans_depth        82332 non-null  int64  \n",
      " 30  response_body_len  82332 non-null  int64  \n",
      " 31  ct_srv_src         82332 non-null  int64  \n",
      " 32  ct_state_ttl       82332 non-null  int64  \n",
      " 33  ct_dst_ltm         82332 non-null  int64  \n",
      " 34  ct_src_dport_ltm   82332 non-null  int64  \n",
      " 35  ct_dst_sport_ltm   82332 non-null  int64  \n",
      " 36  ct_dst_src_ltm     82332 non-null  int64  \n",
      " 37  is_ftp_login       82332 non-null  int64  \n",
      " 38  ct_ftp_cmd         82332 non-null  int64  \n",
      " 39  ct_flw_http_mthd   82332 non-null  int64  \n",
      " 40  ct_src_ltm         82332 non-null  int64  \n",
      " 41  ct_srv_dst         82332 non-null  int64  \n",
      " 42  is_sm_ips_ports    82332 non-null  int64  \n",
      " 43  Class              82332 non-null  int64  \n",
      "dtypes: float64(11), int64(30), object(3)\n",
      "memory usage: 27.6+ MB\n"
     ]
    }
   ],
   "source": [
    "Train.info()"
   ]
  },
  {
   "cell_type": "code",
   "execution_count": 20,
   "metadata": {
    "colab": {
     "base_uri": "https://localhost:8080/",
     "height": 466
    },
    "id": "hEYs5cDHKjL_",
    "outputId": "363f98a7-4caa-410d-c79a-20fe7291c5eb"
   },
   "outputs": [
    {
     "data": {
      "text/plain": [
       "<Axes: xlabel='Class', ylabel='count'>"
      ]
     },
     "execution_count": 20,
     "metadata": {},
     "output_type": "execute_result"
    },
    {
     "data": {
      "image/png": "[encoded data removed]",
      "text/plain": [
       "<Figure size 640x480 with 1 Axes>"
      ]
     },
     "metadata": {},
     "output_type": "display_data"
    }
   ],
   "source": [
    "\n",
    "import seaborn as sns\n",
    "sns.countplot(x=Train['Class'])"
   ]
  },
  {
   "cell_type": "code",
   "execution_count": 21,
   "metadata": {
    "id": "LHcccQFn0UIp"
   },
   "outputs": [],
   "source": [
    "X_train = Train.iloc[:,:-1]\n",
    "y_train = Train.iloc[:,-1]"
   ]
  },
  {
   "cell_type": "code",
   "execution_count": 22,
   "metadata": {
    "colab": {
     "base_uri": "https://localhost:8080/"
    },
    "id": "e1iNQ0PM0Wwu",
    "outputId": "2cd3f8f1-1a56-4227-ecab-ecd511dc8681"
   },
   "outputs": [
    {
     "data": {
      "text/plain": [
       "{0, 1, 2, 3, 4, 5, 6, 7, 8, 9}"
      ]
     },
     "execution_count": 22,
     "metadata": {},
     "output_type": "execute_result"
    }
   ],
   "source": [
    "set(y_train)"
   ]
  },
  {
   "cell_type": "code",
   "execution_count": 23,
   "metadata": {
    "colab": {
     "base_uri": "https://localhost:8080/"
    },
    "id": "4w1E8zQf0Y2u",
    "outputId": "d3720f88-2a63-4822-eb5f-6bc57730a627"
   },
   "outputs": [
    {
     "data": {
      "text/plain": [
       "{'3pc',\n",
       " 'a/n',\n",
       " 'aes-sp3-d',\n",
       " 'any',\n",
       " 'argus',\n",
       " 'aris',\n",
       " 'arp',\n",
       " 'ax.25',\n",
       " 'bbn-rcc',\n",
       " 'bna',\n",
       " 'br-sat-mon',\n",
       " 'cbt',\n",
       " 'cftp',\n",
       " 'chaos',\n",
       " 'compaq-peer',\n",
       " 'cphb',\n",
       " 'cpnx',\n",
       " 'crtp',\n",
       " 'crudp',\n",
       " 'dcn',\n",
       " 'ddp',\n",
       " 'ddx',\n",
       " 'dgp',\n",
       " 'egp',\n",
       " 'eigrp',\n",
       " 'emcon',\n",
       " 'encap',\n",
       " 'etherip',\n",
       " 'fc',\n",
       " 'fire',\n",
       " 'ggp',\n",
       " 'gmtp',\n",
       " 'gre',\n",
       " 'hmp',\n",
       " 'i-nlsp',\n",
       " 'iatp',\n",
       " 'ib',\n",
       " 'idpr',\n",
       " 'idpr-cmtp',\n",
       " 'idrp',\n",
       " 'ifmp',\n",
       " 'igmp',\n",
       " 'igp',\n",
       " 'il',\n",
       " 'ip',\n",
       " 'ipcomp',\n",
       " 'ipcv',\n",
       " 'ipip',\n",
       " 'iplt',\n",
       " 'ipnip',\n",
       " 'ippc',\n",
       " 'ipv6',\n",
       " 'ipv6-frag',\n",
       " 'ipv6-no',\n",
       " 'ipv6-opts',\n",
       " 'ipv6-route',\n",
       " 'ipx-n-ip',\n",
       " 'irtp',\n",
       " 'isis',\n",
       " 'iso-ip',\n",
       " 'iso-tp4',\n",
       " 'kryptolan',\n",
       " 'l2tp',\n",
       " 'larp',\n",
       " 'leaf-1',\n",
       " 'leaf-2',\n",
       " 'merit-inp',\n",
       " 'mfe-nsp',\n",
       " 'mhrp',\n",
       " 'micp',\n",
       " 'mobile',\n",
       " 'mtp',\n",
       " 'mux',\n",
       " 'narp',\n",
       " 'netblt',\n",
       " 'nsfnet-igp',\n",
       " 'nvp',\n",
       " 'ospf',\n",
       " 'pgm',\n",
       " 'pim',\n",
       " 'pipe',\n",
       " 'pnni',\n",
       " 'pri-enc',\n",
       " 'prm',\n",
       " 'ptp',\n",
       " 'pup',\n",
       " 'pvp',\n",
       " 'qnx',\n",
       " 'rdp',\n",
       " 'rsvp',\n",
       " 'rvd',\n",
       " 'sat-expak',\n",
       " 'sat-mon',\n",
       " 'sccopmce',\n",
       " 'scps',\n",
       " 'sctp',\n",
       " 'sdrp',\n",
       " 'secure-vmtp',\n",
       " 'sep',\n",
       " 'skip',\n",
       " 'sm',\n",
       " 'smp',\n",
       " 'snp',\n",
       " 'sprite-rpc',\n",
       " 'sps',\n",
       " 'srp',\n",
       " 'st2',\n",
       " 'stp',\n",
       " 'sun-nd',\n",
       " 'swipe',\n",
       " 'tcf',\n",
       " 'tcp',\n",
       " 'tlsp',\n",
       " 'tp++',\n",
       " 'trunk-1',\n",
       " 'trunk-2',\n",
       " 'ttp',\n",
       " 'udp',\n",
       " 'unas',\n",
       " 'uti',\n",
       " 'vines',\n",
       " 'visa',\n",
       " 'vmtp',\n",
       " 'vrrp',\n",
       " 'wb-expak',\n",
       " 'wb-mon',\n",
       " 'wsn',\n",
       " 'xnet',\n",
       " 'xns-idp',\n",
       " 'xtp',\n",
       " 'zero'}"
      ]
     },
     "execution_count": 23,
     "metadata": {},
     "output_type": "execute_result"
    }
   ],
   "source": [
    "set(X_train['proto'])"
   ]
  },
  {
   "cell_type": "code",
   "execution_count": 24,
   "metadata": {
    "id": "s0tHIBIp0cN-"
   },
   "outputs": [],
   "source": [
    "import pandas as pd\n",
    "\n",
    "# Assuming you have a DataFrame called 'df' with columns 'proto', 'service', and 'state'\n",
    "from sklearn.preprocessing import LabelEncoder\n",
    "\n",
    "label_encoder = LabelEncoder()\n",
    "\n",
    "# Apply label encoding to 'proto' column\n",
    "X_train['proto_e'] = label_encoder.fit_transform(X_train['proto'])\n",
    "\n",
    "# Apply label encoding to 'service' column\n",
    "X_train['service_e'] = label_encoder.fit_transform(X_train['service'])\n",
    "\n",
    "# Apply label encoding to 'state' column\n",
    "X_train['state_e'] = label_encoder.fit_transform(X_train['state'])\n",
    "# Drop the original columns\n",
    "X_train.drop(columns=['proto', 'service', 'state'], inplace=True)"
   ]
  },
  {
   "cell_type": "code",
   "execution_count": 25,
   "metadata": {
    "colab": {
     "base_uri": "https://localhost:8080/"
    },
    "id": "1X6b_rqx0egr",
    "outputId": "72fb1f4c-0839-4cf2-bd41-cd5bae456d62"
   },
   "outputs": [
    {
     "data": {
      "text/plain": [
       "{0,\n",
       " 1,\n",
       " 2,\n",
       " 3,\n",
       " 4,\n",
       " 5,\n",
       " 6,\n",
       " 7,\n",
       " 8,\n",
       " 9,\n",
       " 10,\n",
       " 11,\n",
       " 12,\n",
       " 13,\n",
       " 14,\n",
       " 15,\n",
       " 16,\n",
       " 17,\n",
       " 18,\n",
       " 19,\n",
       " 20,\n",
       " 21,\n",
       " 22,\n",
       " 23,\n",
       " 24,\n",
       " 25,\n",
       " 26,\n",
       " 27,\n",
       " 28,\n",
       " 29,\n",
       " 30,\n",
       " 31,\n",
       " 32,\n",
       " 33,\n",
       " 34,\n",
       " 35,\n",
       " 36,\n",
       " 37,\n",
       " 38,\n",
       " 39,\n",
       " 40,\n",
       " 41,\n",
       " 42,\n",
       " 43,\n",
       " 44,\n",
       " 45,\n",
       " 46,\n",
       " 47,\n",
       " 48,\n",
       " 49,\n",
       " 50,\n",
       " 51,\n",
       " 52,\n",
       " 53,\n",
       " 54,\n",
       " 55,\n",
       " 56,\n",
       " 57,\n",
       " 58,\n",
       " 59,\n",
       " 60,\n",
       " 61,\n",
       " 62,\n",
       " 63,\n",
       " 64,\n",
       " 65,\n",
       " 66,\n",
       " 67,\n",
       " 68,\n",
       " 69,\n",
       " 70,\n",
       " 71,\n",
       " 72,\n",
       " 73,\n",
       " 74,\n",
       " 75,\n",
       " 76,\n",
       " 77,\n",
       " 78,\n",
       " 79,\n",
       " 80,\n",
       " 81,\n",
       " 82,\n",
       " 83,\n",
       " 84,\n",
       " 85,\n",
       " 86,\n",
       " 87,\n",
       " 88,\n",
       " 89,\n",
       " 90,\n",
       " 91,\n",
       " 92,\n",
       " 93,\n",
       " 94,\n",
       " 95,\n",
       " 96,\n",
       " 97,\n",
       " 98,\n",
       " 99,\n",
       " 100,\n",
       " 101,\n",
       " 102,\n",
       " 103,\n",
       " 104,\n",
       " 105,\n",
       " 106,\n",
       " 107,\n",
       " 108,\n",
       " 109,\n",
       " 110,\n",
       " 111,\n",
       " 112,\n",
       " 113,\n",
       " 114,\n",
       " 115,\n",
       " 116,\n",
       " 117,\n",
       " 118,\n",
       " 119,\n",
       " 120,\n",
       " 121,\n",
       " 122,\n",
       " 123,\n",
       " 124,\n",
       " 125,\n",
       " 126,\n",
       " 127,\n",
       " 128,\n",
       " 129,\n",
       " 130}"
      ]
     },
     "execution_count": 25,
     "metadata": {},
     "output_type": "execute_result"
    }
   ],
   "source": [
    "set(X_train['proto_e'])"
   ]
  },
  {
   "cell_type": "code",
   "execution_count": 26,
   "metadata": {
    "colab": {
     "base_uri": "https://localhost:8080/"
    },
    "id": "inTk3F8lk8_d",
    "outputId": "c374ab02-b396-4a5c-bec2-c39bf2ed8b07"
   },
   "outputs": [
    {
     "name": "stdout",
     "output_type": "stream",
     "text": [
      "<class 'pandas.core.frame.DataFrame'>\n",
      "RangeIndex: 82332 entries, 0 to 82331\n",
      "Data columns (total 43 columns):\n",
      " #   Column             Non-Null Count  Dtype  \n",
      "---  ------             --------------  -----  \n",
      " 0   id                 82332 non-null  int64  \n",
      " 1   dur                82332 non-null  float64\n",
      " 2   spkts              82332 non-null  int64  \n",
      " 3   dpkts              82332 non-null  int64  \n",
      " 4   sbytes             82332 non-null  int64  \n",
      " 5   dbytes             82332 non-null  int64  \n",
      " 6   rate               82332 non-null  float64\n",
      " 7   sttl               82332 non-null  int64  \n",
      " 8   dttl               82332 non-null  int64  \n",
      " 9   sload              82332 non-null  float64\n",
      " 10  dload              82332 non-null  float64\n",
      " 11  sloss              82332 non-null  int64  \n",
      " 12  dloss              82332 non-null  int64  \n",
      " 13  sinpkt             82332 non-null  float64\n",
      " 14  dinpkt             82332 non-null  float64\n",
      " 15  sjit               82332 non-null  float64\n",
      " 16  djit               82332 non-null  float64\n",
      " 17  swin               82332 non-null  int64  \n",
      " 18  stcpb              82332 non-null  int64  \n",
      " 19  dtcpb              82332 non-null  int64  \n",
      " 20  dwin               82332 non-null  int64  \n",
      " 21  tcprtt             82332 non-null  float64\n",
      " 22  synack             82332 non-null  float64\n",
      " 23  ackdat             82332 non-null  float64\n",
      " 24  smean              82332 non-null  int64  \n",
      " 25  dmean              82332 non-null  int64  \n",
      " 26  trans_depth        82332 non-null  int64  \n",
      " 27  response_body_len  82332 non-null  int64  \n",
      " 28  ct_srv_src         82332 non-null  int64  \n",
      " 29  ct_state_ttl       82332 non-null  int64  \n",
      " 30  ct_dst_ltm         82332 non-null  int64  \n",
      " 31  ct_src_dport_ltm   82332 non-null  int64  \n",
      " 32  ct_dst_sport_ltm   82332 non-null  int64  \n",
      " 33  ct_dst_src_ltm     82332 non-null  int64  \n",
      " 34  is_ftp_login       82332 non-null  int64  \n",
      " 35  ct_ftp_cmd         82332 non-null  int64  \n",
      " 36  ct_flw_http_mthd   82332 non-null  int64  \n",
      " 37  ct_src_ltm         82332 non-null  int64  \n",
      " 38  ct_srv_dst         82332 non-null  int64  \n",
      " 39  is_sm_ips_ports    82332 non-null  int64  \n",
      " 40  proto_e            82332 non-null  int32  \n",
      " 41  service_e          82332 non-null  int32  \n",
      " 42  state_e            82332 non-null  int32  \n",
      "dtypes: float64(11), int32(3), int64(29)\n",
      "memory usage: 26.1 MB\n"
     ]
    }
   ],
   "source": [
    "X_train.info()"
   ]
  },
  {
   "cell_type": "code",
   "execution_count": 27,
   "metadata": {
    "colab": {
     "base_uri": "https://localhost:8080/"
    },
    "id": "i5ZN35PRlC7W",
    "outputId": "2803066b-887f-422a-e174-41fced0c207e"
   },
   "outputs": [
    {
     "data": {
      "text/plain": [
       "(82332,)"
      ]
     },
     "execution_count": 27,
     "metadata": {},
     "output_type": "execute_result"
    }
   ],
   "source": [
    "y_train.shape"
   ]
  },
  {
   "cell_type": "code",
   "execution_count": 28,
   "metadata": {
    "colab": {
     "base_uri": "https://localhost:8080/"
    },
    "id": "Hmyc6niblWgO",
    "outputId": "4fee19bd-3e6c-4998-d33d-6c9e62ae647c"
   },
   "outputs": [
    {
     "data": {
      "text/plain": [
       "(82332, 43)"
      ]
     },
     "execution_count": 28,
     "metadata": {},
     "output_type": "execute_result"
    }
   ],
   "source": [
    "X_train.shape"
   ]
  },
  {
   "cell_type": "code",
   "execution_count": 29,
   "metadata": {
    "colab": {
     "base_uri": "https://localhost:8080/"
    },
    "id": "BQlvIDAAlam7",
    "outputId": "73c0d104-950b-4e87-86cc-53c32a9bb3f9"
   },
   "outputs": [
    {
     "data": {
      "text/plain": [
       "(82332,)"
      ]
     },
     "execution_count": 29,
     "metadata": {},
     "output_type": "execute_result"
    }
   ],
   "source": [
    "y_train.shape"
   ]
  },
  {
   "cell_type": "code",
   "execution_count": 30,
   "metadata": {
    "colab": {
     "base_uri": "https://localhost:8080/",
     "height": 466
    },
    "id": "X3PMOXErbA17",
    "outputId": "a35232a7-5037-4be6-c03d-58cb62859158"
   },
   "outputs": [
    {
     "data": {
      "text/plain": [
       "<Axes: xlabel='Class', ylabel='count'>"
      ]
     },
     "execution_count": 30,
     "metadata": {},
     "output_type": "execute_result"
    },
    {
     "data": {
      "image/png": "[encoded data removed]",
      "text/plain": [
       "<Figure size 640x480 with 1 Axes>"
      ]
     },
     "metadata": {},
     "output_type": "display_data"
    }
   ],
   "source": [
    "sns.countplot(x=y_train)"
   ]
  },
  {
   "cell_type": "code",
   "execution_count": 31,
   "metadata": {
    "colab": {
     "base_uri": "https://localhost:8080/"
    },
    "id": "UJBiJU5w0hKA",
    "outputId": "24da5c80-0e41-4f45-cbd3-3113a24379be"
   },
   "outputs": [
    {
     "name": "stdout",
     "output_type": "stream",
     "text": [
      "<class 'pandas.core.frame.DataFrame'>\n",
      "RangeIndex: 82332 entries, 0 to 82331\n",
      "Data columns (total 43 columns):\n",
      " #   Column             Non-Null Count  Dtype  \n",
      "---  ------             --------------  -----  \n",
      " 0   id                 82332 non-null  int64  \n",
      " 1   dur                82332 non-null  float64\n",
      " 2   spkts              82332 non-null  int64  \n",
      " 3   dpkts              82332 non-null  int64  \n",
      " 4   sbytes             82332 non-null  int64  \n",
      " 5   dbytes             82332 non-null  int64  \n",
      " 6   rate               82332 non-null  float64\n",
      " 7   sttl               82332 non-null  int64  \n",
      " 8   dttl               82332 non-null  int64  \n",
      " 9   sload              82332 non-null  float64\n",
      " 10  dload              82332 non-null  float64\n",
      " 11  sloss              82332 non-null  int64  \n",
      " 12  dloss              82332 non-null  int64  \n",
      " 13  sinpkt             82332 non-null  float64\n",
      " 14  dinpkt             82332 non-null  float64\n",
      " 15  sjit               82332 non-null  float64\n",
      " 16  djit               82332 non-null  float64\n",
      " 17  swin               82332 non-null  int64  \n",
      " 18  stcpb              82332 non-null  int64  \n",
      " 19  dtcpb              82332 non-null  int64  \n",
      " 20  dwin               82332 non-null  int64  \n",
      " 21  tcprtt             82332 non-null  float64\n",
      " 22  synack             82332 non-null  float64\n",
      " 23  ackdat             82332 non-null  float64\n",
      " 24  smean              82332 non-null  int64  \n",
      " 25  dmean              82332 non-null  int64  \n",
      " 26  trans_depth        82332 non-null  int64  \n",
      " 27  response_body_len  82332 non-null  int64  \n",
      " 28  ct_srv_src         82332 non-null  int64  \n",
      " 29  ct_state_ttl       82332 non-null  int64  \n",
      " 30  ct_dst_ltm         82332 non-null  int64  \n",
      " 31  ct_src_dport_ltm   82332 non-null  int64  \n",
      " 32  ct_dst_sport_ltm   82332 non-null  int64  \n",
      " 33  ct_dst_src_ltm     82332 non-null  int64  \n",
      " 34  is_ftp_login       82332 non-null  int64  \n",
      " 35  ct_ftp_cmd         82332 non-null  int64  \n",
      " 36  ct_flw_http_mthd   82332 non-null  int64  \n",
      " 37  ct_src_ltm         82332 non-null  int64  \n",
      " 38  ct_srv_dst         82332 non-null  int64  \n",
      " 39  is_sm_ips_ports    82332 non-null  int64  \n",
      " 40  proto_e            82332 non-null  int32  \n",
      " 41  service_e          82332 non-null  int32  \n",
      " 42  state_e            82332 non-null  int32  \n",
      "dtypes: float64(11), int32(3), int64(29)\n",
      "memory usage: 26.1 MB\n"
     ]
    }
   ],
   "source": [
    "X_train.info()"
   ]
  },
  {
   "cell_type": "markdown",
   "metadata": {
    "id": "w4AzKckL0mjT"
   },
   "source": [
    "test data spliting"
   ]
  },
  {
   "cell_type": "code",
   "execution_count": 32,
   "metadata": {
    "id": "TxLFeh2h0lrg"
   },
   "outputs": [],
   "source": [
    "X_test = Test.iloc[:,:-1]\n",
    "y_test = Test.iloc[:,-1]"
   ]
  },
  {
   "cell_type": "code",
   "execution_count": 33,
   "metadata": {
    "colab": {
     "base_uri": "https://localhost:8080/"
    },
    "id": "KY-mGnwi3rgN",
    "outputId": "3b7b945a-d6e9-4aac-d03e-e7e4aa3fe1cc"
   },
   "outputs": [
    {
     "data": {
      "text/plain": [
       "{0, 1, 2, 3, 4, 5, 6, 7, 8, 9}"
      ]
     },
     "execution_count": 33,
     "metadata": {},
     "output_type": "execute_result"
    }
   ],
   "source": [
    "set(y_test)"
   ]
  },
  {
   "cell_type": "code",
   "execution_count": 34,
   "metadata": {
    "id": "z2YSJt2I0pLF"
   },
   "outputs": [],
   "source": [
    "import pandas as pd\n",
    "\n",
    "# Assuming you have a DataFrame called 'df' with columns 'proto', 'service', and 'state'\n",
    "from sklearn.preprocessing import LabelEncoder\n",
    "\n",
    "label_encoder = LabelEncoder()\n",
    "\n",
    "# Apply label encoding to 'proto' column\n",
    "X_test['proto_e'] = label_encoder.fit_transform(X_test['proto'])\n",
    "\n",
    "# Apply label encoding to 'service' column\n",
    "X_test['service_e'] = label_encoder.fit_transform(X_test['service'])\n",
    "\n",
    "# Apply label encoding to 'state' column\n",
    "X_test['state_e'] = label_encoder.fit_transform(X_test['state'])\n",
    "# Drop the original columns\n",
    "X_test.drop(columns=['proto', 'service', 'state'], inplace=True)"
   ]
  },
  {
   "cell_type": "code",
   "execution_count": 35,
   "metadata": {
    "colab": {
     "base_uri": "https://localhost:8080/",
     "height": 105
    },
    "id": "PV8WulEd1j1P",
    "outputId": "cfc34865-c71d-49a0-9709-7a39b0f0ff91"
   },
   "outputs": [
    {
     "data": {
      "text/plain": [
       "'import numpy as np\\nfrom collections import Counter\\nfrom imblearn.over_sampling import RandomOverSampler\\n\\n# Assuming you have the following data:\\n# X_train: Input data with shape (num_samples, num_features)\\n# y_train: Target labels with shape (num_samples,)\\n\\n# Check the class distribution before oversampling\\nprint(\"Original class distribution:\", Counter(y_train))\\n\\n# Create an instance of RandomOverSampler\\nros = RandomOverSampler(random_state=42)\\n\\n# Reshape y_train to have 1D shape (num_samples,)\\ny_train = np.reshape(y_train, (-1,))\\n\\n# Perform the oversampling\\nx_train, y_train = ros.fit_resample(X_train, y_train)\\n\\n# Check the class distribution after oversampling\\nprint(\"Oversampled class distribution:\", Counter(y_train))'"
      ]
     },
     "execution_count": 35,
     "metadata": {},
     "output_type": "execute_result"
    }
   ],
   "source": [
    "'''import numpy as np\n",
    "from collections import Counter\n",
    "from imblearn.over_sampling import RandomOverSampler\n",
    "\n",
    "# Assuming you have the following data:\n",
    "# X_train: Input data with shape (num_samples, num_features)\n",
    "# y_train: Target labels with shape (num_samples,)\n",
    "\n",
    "# Check the class distribution before oversampling\n",
    "print(\"Original class distribution:\", Counter(y_train))\n",
    "\n",
    "# Create an instance of RandomOverSampler\n",
    "ros = RandomOverSampler(random_state=42)\n",
    "\n",
    "# Reshape y_train to have 1D shape (num_samples,)\n",
    "y_train = np.reshape(y_train, (-1,))\n",
    "\n",
    "# Perform the oversampling\n",
    "x_train, y_train = ros.fit_resample(X_train, y_train)\n",
    "\n",
    "# Check the class distribution after oversampling\n",
    "print(\"Oversampled class distribution:\", Counter(y_train))'''"
   ]
  },
  {
   "cell_type": "code",
   "execution_count": 36,
   "metadata": {
    "colab": {
     "base_uri": "https://localhost:8080/",
     "height": 105
    },
    "id": "vlvRwtmLb8dN",
    "outputId": "bd817fa1-abf7-4f8b-e4e6-833e9d7079da"
   },
   "outputs": [
    {
     "data": {
      "text/plain": [
       "'import numpy as np\\nfrom collections import Counter\\nfrom imblearn.over_sampling import RandomOverSampler\\n\\n# Assuming you have the following data:\\n# X_train: Input data with shape (num_samples, num_features)\\n# y_train: Target labels with shape (num_samples,)\\n\\n# Check the class distribution before oversampling\\nprint(\"Original class distribution:\", Counter(y_test))\\n\\n# Create an instance of RandomOverSampler\\nros = RandomOverSampler(random_state=42)\\n\\n# Reshape y_train to have 1D shape (num_samples,)\\ny_test = np.reshape(y_test, (-1,))\\n\\n# Perform the oversampling\\nx_test, y_test = ros.fit_resample(X_test, y_test)\\n\\n# Check the class distribution after oversampling\\nprint(\"Oversampled class distribution:\", Counter(y_test))'"
      ]
     },
     "execution_count": 36,
     "metadata": {},
     "output_type": "execute_result"
    }
   ],
   "source": [
    "'''import numpy as np\n",
    "from collections import Counter\n",
    "from imblearn.over_sampling import RandomOverSampler\n",
    "\n",
    "# Assuming you have the following data:\n",
    "# X_train: Input data with shape (num_samples, num_features)\n",
    "# y_train: Target labels with shape (num_samples,)\n",
    "\n",
    "# Check the class distribution before oversampling\n",
    "print(\"Original class distribution:\", Counter(y_test))\n",
    "\n",
    "# Create an instance of RandomOverSampler\n",
    "ros = RandomOverSampler(random_state=42)\n",
    "\n",
    "# Reshape y_train to have 1D shape (num_samples,)\n",
    "y_test = np.reshape(y_test, (-1,))\n",
    "\n",
    "# Perform the oversampling\n",
    "x_test, y_test = ros.fit_resample(X_test, y_test)\n",
    "\n",
    "# Check the class distribution after oversampling\n",
    "print(\"Oversampled class distribution:\", Counter(y_test))'''"
   ]
  },
  {
   "cell_type": "code",
   "execution_count": 37,
   "metadata": {
    "colab": {
     "base_uri": "https://localhost:8080/",
     "height": 105
    },
    "id": "ebHWSaVRz1lg",
    "outputId": "1eda866d-305c-41cd-c0d8-11958fe843da"
   },
   "outputs": [
    {
     "name": "stdout",
     "output_type": "stream",
     "text": [
      "Original class distribution: Counter({0: 37000, 9: 18871, 4: 11132, 6: 6062, 3: 4089, 1: 3496, 5: 677, 2: 583, 8: 378, 7: 44})\n",
      "Oversampled class distribution: Counter({0: 37000, 1: 37000, 2: 37000, 3: 37000, 4: 37000, 5: 37000, 6: 37000, 7: 37000, 8: 37000, 9: 37000})\n"
     ]
    }
   ],
   "source": [
    "import numpy as np\n",
    "from collections import Counter\n",
    "from imblearn.over_sampling import RandomOverSampler\n",
    "\n",
    "# Assuming you have the following data:\n",
    "# X_train: Input data with shape (num_samples, num_features)\n",
    "# y_train: Target labels with shape (num_samples,)\n",
    "\n",
    "# Check the class distribution before oversampling\n",
    "print(\"Original class distribution:\", Counter(y_train))\n",
    "\n",
    "# Create an instance of RandomOverSampler\n",
    "ros = RandomOverSampler(random_state=42)\n",
    "\n",
    "# Reshape y_train to have 1D shape (num_samples,)\n",
    "y_train = np.reshape(y_train, (-1,))\n",
    "\n",
    "# Perform the oversampling\n",
    "X_train , y_train = ros.fit_resample(X_train, y_train)\n",
    "\n",
    "# Check the class distribution after oversampling\n",
    "print(\"Oversampled class distribution:\", Counter(y_train))\n"
   ]
  },
  {
   "cell_type": "code",
   "execution_count": 38,
   "metadata": {
    "colab": {
     "base_uri": "https://localhost:8080/",
     "height": 466
    },
    "id": "QZx-jSbWKzzy",
    "outputId": "168918bb-ebac-416f-e3ff-e13a1e4467e0"
   },
   "outputs": [
    {
     "data": {
      "text/plain": [
       "<Axes: ylabel='count'>"
      ]
     },
     "execution_count": 38,
     "metadata": {},
     "output_type": "execute_result"
    },
    {
     "data": {
      "image/png": "[encoded data removed]",
      "text/plain": [
       "<Figure size 640x480 with 1 Axes>"
      ]
     },
     "metadata": {},
     "output_type": "display_data"
    }
   ],
   "source": [
    "sns.countplot(x=y_train)"
   ]
  },
  {
   "cell_type": "code",
   "execution_count": 39,
   "metadata": {
    "colab": {
     "base_uri": "https://localhost:8080/",
     "height": 466
    },
    "id": "1Op2Ug_Ach1V",
    "outputId": "8e2de66d-dfdf-4c53-f26a-ebd7513a4548"
   },
   "outputs": [
    {
     "data": {
      "text/plain": [
       "<Axes: xlabel='Class', ylabel='count'>"
      ]
     },
     "execution_count": 39,
     "metadata": {},
     "output_type": "execute_result"
    },
    {
     "data": {
      "image/png": "[encoded data removed]",
      "text/plain": [
       "<Figure size 640x480 with 1 Axes>"
      ]
     },
     "metadata": {},
     "output_type": "display_data"
    }
   ],
   "source": [
    "sns.countplot(x=y_test)"
   ]
  },
  {
   "cell_type": "code",
   "execution_count": 40,
   "metadata": {
    "id": "5p4om5Zh0tFp"
   },
   "outputs": [],
   "source": [
    "# 6 + 5 + 6 unique = 17, therefore the first 17 rows will be the categories that have been encoded, start scaling from row 18 only.\n",
    "\n",
    "from sklearn.preprocessing import StandardScaler\n",
    "sc = StandardScaler()\n",
    "x_train = sc.fit_transform(X_train)\n",
    "x_test = sc.fit_transform(X_test)"
   ]
  },
  {
   "cell_type": "code",
   "execution_count": 41,
   "metadata": {
    "colab": {
     "base_uri": "https://localhost:8080/"
    },
    "id": "W_TYfo7qoxUj",
    "outputId": "cfcd8a26-3b72-4ca3-a66f-2326b1126353"
   },
   "outputs": [
    {
     "data": {
      "text/plain": [
       "(370000, 43)"
      ]
     },
     "execution_count": 41,
     "metadata": {},
     "output_type": "execute_result"
    }
   ],
   "source": [
    "x_train.shape"
   ]
  },
  {
   "cell_type": "code",
   "execution_count": 42,
   "metadata": {},
   "outputs": [
    {
     "data": {
      "text/plain": [
       "'import numpy as np\\nx_train=np.concatenate((x_train, x_test))\\ny_train=np.concatenate((y_train, y_test))'"
      ]
     },
     "execution_count": 42,
     "metadata": {},
     "output_type": "execute_result"
    }
   ],
   "source": [
    "'''import numpy as np\n",
    "x_train=np.concatenate((x_train, x_test))\n",
    "y_train=np.concatenate((y_train, y_test))'''"
   ]
  },
  {
   "cell_type": "code",
   "execution_count": 43,
   "metadata": {
    "colab": {
     "base_uri": "https://localhost:8080/"
    },
    "id": "SmuUd0DW0y9-",
    "outputId": "e5a12b6a-45bc-491a-9ea6-ce26d647bf9a"
   },
   "outputs": [
    {
     "name": "stdout",
     "output_type": "stream",
     "text": [
      "Model: \"model\"\n",
      "__________________________________________________________________________________________________\n",
      " Layer (type)                Output Shape                 Param #   Connected to                  \n",
      "==================================================================================================\n",
      " input_1 (InputLayer)        [(None, 370000, 43, 1)]      0         []                            \n",
      "                                                                                                  \n",
      " conv2d_3 (Conv2D)           (None, 370000, 43, 128)      1280      ['input_1[0][0]']             \n",
      "                                                                                                  \n",
      " conv2d (Conv2D)             (None, 370000, 43, 128)      1280      ['input_1[0][0]']             \n",
      "                                                                                                  \n",
      " conv2d_4 (Conv2D)           (None, 370000, 43, 64)       73792     ['conv2d_3[0][0]']            \n",
      "                                                                                                  \n",
      " conv2d_1 (Conv2D)           (None, 370000, 43, 64)       73792     ['conv2d[0][0]']              \n",
      "                                                                                                  \n",
      " conv2d_5 (Conv2D)           (None, 370000, 43, 32)       18464     ['conv2d_4[0][0]']            \n",
      "                                                                                                  \n",
      " conv2d_2 (Conv2D)           (None, 370000, 43, 32)       18464     ['conv2d_1[0][0]']            \n",
      "                                                                                                  \n",
      " positional_self_attention   (None, 32)                   3168      ['conv2d_5[0][0]']            \n",
      " (PositionalSelfAttention)                                                                        \n",
      "                                                                                                  \n",
      " channel_attention (Channel  (None, 370000, 43, 32)       33        ['conv2d_2[0][0]']            \n",
      " Attention)                                                                                       \n",
      "                                                                                                  \n",
      " tf.math.add (TFOpLambda)    (None, 370000, 43, 32)       0         ['positional_self_attention[0]\n",
      "                                                                    [0]',                         \n",
      "                                                                     'channel_attention[0][0]']   \n",
      "                                                                                                  \n",
      "==================================================================================================\n",
      "Total params: 190273 (743.25 KB)\n",
      "Trainable params: 190273 (743.25 KB)\n",
      "Non-trainable params: 0 (0.00 Byte)\n",
      "__________________________________________________________________________________________________\n",
      "Model: \"model_1\"\n",
      "_________________________________________________________________\n",
      " Layer (type)                Output Shape              Param #   \n",
      "=================================================================\n",
      " input_1 (InputLayer)        [(None, 370000, 43, 1)]   0         \n",
      "                                                                 \n",
      " model (Functional)          (None, 370000, 43, 32)    190273    \n",
      "                                                                 \n",
      " conv2d_transpose (Conv2DTr  (None, 370000, 43, 32)    9248      \n",
      " anspose)                                                        \n",
      "                                                                 \n",
      " conv2d_transpose_1 (Conv2D  (None, 370000, 43, 64)    18496     \n",
      " Transpose)                                                      \n",
      "                                                                 \n",
      " conv2d_transpose_2 (Conv2D  (None, 370000, 43, 128)   73856     \n",
      " Transpose)                                                      \n",
      "                                                                 \n",
      " conv2d_transpose_3 (Conv2D  (None, 370000, 43, 256)   295168    \n",
      " Transpose)                                                      \n",
      "                                                                 \n",
      " conv2d_transpose_4 (Conv2D  (None, 370000, 43, 128)   295040    \n",
      " Transpose)                                                      \n",
      "                                                                 \n",
      " conv2d_transpose_5 (Conv2D  (None, 370000, 43, 64)    73792     \n",
      " Transpose)                                                      \n",
      "                                                                 \n",
      " conv2d_transpose_6 (Conv2D  (None, 370000, 43, 32)    18464     \n",
      " Transpose)                                                      \n",
      "                                                                 \n",
      " conv2d_transpose_7 (Conv2D  (None, 370000, 43, 1)     289       \n",
      " Transpose)                                                      \n",
      "                                                                 \n",
      "=================================================================\n",
      "Total params: 974626 (3.72 MB)\n",
      "Trainable params: 974626 (3.72 MB)\n",
      "Non-trainable params: 0 (0.00 Byte)\n",
      "_________________________________________________________________\n",
      "Model: \"model_2\"\n",
      "_________________________________________________________________\n",
      " Layer (type)                Output Shape              Param #   \n",
      "=================================================================\n",
      " input_1 (InputLayer)        [(None, 370000, 43, 1)]   0         \n",
      "                                                                 \n",
      " model (Functional)          (None, 370000, 43, 32)    190273    \n",
      "                                                                 \n",
      " conv2d_transpose (Conv2DTr  (None, 370000, 43, 32)    9248      \n",
      " anspose)                                                        \n",
      "                                                                 \n",
      " conv2d_transpose_1 (Conv2D  (None, 370000, 43, 64)    18496     \n",
      " Transpose)                                                      \n",
      "                                                                 \n",
      " conv2d_transpose_2 (Conv2D  (None, 370000, 43, 128)   73856     \n",
      " Transpose)                                                      \n",
      "                                                                 \n",
      " conv2d_transpose_3 (Conv2D  (None, 370000, 43, 256)   295168    \n",
      " Transpose)                                                      \n",
      "                                                                 \n",
      " conv2d_transpose_4 (Conv2D  (None, 370000, 43, 128)   295040    \n",
      " Transpose)                                                      \n",
      "                                                                 \n",
      " conv2d_transpose_5 (Conv2D  (None, 370000, 43, 64)    73792     \n",
      " Transpose)                                                      \n",
      "                                                                 \n",
      " conv2d_transpose_6 (Conv2D  (None, 370000, 43, 32)    18464     \n",
      " Transpose)                                                      \n",
      "                                                                 \n",
      " conv2d_transpose_7 (Conv2D  (None, 370000, 43, 1)     289       \n",
      " Transpose)                                                      \n",
      "                                                                 \n",
      "=================================================================\n",
      "Total params: 974626 (3.72 MB)\n",
      "Trainable params: 974626 (3.72 MB)\n",
      "Non-trainable params: 0 (0.00 Byte)\n",
      "_________________________________________________________________\n"
     ]
    }
   ],
   "source": [
    "import tensorflow as tf\n",
    "from tensorflow.keras.layers import Input, Conv2D, GlobalAveragePooling2D, Dense, Softmax, Reshape, Multiply, Add, Concatenate, Flatten\n",
    "from tensorflow.keras.models import Model\n",
    "\n",
    "num_samples, num_features = x_train.shape\n",
    "\n",
    "inp = Input(shape=(num_samples,num_features, 1))  # Adjust input shape for Conv2D\n",
    "\n",
    "class ChannelAttention(tf.keras.layers.Layer):\n",
    "    def __init__(self, reduction=16):\n",
    "        super(ChannelAttention, self).__init__()\n",
    "        self.reduction = reduction\n",
    "        self.avg_pool = GlobalAveragePooling2D(data_format='channels_last')  # Update data format\n",
    "        self.fc = Dense(1, activation='relu')  # Use 1 output unit for channel attention\n",
    "        self.sigmoid = tf.keras.layers.Activation('sigmoid')\n",
    "\n",
    "    def call(self, x):\n",
    "        y = self.avg_pool(x)\n",
    "        y = self.fc(y)\n",
    "        y = self.sigmoid(y)\n",
    "        y = tf.expand_dims(y, axis=1)  # Add an axis for channels (updated axis=1)\n",
    "        y = tf.expand_dims(y, axis=1)  # Add another axis for broadcasting\n",
    "        return x * y\n",
    "\n",
    "\n",
    "\n",
    "# Define Positional Self-Attention module\n",
    "class PositionalSelfAttention(tf.keras.layers.Layer):\n",
    "    def __init__(self, d_model, num_heads):\n",
    "        super(PositionalSelfAttention, self).__init__()\n",
    "        self.d_model = d_model\n",
    "        self.num_heads = num_heads\n",
    "        self.head_dim = d_model // num_heads\n",
    "\n",
    "    def build(self, input_shape):\n",
    "        self.query = tf.keras.layers.Dense(self.d_model)\n",
    "        self.key = tf.keras.layers.Dense(self.d_model)\n",
    "        self.value = tf.keras.layers.Dense(self.d_model)\n",
    "\n",
    "    def call(self, inputs):\n",
    "        # Split the input into query, key, and value\n",
    "        query = self.query(inputs)\n",
    "        key = self.key(inputs)\n",
    "        value = self.value(inputs)\n",
    "\n",
    "        # Reshape query, key, and value for multi-head attention\n",
    "        query = tf.reshape(query, [-1, self.num_heads, self.head_dim])\n",
    "        key = tf.reshape(key, [-1, self.num_heads, self.head_dim])\n",
    "        value = tf.reshape(value, [-1, self.num_heads, self.head_dim])\n",
    "\n",
    "        # Compute attention scores\n",
    "        scores = tf.matmul(query, key, transpose_b=True)\n",
    "        scores = scores / tf.math.sqrt(tf.cast(self.head_dim, tf.float32))\n",
    "\n",
    "        # Apply softmax activation to get attention probabilities\n",
    "        attention_probs = tf.nn.softmax(scores, axis=-1)\n",
    "\n",
    "        # Compute attention-weighted sum of value vectors\n",
    "        attention_output = tf.matmul(attention_probs, value)\n",
    "        attention_output = tf.reshape(attention_output, [-1, self.d_model])\n",
    "\n",
    "        return attention_output\n",
    "\n",
    "# Long-Range Feature Extractor with Dilated Convolution\n",
    "long_range_feature_extractor_dilated = Conv2D(filters=128, kernel_size=(3, 3), padding='same', dilation_rate=3, activation='relu')(inp)\n",
    "long_range_feature_extractor_dilated = Conv2D(filters=64, kernel_size=(3, 3), padding='same', dilation_rate=3, activation='relu')(long_range_feature_extractor_dilated)\n",
    "long_range_feature_extractor_dilated = Conv2D(filters=32, kernel_size=(3, 3), padding='same', dilation_rate=3, activation='relu')(long_range_feature_extractor_dilated)\n",
    "long_range_feature_extractor_dilated = ChannelAttention(32)(long_range_feature_extractor_dilated)\n",
    "\n",
    "\n",
    "# Local Feature Extractor with Standard Convolution\n",
    "local_feature_extractor_standard = Conv2D(filters=128, kernel_size=(3, 3), padding='same', activation='relu')(inp)\n",
    "local_feature_extractor_standard = Conv2D(filters=64, kernel_size=(3, 3), padding='same', activation='relu')(local_feature_extractor_standard)\n",
    "local_feature_extractor_standard = Conv2D(filters=32, kernel_size=(3, 3), padding='same', activation='relu')(local_feature_extractor_standard)\n",
    "local_feature_extractor_standard = PositionalSelfAttention(32, num_heads=4)(local_feature_extractor_standard)\n",
    "\n",
    "x1_reshaped = tf.reshape(long_range_feature_extractor_dilated, [-1,num_samples,32])\n",
    "x2_reshaped = tf.reshape(local_feature_extractor_standard, [-1,num_samples,32])\n",
    "\n",
    "\n",
    "# Concatenate features from both extractors\n",
    "encoded_output1 = tf.add(local_feature_extractor_standard, long_range_feature_extractor_dilated)\n",
    "\n",
    "\n",
    "\n",
    "# Create the encoder model for decoder\n",
    "encoder_d = Model(inp, encoded_output1)\n",
    "\n",
    "# Print the summary of the encoder\n",
    "encoder_d.summary()\n",
    "\n",
    "from tensorflow.keras.layers import Conv2DTranspose, Reshape\n",
    "\n",
    "encoder_output = encoder_d(inp)\n",
    "# Reshape the encoder output to match the desired decoder input shape\n",
    "#reshaped_encoder_output = Reshape((num_samples, num_features, 32, 1))(encoder_output)\n",
    "\n",
    "# Define the decoder architecture\n",
    "def create_decoder(encoder_output):\n",
    "    # Decoder 1\n",
    "    x = Conv2DTranspose(filters=32, kernel_size=(3, 3), padding='same', activation='relu')(encoder_output)\n",
    "    # Add more decoder layers as needed\n",
    "    x = Conv2DTranspose(filters=64, kernel_size=(3, 3), padding='same', activation='relu')(x)\n",
    "    x = Conv2DTranspose(filters=128, kernel_size=(3, 3), padding='same', activation='relu')(x)\n",
    "    x = Conv2DTranspose(filters=256, kernel_size=(3, 3), padding='same', activation='relu')(x)\n",
    "    x = Conv2DTranspose(filters=128, kernel_size=(3, 3), padding='same', activation='relu')(x)\n",
    "    x = Conv2DTranspose(filters=64, kernel_size=(3, 3), padding='same', activation='relu')(x)\n",
    "    x = Conv2DTranspose(filters=32, kernel_size=(3, 3), padding='same', activation='relu')(x)\n",
    "    # Final layer\n",
    "    decoded_output = Conv2DTranspose(filters=1, kernel_size=(3, 3), padding='same', activation='sigmoid')(x)\n",
    "    return decoded_output\n",
    "\n",
    "decoder_output = create_decoder(encoder_output)\n",
    "\n",
    "decoder = Model(inputs=inp, outputs=decoder_output)\n",
    "\n",
    "# Print the summary of the decoder\n",
    "decoder.summary()\n",
    "# Create the autoencoder model\n",
    "autoencoder_model = Model(inputs=inp, outputs=decoder_output)\n",
    "\n",
    "# Compile the autoencoder\n",
    "autoencoder_model.compile(optimizer='adam', loss='mean_squared_error')\n",
    "\n",
    "# Print the summary of the autoencoder\n",
    "autoencoder_model.summary()\n",
    "\n",
    "#ram crashing so no need as the model is done with encoder part only\n",
    "# Reshape x_train to match the input shape of the autoencoder\n",
    "#x_train_reshaped = x_train.reshape((-1, num_samples, num_features, 1))\n",
    "\n",
    "# Fit the autoencoder to the x_train data\n",
    "#autoencoder_model.fit(x_train_reshaped, x_train_reshaped, batch_size=32, epochs=10)\n",
    "\n"
   ]
  },
  {
   "cell_type": "code",
   "execution_count": 44,
   "metadata": {
    "colab": {
     "base_uri": "https://localhost:8080/"
    },
    "id": "SxlT1yKUl69u",
    "outputId": "ac94579d-8add-4e52-9a09-a0688988b5a0"
   },
   "outputs": [
    {
     "name": "stdout",
     "output_type": "stream",
     "text": [
      "Model: \"model_3\"\n",
      "__________________________________________________________________________________________________\n",
      " Layer (type)                Output Shape                 Param #   Connected to                  \n",
      "==================================================================================================\n",
      " input_1 (InputLayer)        [(None, 370000, 43, 1)]      0         []                            \n",
      "                                                                                                  \n",
      " conv2d (Conv2D)             (None, 370000, 43, 128)      1280      ['input_1[0][0]']             \n",
      "                                                                                                  \n",
      " conv2d_3 (Conv2D)           (None, 370000, 43, 128)      1280      ['input_1[0][0]']             \n",
      "                                                                                                  \n",
      " conv2d_1 (Conv2D)           (None, 370000, 43, 64)       73792     ['conv2d[0][0]']              \n",
      "                                                                                                  \n",
      " conv2d_4 (Conv2D)           (None, 370000, 43, 64)       73792     ['conv2d_3[0][0]']            \n",
      "                                                                                                  \n",
      " conv2d_2 (Conv2D)           (None, 370000, 43, 32)       18464     ['conv2d_1[0][0]']            \n",
      "                                                                                                  \n",
      " conv2d_5 (Conv2D)           (None, 370000, 43, 32)       18464     ['conv2d_4[0][0]']            \n",
      "                                                                                                  \n",
      " channel_attention (Channel  (None, 370000, 43, 32)       33        ['conv2d_2[0][0]']            \n",
      " Attention)                                                                                       \n",
      "                                                                                                  \n",
      " positional_self_attention   (None, 32)                   3168      ['conv2d_5[0][0]']            \n",
      " (PositionalSelfAttention)                                                                        \n",
      "                                                                                                  \n",
      " tf.reshape_2 (TFOpLambda)   (None, 370000, 32)           0         ['channel_attention[0][0]']   \n",
      "                                                                                                  \n",
      " tf.reshape_3 (TFOpLambda)   (None, 370000, 32)           0         ['positional_self_attention[0]\n",
      "                                                                    [0]']                         \n",
      "                                                                                                  \n",
      " tf.math.add_1 (TFOpLambda)  (None, 370000, 32)           0         ['tf.reshape_2[0][0]',        \n",
      "                                                                     'tf.reshape_3[0][0]']        \n",
      "                                                                                                  \n",
      "==================================================================================================\n",
      "Total params: 190273 (743.25 KB)\n",
      "Trainable params: 190273 (743.25 KB)\n",
      "Non-trainable params: 0 (0.00 Byte)\n",
      "__________________________________________________________________________________________________\n"
     ]
    }
   ],
   "source": [
    "#since the ram is unable proceed with above encoder_d i haev created another encoder by reshaping so the encoder model can encode the x data easily.\n",
    "\n",
    "x1_reshaped = tf.reshape(long_range_feature_extractor_dilated, [-1,num_samples,32])\n",
    "x2_reshaped = tf.reshape(local_feature_extractor_standard, [-1,num_samples,32])\n",
    "# Concatenate features from both extractors\n",
    "encoded_output = tf.add(x1_reshaped, x2_reshaped)\n",
    "\n",
    "\n",
    "\n",
    "# Create the encoder model for decoder\n",
    "encoder = Model(inp, encoded_output)\n",
    "\n",
    "# Print the summary of the encoder\n",
    "encoder.summary()"
   ]
  },
  {
   "cell_type": "code",
   "execution_count": 45,
   "metadata": {
    "colab": {
     "base_uri": "https://localhost:8080/"
    },
    "id": "ZzwfwVFXmcl8",
    "outputId": "3167dd58-12f4-43b0-9cdd-edf2f84876bb"
   },
   "outputs": [
    {
     "name": "stdout",
     "output_type": "stream",
     "text": [
      "1/1 [==============================] - 61s 61s/step\n"
     ]
    }
   ],
   "source": [
    "import numpy as np\n",
    "# Expand dimensions to match expected input shape\n",
    "x_train_expanded = np.expand_dims(x_train, axis=0)\n",
    "#x_test_expanded = np.expand_dims(x_test, axis=0)\n",
    "\n",
    "# Assuming you have the encoder model `encoder` already defined\n",
    "# Get the output of the encoder\n",
    "encoded_x_train = encoder.predict(x_train_expanded)  # Shape: (1, timesteps, 32)\n",
    "#encoded_x_test = encoder.predict(x_test_expanded)    # Shape: (1, timesteps, 32)\n"
   ]
  },
  {
   "cell_type": "code",
   "execution_count": 46,
   "metadata": {
    "id": "IG_TJcu-mlsw"
   },
   "outputs": [],
   "source": [
    "from sklearn.model_selection import train_test_split\n",
    "# Assuming encoded_x_train.shape is (43, 63123, 32)\n",
    "# Assuming y_val.shape is (63123,)\n",
    "\n",
    "# Reshape the encoded_x_train to (63123, 43*32)\n",
    "x_train_flattened = encoded_x_train.reshape(encoded_x_train.shape[1],-1)\n",
    "\n",
    "# Split the data into train and validation sets\n",
    "#x_train1, x_val, y_train1, y_val = train_test_split(x_train_flattened, y_train, test_size=0.325, random_state=42)\n"
   ]
  },
  {
   "cell_type": "code",
   "execution_count": 47,
   "metadata": {
    "colab": {
     "base_uri": "https://localhost:8080/"
    },
    "id": "7AKr624Em5zL",
    "outputId": "080594f3-d420-4dfd-f7b2-643cde7fb786"
   },
   "outputs": [
    {
     "data": {
      "text/plain": [
       "\"\\nprint('x_train.shape',x_train1.shape)\\nprint('y_train.shape',y_train1.shape)\\nprint('x_val.shape',x_val.shape)\\nprint('y_val.shape',y_val.shape)\""
      ]
     },
     "execution_count": 47,
     "metadata": {},
     "output_type": "execute_result"
    }
   ],
   "source": [
    "'''\n",
    "print('x_train.shape',x_train1.shape)\n",
    "print('y_train.shape',y_train1.shape)\n",
    "print('x_val.shape',x_val.shape)\n",
    "print('y_val.shape',y_val.shape)'''"
   ]
  },
  {
   "cell_type": "code",
   "execution_count": 48,
   "metadata": {
    "colab": {
     "base_uri": "https://localhost:8080/"
    },
    "id": "bg39Vfx5miGe",
    "outputId": "01f70351-8766-443b-a66f-735df1e46425"
   },
   "outputs": [
    {
     "name": "stdout",
     "output_type": "stream",
     "text": [
      "x_train_flattened.shape (370000, 1376)\n",
      "y_train.shape (370000,)\n"
     ]
    }
   ],
   "source": [
    "print('x_train_flattened.shape',x_train_flattened.shape)\n",
    "print('y_train.shape',y_train.shape)"
   ]
  },
  {
   "cell_type": "code",
   "execution_count": 49,
   "metadata": {
    "id": "rEONHxLqgpsY"
   },
   "outputs": [],
   "source": [
    "import tensorflow as tf\n",
    "from tensorflow.keras.layers import Input, Conv1D, Add,Dense,Flatten,Dropout\n",
    "from tensorflow.keras.models import Model,Sequential"
   ]
  },
  {
   "cell_type": "code",
   "execution_count": 50,
   "metadata": {
    "colab": {
     "base_uri": "https://localhost:8080/"
    },
    "id": "etgqjSE01Pcg",
    "outputId": "0832b6cb-c8c4-460b-d547-486550d7e447"
   },
   "outputs": [
    {
     "name": "stdout",
     "output_type": "stream",
     "text": [
      "Epoch 1/20\n",
      "9250/9250 [==============================] - 84s 9ms/step - loss: 0.4408 - accuracy: 0.8518 - val_loss: 5.8550 - val_accuracy: 0.4892\n",
      "Epoch 2/20\n",
      "9250/9250 [==============================] - 81s 9ms/step - loss: 0.3021 - accuracy: 0.8972 - val_loss: 6.7951 - val_accuracy: 0.5014\n",
      "Epoch 3/20\n",
      "9250/9250 [==============================] - 69s 7ms/step - loss: 0.2722 - accuracy: 0.9062 - val_loss: 6.9594 - val_accuracy: 0.4990\n",
      "Epoch 4/20\n",
      "9250/9250 [==============================] - 67s 7ms/step - loss: 0.2561 - accuracy: 0.9114 - val_loss: 8.4688 - val_accuracy: 0.4943\n",
      "Epoch 5/20\n",
      "9250/9250 [==============================] - 63s 7ms/step - loss: 0.2427 - accuracy: 0.9154 - val_loss: 9.9489 - val_accuracy: 0.4990\n",
      "Epoch 6/20\n",
      "9250/9250 [==============================] - 61s 7ms/step - loss: 0.2335 - accuracy: 0.9188 - val_loss: 8.1927 - val_accuracy: 0.4974\n",
      "Epoch 7/20\n",
      "9250/9250 [==============================] - 61s 7ms/step - loss: 0.2277 - accuracy: 0.9206 - val_loss: 8.7722 - val_accuracy: 0.4973\n",
      "Epoch 8/20\n",
      "9250/9250 [==============================] - 60s 7ms/step - loss: 0.2199 - accuracy: 0.9222 - val_loss: 10.9912 - val_accuracy: 0.5000\n",
      "Epoch 9/20\n",
      "9250/9250 [==============================] - 61s 7ms/step - loss: 0.2157 - accuracy: 0.9237 - val_loss: 8.6652 - val_accuracy: 0.4983\n",
      "Epoch 10/20\n",
      "9250/9250 [==============================] - 60s 6ms/step - loss: 0.2123 - accuracy: 0.9252 - val_loss: 8.4515 - val_accuracy: 0.4979\n",
      "Epoch 11/20\n",
      "9250/9250 [==============================] - 63s 7ms/step - loss: 0.2079 - accuracy: 0.9268 - val_loss: 6.7225 - val_accuracy: 0.4973\n",
      "Epoch 12/20\n",
      "9250/9250 [==============================] - 62s 7ms/step - loss: 0.2048 - accuracy: 0.9273 - val_loss: 9.5013 - val_accuracy: 0.4981\n",
      "Epoch 13/20\n",
      "9250/9250 [==============================] - 63s 7ms/step - loss: 0.2019 - accuracy: 0.9285 - val_loss: 12.0496 - val_accuracy: 0.4964\n",
      "Epoch 14/20\n",
      "9250/9250 [==============================] - 63s 7ms/step - loss: 0.1974 - accuracy: 0.9302 - val_loss: 14.5070 - val_accuracy: 0.4993\n",
      "Epoch 15/20\n",
      "9250/9250 [==============================] - 60s 6ms/step - loss: 0.1948 - accuracy: 0.9308 - val_loss: 10.3943 - val_accuracy: 0.4966\n",
      "Epoch 16/20\n",
      "9250/9250 [==============================] - 61s 7ms/step - loss: 0.1921 - accuracy: 0.9313 - val_loss: 10.8649 - val_accuracy: 0.4989\n",
      "Epoch 17/20\n",
      "9250/9250 [==============================] - 62s 7ms/step - loss: 0.1898 - accuracy: 0.9324 - val_loss: 11.4058 - val_accuracy: 0.4993\n",
      "Epoch 18/20\n",
      "9250/9250 [==============================] - 61s 7ms/step - loss: 0.1878 - accuracy: 0.9334 - val_loss: 10.6843 - val_accuracy: 0.4989\n",
      "Epoch 19/20\n",
      "9250/9250 [==============================] - 61s 7ms/step - loss: 0.1855 - accuracy: 0.9340 - val_loss: 9.8049 - val_accuracy: 0.4975\n",
      "Epoch 20/20\n",
      "9250/9250 [==============================] - 60s 6ms/step - loss: 0.1840 - accuracy: 0.9342 - val_loss: 10.7738 - val_accuracy: 0.4981\n"
     ]
    }
   ],
   "source": [
    "# creating model\n",
    "mlp = Sequential()\n",
    "mlp.add(Dense(units=320, input_dim=x_train_flattened.shape[1], activation='relu'))\n",
    "mlp.add(Dropout(0.2))\n",
    "mlp.add(Dense(units=160, activation='relu'))\n",
    "mlp.add(Dropout(0.2))\n",
    "mlp.add(Dense(units=80, activation='relu'))\n",
    "mlp.add(Dropout(0.2))\n",
    "mlp.add(Dense(units=40, activation='relu'))\n",
    "mlp.add(Dropout(0.2))\n",
    "mlp.add(Dense(units=10, activation='Softmax'))\n",
    "#mlp.add(Dense(units=2, activation='Softmax'))\n",
    "from keras.utils import to_categorical\n",
    "y_train_h = to_categorical(y_train)\n",
    "#y_val_h = to_categorical(y_val)\n",
    "# Compile the model\n",
    "mlp.compile(loss='categorical_crossentropy', optimizer='adam', metrics=['accuracy'])\n",
    "history=mlp.fit(x_train_flattened,y_train_h,epochs=20,batch_size=32, validation_split=0.2)"
   ]
  },
  {
   "cell_type": "code",
   "execution_count": 52,
   "metadata": {
    "colab": {
     "base_uri": "https://localhost:8080/"
    },
    "id": "Z_ASGy46t1D3",
    "outputId": "09190d02-ee7d-4672-ab08-2225b4b8fedb"
   },
   "outputs": [
    {
     "name": "stdout",
     "output_type": "stream",
     "text": [
      "Unique values in y_val: [-8.992387  -8.326885  -8.053593  ...  7.7804837  8.192482   8.476394 ]\n"
     ]
    }
   ],
   "source": [
    "unique_y_val = np.unique(x_train_flattened)\n",
    "print(\"Unique values in y_val:\", unique_y_val)\n",
    "#for checking dont use it anywhere\n"
   ]
  },
  {
   "cell_type": "code",
   "execution_count": 56,
   "metadata": {
    "colab": {
     "base_uri": "https://localhost:8080/"
    },
    "id": "ooRmS5odwWaH",
    "outputId": "a082331e-3d12-4c34-ce07-5e8123560f29"
   },
   "outputs": [
    {
     "name": "stdout",
     "output_type": "stream",
     "text": [
      "Classification  0\n",
      "1157/1157 [==============================] - 2s 2ms/step - loss: 0.0047 - accuracy: 0.9987\n",
      "Accuracy: [0.004724758677184582, 0.9987297058105469]\n",
      "------------------\n",
      "Classification  1\n",
      "1157/1157 [==============================] - 2s 2ms/step - loss: 0.0882 - accuracy: 0.9681\n",
      "Accuracy: [0.08823730796575546, 0.9681351184844971]\n",
      "------------------\n",
      "Classification  2\n",
      "1157/1157 [==============================] - 2s 2ms/step - loss: 0.3236 - accuracy: 0.8604\n",
      "Accuracy: [0.3236068785190582, 0.8603513240814209]\n",
      "------------------\n",
      "Classification  3\n",
      "1157/1157 [==============================] - 2s 2ms/step - loss: 0.2743 - accuracy: 0.9005\n",
      "Accuracy: [0.27430620789527893, 0.9004594683647156]\n",
      "------------------\n",
      "Classification  4\n",
      "1157/1157 [==============================] - 2s 2ms/step - loss: 0.2704 - accuracy: 0.8829\n",
      "Accuracy: [0.27035391330718994, 0.8828918933868408]\n",
      "------------------\n",
      "Classification  5\n",
      "1157/1157 [==============================] - 2s 2ms/step - loss: 0.0953 - accuracy: 0.9588\n",
      "Accuracy: [0.09530740976333618, 0.9588108062744141]\n",
      "------------------\n",
      "Classification  6\n",
      "1157/1157 [==============================] - 2s 2ms/step - loss: 0.1147 - accuracy: 0.9725\n",
      "Accuracy: [0.11471529304981232, 0.9725134968757629]\n",
      "------------------\n",
      "Classification  7\n",
      "1157/1157 [==============================] - 2s 2ms/step - loss: 0.0138 - accuracy: 0.9973\n",
      "Accuracy: [0.013811733573675156, 0.9973243474960327]\n",
      "------------------\n",
      "Classification  8\n",
      "1157/1157 [==============================] - 2s 2ms/step - loss: 21.5286 - accuracy: 0.0000e+00\n",
      "Accuracy: [21.52857780456543, 0.0]\n",
      "------------------\n",
      "Classification  9\n",
      "1157/1157 [==============================] - 2s 2ms/step - loss: 0.0898 - accuracy: 0.9704\n",
      "Accuracy: [0.08979042619466782, 0.9703513383865356]\n",
      "------------------\n"
     ]
    }
   ],
   "source": [
    "# Assuming you have imported the necessary modules and defined the model 'mlp'\n",
    "from tensorflow import keras\n",
    "import pandas as pd\n",
    "\n",
    "# Convert 'y_test' from Series to DataFrame with one-hot encoding\n",
    "y_test_df = pd.get_dummies(y_train)\n",
    "\n",
    "# Iterate over each class\n",
    "for i in y_test_df.columns:\n",
    "    print(\"Classification \", i)\n",
    "\n",
    "    # Find row indices where the class is equal to 'i'\n",
    "    row_indices = y_test_df.index[y_test_df[i] == 1]\n",
    "\n",
    "    # Extract the corresponding samples and labels for the class 'i'\n",
    "    y_t = y_test_df.loc[row_indices]\n",
    "    x_t = x_train_flattened[row_indices]  # Make sure x_test is defined properly\n",
    "\n",
    "    # Evaluate the MLP model on the samples for the class 'i'\n",
    "    accuracy = mlp.evaluate(x_t, y_t)  # Verify 'mlp' definition and compilation\n",
    "    print(\"Accuracy:\", accuracy)\n",
    "    print(\"------------------\")\n"
   ]
  },
  {
   "cell_type": "code",
   "execution_count": 63,
   "metadata": {
    "id": "TnpU5_p_ybzJ"
   },
   "outputs": [
    {
     "name": "stdout",
     "output_type": "stream",
     "text": [
      "Classification for class 0\n",
      "1157/1157 [==============================] - 2s 2ms/step\n",
      "Confusion Matrix:\n",
      " [[36953     0     0     0     1     0    45     0     0     1]\n",
      " [    0     0     0     0     0     0     0     0     0     0]\n",
      " [    0     0     0     0     0     0     0     0     0     0]\n",
      " [    0     0     0     0     0     0     0     0     0     0]\n",
      " [    0     0     0     0     0     0     0     0     0     0]\n",
      " [    0     0     0     0     0     0     0     0     0     0]\n",
      " [    0     0     0     0     0     0     0     0     0     0]\n",
      " [    0     0     0     0     0     0     0     0     0     0]\n",
      " [    0     0     0     0     0     0     0     0     0     0]\n",
      " [    0     0     0     0     0     0     0     0     0     0]]\n",
      "Precision: 1.0\n",
      "Recall: 0.9987297297297297\n",
      "------------------\n",
      "Classification for class 1\n"
     ]
    },
    {
     "name": "stderr",
     "output_type": "stream",
     "text": [
      "C:\\Users\\lenovo\\AppData\\Roaming\\Python\\Python311\\site-packages\\sklearn\\metrics\\_classification.py:1469: UndefinedMetricWarning: Recall is ill-defined and being set to 0.0 in labels with no true samples. Use `zero_division` parameter to control this behavior.\n",
      "  _warn_prf(average, modifier, msg_start, len(result))\n"
     ]
    },
    {
     "name": "stdout",
     "output_type": "stream",
     "text": [
      "1157/1157 [==============================] - 4s 3ms/step\n",
      "Confusion Matrix:\n",
      " [[    0     0     0     0     0     0     0     0     0     0]\n",
      " [    9 35821     8   244   507     0   391     0     0    20]\n",
      " [    0     0     0     0     0     0     0     0     0     0]\n",
      " [    0     0     0     0     0     0     0     0     0     0]\n",
      " [    0     0     0     0     0     0     0     0     0     0]\n",
      " [    0     0     0     0     0     0     0     0     0     0]\n",
      " [    0     0     0     0     0     0     0     0     0     0]\n",
      " [    0     0     0     0     0     0     0     0     0     0]\n",
      " [    0     0     0     0     0     0     0     0     0     0]\n",
      " [    0     0     0     0     0     0     0     0     0     0]]\n",
      "Precision: 1.0\n",
      "Recall: 0.9681351351351352\n",
      "------------------\n",
      "Classification for class 2\n"
     ]
    },
    {
     "name": "stderr",
     "output_type": "stream",
     "text": [
      "C:\\Users\\lenovo\\AppData\\Roaming\\Python\\Python311\\site-packages\\sklearn\\metrics\\_classification.py:1469: UndefinedMetricWarning: Recall is ill-defined and being set to 0.0 in labels with no true samples. Use `zero_division` parameter to control this behavior.\n",
      "  _warn_prf(average, modifier, msg_start, len(result))\n"
     ]
    },
    {
     "name": "stdout",
     "output_type": "stream",
     "text": [
      "1157/1157 [==============================] - 2s 2ms/step\n",
      "Confusion Matrix:\n",
      " [[    0     0     0     0     0     0     0     0     0     0]\n",
      " [    0     0     0     0     0     0     0     0     0     0]\n",
      " [    0    28 31833    41    58  4650   382     0     0     8]\n",
      " [    0     0     0     0     0     0     0     0     0     0]\n",
      " [    0     0     0     0     0     0     0     0     0     0]\n",
      " [    0     0     0     0     0     0     0     0     0     0]\n",
      " [    0     0     0     0     0     0     0     0     0     0]\n",
      " [    0     0     0     0     0     0     0     0     0     0]\n",
      " [    0     0     0     0     0     0     0     0     0     0]\n",
      " [    0     0     0     0     0     0     0     0     0     0]]\n",
      "Precision: 1.0\n",
      "Recall: 0.8603513513513513\n",
      "------------------\n",
      "Classification for class 3\n"
     ]
    },
    {
     "name": "stderr",
     "output_type": "stream",
     "text": [
      "C:\\Users\\lenovo\\AppData\\Roaming\\Python\\Python311\\site-packages\\sklearn\\metrics\\_classification.py:1469: UndefinedMetricWarning: Recall is ill-defined and being set to 0.0 in labels with no true samples. Use `zero_division` parameter to control this behavior.\n",
      "  _warn_prf(average, modifier, msg_start, len(result))\n"
     ]
    },
    {
     "name": "stdout",
     "output_type": "stream",
     "text": [
      "1157/1157 [==============================] - 2s 2ms/step\n",
      "Confusion Matrix:\n",
      " [[    0     0     0     0     0     0     0     0     0     0]\n",
      " [    0     0     0     0     0     0     0     0     0     0]\n",
      " [    0     0     0     0     0     0     0     0     0     0]\n",
      " [    0   440   113 33317  2391   194   512     0     0    33]\n",
      " [    0     0     0     0     0     0     0     0     0     0]\n",
      " [    0     0     0     0     0     0     0     0     0     0]\n",
      " [    0     0     0     0     0     0     0     0     0     0]\n",
      " [    0     0     0     0     0     0     0     0     0     0]\n",
      " [    0     0     0     0     0     0     0     0     0     0]\n",
      " [    0     0     0     0     0     0     0     0     0     0]]\n",
      "Precision: 1.0\n",
      "Recall: 0.9004594594594595\n",
      "------------------\n",
      "Classification for class 4\n"
     ]
    },
    {
     "name": "stderr",
     "output_type": "stream",
     "text": [
      "C:\\Users\\lenovo\\AppData\\Roaming\\Python\\Python311\\site-packages\\sklearn\\metrics\\_classification.py:1469: UndefinedMetricWarning: Recall is ill-defined and being set to 0.0 in labels with no true samples. Use `zero_division` parameter to control this behavior.\n",
      "  _warn_prf(average, modifier, msg_start, len(result))\n"
     ]
    },
    {
     "name": "stdout",
     "output_type": "stream",
     "text": [
      "1157/1157 [==============================] - 2s 2ms/step\n",
      "Confusion Matrix:\n",
      " [[    0     0     0     0     0     0     0     0     0     0]\n",
      " [    0     0     0     0     0     0     0     0     0     0]\n",
      " [    0     0     0     0     0     0     0     0     0     0]\n",
      " [    0     0     0     0     0     0     0     0     0     0]\n",
      " [    1   746   104  2267 32667    16  1177     0     0    22]\n",
      " [    0     0     0     0     0     0     0     0     0     0]\n",
      " [    0     0     0     0     0     0     0     0     0     0]\n",
      " [    0     0     0     0     0     0     0     0     0     0]\n",
      " [    0     0     0     0     0     0     0     0     0     0]\n",
      " [    0     0     0     0     0     0     0     0     0     0]]\n",
      "Precision: 1.0\n",
      "Recall: 0.8828918918918919\n",
      "------------------\n",
      "Classification for class 5\n"
     ]
    },
    {
     "name": "stderr",
     "output_type": "stream",
     "text": [
      "C:\\Users\\lenovo\\AppData\\Roaming\\Python\\Python311\\site-packages\\sklearn\\metrics\\_classification.py:1469: UndefinedMetricWarning: Recall is ill-defined and being set to 0.0 in labels with no true samples. Use `zero_division` parameter to control this behavior.\n",
      "  _warn_prf(average, modifier, msg_start, len(result))\n"
     ]
    },
    {
     "name": "stdout",
     "output_type": "stream",
     "text": [
      "1157/1157 [==============================] - 2s 2ms/step\n",
      "Confusion Matrix:\n",
      " [[    0     0     0     0     0     0     0     0     0     0]\n",
      " [    0     0     0     0     0     0     0     0     0     0]\n",
      " [    0     0     0     0     0     0     0     0     0     0]\n",
      " [    0     0     0     0     0     0     0     0     0     0]\n",
      " [    0     0     0     0     0     0     0     0     0     0]\n",
      " [    0     2   935   155    57 35476   371     0     0     4]\n",
      " [    0     0     0     0     0     0     0     0     0     0]\n",
      " [    0     0     0     0     0     0     0     0     0     0]\n",
      " [    0     0     0     0     0     0     0     0     0     0]\n",
      " [    0     0     0     0     0     0     0     0     0     0]]\n",
      "Precision: 1.0\n",
      "Recall: 0.9588108108108108\n",
      "------------------\n",
      "Classification for class 6\n"
     ]
    },
    {
     "name": "stderr",
     "output_type": "stream",
     "text": [
      "C:\\Users\\lenovo\\AppData\\Roaming\\Python\\Python311\\site-packages\\sklearn\\metrics\\_classification.py:1469: UndefinedMetricWarning: Recall is ill-defined and being set to 0.0 in labels with no true samples. Use `zero_division` parameter to control this behavior.\n",
      "  _warn_prf(average, modifier, msg_start, len(result))\n"
     ]
    },
    {
     "name": "stdout",
     "output_type": "stream",
     "text": [
      "1157/1157 [==============================] - 2s 2ms/step\n",
      "Confusion Matrix:\n",
      " [[    0     0     0     0     0     0     0     0     0     0]\n",
      " [    0     0     0     0     0     0     0     0     0     0]\n",
      " [    0     0     0     0     0     0     0     0     0     0]\n",
      " [    0     0     0     0     0     0     0     0     0     0]\n",
      " [    0     0     0     0     0     0     0     0     0     0]\n",
      " [    0     0     0     0     0     0     0     0     0     0]\n",
      " [    4   361   133   241   241     6 35983     3     0    28]\n",
      " [    0     0     0     0     0     0     0     0     0     0]\n",
      " [    0     0     0     0     0     0     0     0     0     0]\n",
      " [    0     0     0     0     0     0     0     0     0     0]]\n",
      "Precision: 1.0\n",
      "Recall: 0.9725135135135136\n",
      "------------------\n",
      "Classification for class 7\n"
     ]
    },
    {
     "name": "stderr",
     "output_type": "stream",
     "text": [
      "C:\\Users\\lenovo\\AppData\\Roaming\\Python\\Python311\\site-packages\\sklearn\\metrics\\_classification.py:1469: UndefinedMetricWarning: Recall is ill-defined and being set to 0.0 in labels with no true samples. Use `zero_division` parameter to control this behavior.\n",
      "  _warn_prf(average, modifier, msg_start, len(result))\n"
     ]
    },
    {
     "name": "stdout",
     "output_type": "stream",
     "text": [
      "1157/1157 [==============================] - 2s 2ms/step\n",
      "Confusion Matrix:\n",
      " [[    0     0     0     0     0     0     0     0     0     0]\n",
      " [    0     0     0     0     0     0     0     0     0     0]\n",
      " [    0     0     0     0     0     0     0     0     0     0]\n",
      " [    0     0     0     0     0     0     0     0     0     0]\n",
      " [    0     0     0     0     0     0     0     0     0     0]\n",
      " [    0     0     0     0     0     0     0     0     0     0]\n",
      " [    0     0     0     0     0     0     0     0     0     0]\n",
      " [    0    62     0     1    32     0     4 36901     0     0]\n",
      " [    0     0     0     0     0     0     0     0     0     0]\n",
      " [    0     0     0     0     0     0     0     0     0     0]]\n",
      "Precision: 1.0\n",
      "Recall: 0.9973243243243243\n",
      "------------------\n",
      "Classification for class 8\n"
     ]
    },
    {
     "name": "stderr",
     "output_type": "stream",
     "text": [
      "C:\\Users\\lenovo\\AppData\\Roaming\\Python\\Python311\\site-packages\\sklearn\\metrics\\_classification.py:1469: UndefinedMetricWarning: Recall is ill-defined and being set to 0.0 in labels with no true samples. Use `zero_division` parameter to control this behavior.\n",
      "  _warn_prf(average, modifier, msg_start, len(result))\n"
     ]
    },
    {
     "name": "stdout",
     "output_type": "stream",
     "text": [
      "1157/1157 [==============================] - 2s 2ms/step\n",
      "Confusion Matrix:\n",
      " [[    0     0     0     0     0     0     0     0     0     0]\n",
      " [    0     0     0     0     0     0     0     0     0     0]\n",
      " [    0     0     0     0     0     0     0     0     0     0]\n",
      " [    0     0     0     0     0     0     0     0     0     0]\n",
      " [    0     0     0     0     0     0     0     0     0     0]\n",
      " [    0     0     0     0     0     0     0     0     0     0]\n",
      " [    0     0     0     0     0     0     0     0     0     0]\n",
      " [    0     0     0     0     0     0     0     0     0     0]\n",
      " [  181 35610     1    10    16     0  1179     3     0     0]\n",
      " [    0     0     0     0     0     0     0     0     0     0]]\n",
      "Precision: 0.0\n",
      "Recall: 0.0\n",
      "------------------\n",
      "Classification for class 9\n"
     ]
    },
    {
     "name": "stderr",
     "output_type": "stream",
     "text": [
      "C:\\Users\\lenovo\\AppData\\Roaming\\Python\\Python311\\site-packages\\sklearn\\metrics\\_classification.py:1469: UndefinedMetricWarning: Precision is ill-defined and being set to 0.0 in labels with no predicted samples. Use `zero_division` parameter to control this behavior.\n",
      "  _warn_prf(average, modifier, msg_start, len(result))\n",
      "C:\\Users\\lenovo\\AppData\\Roaming\\Python\\Python311\\site-packages\\sklearn\\metrics\\_classification.py:1469: UndefinedMetricWarning: Recall is ill-defined and being set to 0.0 in labels with no true samples. Use `zero_division` parameter to control this behavior.\n",
      "  _warn_prf(average, modifier, msg_start, len(result))\n"
     ]
    },
    {
     "name": "stdout",
     "output_type": "stream",
     "text": [
      "1157/1157 [==============================] - 2s 2ms/step\n",
      "Confusion Matrix:\n",
      " [[    0     0     0     0     0     0     0     0     0     0]\n",
      " [    0     0     0     0     0     0     0     0     0     0]\n",
      " [    0     0     0     0     0     0     0     0     0     0]\n",
      " [    0     0     0     0     0     0     0     0     0     0]\n",
      " [    0     0     0     0     0     0     0     0     0     0]\n",
      " [    0     0     0     0     0     0     0     0     0     0]\n",
      " [    0     0     0     0     0     0     0     0     0     0]\n",
      " [    0     0     0     0     0     0     0     0     0     0]\n",
      " [    0     0     0     0     0     0     0     0     0     0]\n",
      " [    3   116    74    26   564     5   308     1     0 35903]]\n",
      "Precision: 1.0\n",
      "Recall: 0.9703513513513513\n",
      "------------------\n",
      "Overall Confusion Matrix:\n",
      " [[36953     0     0     0     1     0    45     0     0     1]\n",
      " [    9 35821     8   244   507     0   391     0     0    20]\n",
      " [    0    28 31833    41    58  4650   382     0     0     8]\n",
      " [    0   440   113 33317  2391   194   512     0     0    33]\n",
      " [    1   746   104  2267 32667    16  1177     0     0    22]\n",
      " [    0     2   935   155    57 35476   371     0     0     4]\n",
      " [    4   361   133   241   241     6 35983     3     0    28]\n",
      " [    0    62     0     1    32     0     4 36901     0     0]\n",
      " [  181 35610     1    10    16     0  1179     3     0     0]\n",
      " [    3   116    74    26   564     5   308     1     0 35903]]\n"
     ]
    },
    {
     "name": "stderr",
     "output_type": "stream",
     "text": [
      "C:\\Users\\lenovo\\AppData\\Roaming\\Python\\Python311\\site-packages\\sklearn\\metrics\\_classification.py:1469: UndefinedMetricWarning: Recall is ill-defined and being set to 0.0 in labels with no true samples. Use `zero_division` parameter to control this behavior.\n",
      "  _warn_prf(average, modifier, msg_start, len(result))\n"
     ]
    }
   ],
   "source": [
    "import numpy as np\n",
    "from sklearn.metrics import confusion_matrix, precision_score, recall_score\n",
    "\n",
    "# Define unique class labels\n",
    "unique_labels = np.arange(10)  # Assuming class labels range from 0 to 9\n",
    "\n",
    "# Initialize an empty confusion matrix\n",
    "overall_confusion_matrix = np.zeros((len(unique_labels), len(unique_labels)), dtype=int)\n",
    "\n",
    "# Initialize dictionaries to store precision and recall values for each class\n",
    "class_precisions = {}\n",
    "class_recalls = {}\n",
    "\n",
    "# Iterate over each class label\n",
    "for class_label in unique_labels:\n",
    "    print(\"Classification for class\", class_label)\n",
    "    \n",
    "    # Find row indices where the true class is equal to 'class_label'\n",
    "    true_indices = np.where(y_train == class_label)[0]\n",
    "    \n",
    "    # Extract the corresponding true labels and predicted labels for the class\n",
    "    true_labels = y_train[true_indices]\n",
    "    predicted_labels = mlp.predict(x_train_flattened[true_indices])\n",
    "    predicted_labels = np.argmax(predicted_labels, axis=1)\n",
    "    \n",
    "    # Calculate confusion matrix for the class\n",
    "    class_confusion_matrix = confusion_matrix(true_labels, predicted_labels, labels=unique_labels)\n",
    "    print(\"Confusion Matrix:\\n\", class_confusion_matrix)\n",
    "    overall_confusion_matrix += class_confusion_matrix\n",
    "    \n",
    "    # Calculate precision and recall for the class\n",
    "    precision = precision_score(true_labels, predicted_labels, average='weighted')\n",
    "    recall = recall_score(true_labels, predicted_labels, average='weighted')\n",
    "    class_precisions[class_label] = precision\n",
    "    class_recalls[class_label] = recall\n",
    "    \n",
    "    print(\"Precision:\", precision)\n",
    "    print(\"Recall:\", recall)\n",
    "    print(\"------------------\")\n",
    "\n",
    "# Print overall confusion matrix\n",
    "print(\"Overall Confusion Matrix:\\n\", overall_confusion_matrix)\n"
   ]
  },
  {
   "cell_type": "code",
   "execution_count": 62,
   "metadata": {},
   "outputs": [
    {
     "data": {
      "image/png": "[encoded data removed]",
      "text/plain": [
       "<Figure size 1000x800 with 2 Axes>"
      ]
     },
     "metadata": {},
     "output_type": "display_data"
    }
   ],
   "source": [
    "# Plot the confusion matrix as a heatmap\n",
    "plt.figure(figsize=(10, 8))\n",
    "sns.heatmap(overall_confusion_matrix, annot=True, fmt='d', cmap='Blues', xticklabels=unique_labels, yticklabels=unique_labels)\n",
    "plt.xlabel('Predicted')\n",
    "plt.ylabel('True')\n",
    "plt.title('Confusion Matrix')\n",
    "plt.show()"
   ]
  }
 ],
 "metadata": {
  "accelerator": "GPU",
  "colab": {
   "gpuType": "T4",
   "provenance": []
  },
  "kernelspec": {
   "display_name": "Python 3 (ipykernel)",
   "language": "python",
   "name": "python3"
  },
  "language_info": {
   "codemirror_mode": {
    "name": "ipython",
    "version": 3
   },
   "file_extension": ".py",
   "mimetype": "text/x-python",
   "name": "python",
   "nbconvert_exporter": "python",
   "pygments_lexer": "ipython3",
   "version": "3.11.4"
  }
 },
 "nbformat": 4,
 "nbformat_minor": 4
}

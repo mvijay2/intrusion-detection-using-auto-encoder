{
 "cells": [
  {
   "cell_type": "markdown",
   "metadata": {
    "id": "PjDqa1PcfZGI"
   },
   "source": [
    "convo1D no need to run in think  its running successfully"
   ]
  },
  {
   "cell_type": "code",
   "execution_count": 1,
   "metadata": {
    "id": "3aUP5RL0eH7X"
   },
   "outputs": [],
   "source": [
    "import math\n",
    "import pandas as pd\n",
    "\n",
    "\n"
   ]
  },
  {
   "cell_type": "code",
   "execution_count": 2,
   "metadata": {
    "id": "Fhp6bNVHJZwN"
   },
   "outputs": [],
   "source": [
    "Test = pd.read_csv(r'C:\\Users\\lenovo\\Downloads\\UNSW_NB15_training-set.csv.zip')\n",
    "Train = pd.read_csv(r'C:\\Users\\lenovo\\Downloads\\UNSW_NB15_testing-set.csv.zip')"
   ]
  },
  {
   "cell_type": "code",
   "execution_count": 3,
   "metadata": {
    "colab": {
     "base_uri": "https://localhost:8080/",
     "height": 255
    },
    "id": "iVLVHNPlH8BH",
    "outputId": "25aa4bc5-ed2a-40bc-ac49-0efbedaa4591"
   },
   "outputs": [
    {
     "data": {
      "text/html": [
       "<div>\n",
       "<style scoped>\n",
       "    .dataframe tbody tr th:only-of-type {\n",
       "        vertical-align: middle;\n",
       "    }\n",
       "\n",
       "    .dataframe tbody tr th {\n",
       "        vertical-align: top;\n",
       "    }\n",
       "\n",
       "    .dataframe thead th {\n",
       "        text-align: right;\n",
       "    }\n",
       "</style>\n",
       "<table border=\"1\" class=\"dataframe\">\n",
       "  <thead>\n",
       "    <tr style=\"text-align: right;\">\n",
       "      <th></th>\n",
       "      <th>id</th>\n",
       "      <th>dur</th>\n",
       "      <th>proto</th>\n",
       "      <th>service</th>\n",
       "      <th>state</th>\n",
       "      <th>spkts</th>\n",
       "      <th>dpkts</th>\n",
       "      <th>sbytes</th>\n",
       "      <th>dbytes</th>\n",
       "      <th>rate</th>\n",
       "      <th>...</th>\n",
       "      <th>ct_dst_sport_ltm</th>\n",
       "      <th>ct_dst_src_ltm</th>\n",
       "      <th>is_ftp_login</th>\n",
       "      <th>ct_ftp_cmd</th>\n",
       "      <th>ct_flw_http_mthd</th>\n",
       "      <th>ct_src_ltm</th>\n",
       "      <th>ct_srv_dst</th>\n",
       "      <th>is_sm_ips_ports</th>\n",
       "      <th>attack_cat</th>\n",
       "      <th>label</th>\n",
       "    </tr>\n",
       "  </thead>\n",
       "  <tbody>\n",
       "    <tr>\n",
       "      <th>0</th>\n",
       "      <td>1</td>\n",
       "      <td>0.121478</td>\n",
       "      <td>tcp</td>\n",
       "      <td>-</td>\n",
       "      <td>FIN</td>\n",
       "      <td>6</td>\n",
       "      <td>4</td>\n",
       "      <td>258</td>\n",
       "      <td>172</td>\n",
       "      <td>74.087490</td>\n",
       "      <td>...</td>\n",
       "      <td>1</td>\n",
       "      <td>1</td>\n",
       "      <td>0</td>\n",
       "      <td>0</td>\n",
       "      <td>0</td>\n",
       "      <td>1</td>\n",
       "      <td>1</td>\n",
       "      <td>0</td>\n",
       "      <td>Normal</td>\n",
       "      <td>0</td>\n",
       "    </tr>\n",
       "    <tr>\n",
       "      <th>1</th>\n",
       "      <td>2</td>\n",
       "      <td>0.649902</td>\n",
       "      <td>tcp</td>\n",
       "      <td>-</td>\n",
       "      <td>FIN</td>\n",
       "      <td>14</td>\n",
       "      <td>38</td>\n",
       "      <td>734</td>\n",
       "      <td>42014</td>\n",
       "      <td>78.473372</td>\n",
       "      <td>...</td>\n",
       "      <td>1</td>\n",
       "      <td>2</td>\n",
       "      <td>0</td>\n",
       "      <td>0</td>\n",
       "      <td>0</td>\n",
       "      <td>1</td>\n",
       "      <td>6</td>\n",
       "      <td>0</td>\n",
       "      <td>Normal</td>\n",
       "      <td>0</td>\n",
       "    </tr>\n",
       "    <tr>\n",
       "      <th>2</th>\n",
       "      <td>3</td>\n",
       "      <td>1.623129</td>\n",
       "      <td>tcp</td>\n",
       "      <td>-</td>\n",
       "      <td>FIN</td>\n",
       "      <td>8</td>\n",
       "      <td>16</td>\n",
       "      <td>364</td>\n",
       "      <td>13186</td>\n",
       "      <td>14.170161</td>\n",
       "      <td>...</td>\n",
       "      <td>1</td>\n",
       "      <td>3</td>\n",
       "      <td>0</td>\n",
       "      <td>0</td>\n",
       "      <td>0</td>\n",
       "      <td>2</td>\n",
       "      <td>6</td>\n",
       "      <td>0</td>\n",
       "      <td>Normal</td>\n",
       "      <td>0</td>\n",
       "    </tr>\n",
       "    <tr>\n",
       "      <th>3</th>\n",
       "      <td>4</td>\n",
       "      <td>1.681642</td>\n",
       "      <td>tcp</td>\n",
       "      <td>ftp</td>\n",
       "      <td>FIN</td>\n",
       "      <td>12</td>\n",
       "      <td>12</td>\n",
       "      <td>628</td>\n",
       "      <td>770</td>\n",
       "      <td>13.677108</td>\n",
       "      <td>...</td>\n",
       "      <td>1</td>\n",
       "      <td>3</td>\n",
       "      <td>1</td>\n",
       "      <td>1</td>\n",
       "      <td>0</td>\n",
       "      <td>2</td>\n",
       "      <td>1</td>\n",
       "      <td>0</td>\n",
       "      <td>Normal</td>\n",
       "      <td>0</td>\n",
       "    </tr>\n",
       "    <tr>\n",
       "      <th>4</th>\n",
       "      <td>5</td>\n",
       "      <td>0.449454</td>\n",
       "      <td>tcp</td>\n",
       "      <td>-</td>\n",
       "      <td>FIN</td>\n",
       "      <td>10</td>\n",
       "      <td>6</td>\n",
       "      <td>534</td>\n",
       "      <td>268</td>\n",
       "      <td>33.373826</td>\n",
       "      <td>...</td>\n",
       "      <td>1</td>\n",
       "      <td>40</td>\n",
       "      <td>0</td>\n",
       "      <td>0</td>\n",
       "      <td>0</td>\n",
       "      <td>2</td>\n",
       "      <td>39</td>\n",
       "      <td>0</td>\n",
       "      <td>Normal</td>\n",
       "      <td>0</td>\n",
       "    </tr>\n",
       "  </tbody>\n",
       "</table>\n",
       "<p>5 rows × 45 columns</p>\n",
       "</div>"
      ],
      "text/plain": [
       "   id       dur proto service state  spkts  dpkts  sbytes  dbytes       rate  \\\n",
       "0   1  0.121478   tcp       -   FIN      6      4     258     172  74.087490   \n",
       "1   2  0.649902   tcp       -   FIN     14     38     734   42014  78.473372   \n",
       "2   3  1.623129   tcp       -   FIN      8     16     364   13186  14.170161   \n",
       "3   4  1.681642   tcp     ftp   FIN     12     12     628     770  13.677108   \n",
       "4   5  0.449454   tcp       -   FIN     10      6     534     268  33.373826   \n",
       "\n",
       "   ...  ct_dst_sport_ltm  ct_dst_src_ltm  is_ftp_login  ct_ftp_cmd  \\\n",
       "0  ...                 1               1             0           0   \n",
       "1  ...                 1               2             0           0   \n",
       "2  ...                 1               3             0           0   \n",
       "3  ...                 1               3             1           1   \n",
       "4  ...                 1              40             0           0   \n",
       "\n",
       "   ct_flw_http_mthd  ct_src_ltm  ct_srv_dst  is_sm_ips_ports  attack_cat  \\\n",
       "0                 0           1           1                0      Normal   \n",
       "1                 0           1           6                0      Normal   \n",
       "2                 0           2           6                0      Normal   \n",
       "3                 0           2           1                0      Normal   \n",
       "4                 0           2          39                0      Normal   \n",
       "\n",
       "   label  \n",
       "0      0  \n",
       "1      0  \n",
       "2      0  \n",
       "3      0  \n",
       "4      0  \n",
       "\n",
       "[5 rows x 45 columns]"
      ]
     },
     "execution_count": 3,
     "metadata": {},
     "output_type": "execute_result"
    }
   ],
   "source": [
    "Train.head()"
   ]
  },
  {
   "cell_type": "code",
   "execution_count": 4,
   "metadata": {
    "colab": {
     "base_uri": "https://localhost:8080/"
    },
    "id": "MWICv_jXU9iK",
    "outputId": "ebe77078-e116-4863-b605-245e72ad081a"
   },
   "outputs": [
    {
     "data": {
      "text/plain": [
       "{'Analysis',\n",
       " 'Backdoor',\n",
       " 'DoS',\n",
       " 'Exploits',\n",
       " 'Fuzzers',\n",
       " 'Generic',\n",
       " 'Normal',\n",
       " 'Reconnaissance',\n",
       " 'Shellcode',\n",
       " 'Worms'}"
      ]
     },
     "execution_count": 4,
     "metadata": {},
     "output_type": "execute_result"
    }
   ],
   "source": [
    "set(Train[\"attack_cat\"])"
   ]
  },
  {
   "cell_type": "code",
   "execution_count": 5,
   "metadata": {
    "colab": {
     "base_uri": "https://localhost:8080/"
    },
    "id": "keYLf1I4VJn3",
    "outputId": "828170dc-4d00-4c3e-ff11-031601c61ee1"
   },
   "outputs": [
    {
     "data": {
      "text/plain": [
       "{0, 1}"
      ]
     },
     "execution_count": 5,
     "metadata": {},
     "output_type": "execute_result"
    }
   ],
   "source": [
    "set(Train[\"label\"])"
   ]
  },
  {
   "cell_type": "code",
   "execution_count": 6,
   "metadata": {
    "colab": {
     "base_uri": "https://localhost:8080/"
    },
    "id": "TXkSc35cWcrX",
    "outputId": "dddf5cae-027b-4d18-b2b7-072f1aca5f40"
   },
   "outputs": [
    {
     "name": "stdout",
     "output_type": "stream",
     "text": [
      "(175341, 44) (82332, 44)\n"
     ]
    }
   ],
   "source": [
    "Train=Train.drop(\"attack_cat\",axis=1)\n",
    "\n",
    "Test=Test.drop(\"attack_cat\",axis=1)\n",
    "\n",
    "print(Train.shape, Test.shape)"
   ]
  },
  {
   "cell_type": "code",
   "execution_count": 7,
   "metadata": {
    "colab": {
     "base_uri": "https://localhost:8080/"
    },
    "id": "t3wKzI8tJ7u-",
    "outputId": "c725b295-87c8-4080-c4e1-71401e92e10c"
   },
   "outputs": [
    {
     "name": "stdout",
     "output_type": "stream",
     "text": [
      "<class 'pandas.core.frame.DataFrame'>\n",
      "RangeIndex: 82332 entries, 0 to 82331\n",
      "Data columns (total 44 columns):\n",
      " #   Column             Non-Null Count  Dtype  \n",
      "---  ------             --------------  -----  \n",
      " 0   id                 82332 non-null  int64  \n",
      " 1   dur                82332 non-null  float64\n",
      " 2   proto              82332 non-null  object \n",
      " 3   service            82332 non-null  object \n",
      " 4   state              82332 non-null  object \n",
      " 5   spkts              82332 non-null  int64  \n",
      " 6   dpkts              82332 non-null  int64  \n",
      " 7   sbytes             82332 non-null  int64  \n",
      " 8   dbytes             82332 non-null  int64  \n",
      " 9   rate               82332 non-null  float64\n",
      " 10  sttl               82332 non-null  int64  \n",
      " 11  dttl               82332 non-null  int64  \n",
      " 12  sload              82332 non-null  float64\n",
      " 13  dload              82332 non-null  float64\n",
      " 14  sloss              82332 non-null  int64  \n",
      " 15  dloss              82332 non-null  int64  \n",
      " 16  sinpkt             82332 non-null  float64\n",
      " 17  dinpkt             82332 non-null  float64\n",
      " 18  sjit               82332 non-null  float64\n",
      " 19  djit               82332 non-null  float64\n",
      " 20  swin               82332 non-null  int64  \n",
      " 21  stcpb              82332 non-null  int64  \n",
      " 22  dtcpb              82332 non-null  int64  \n",
      " 23  dwin               82332 non-null  int64  \n",
      " 24  tcprtt             82332 non-null  float64\n",
      " 25  synack             82332 non-null  float64\n",
      " 26  ackdat             82332 non-null  float64\n",
      " 27  smean              82332 non-null  int64  \n",
      " 28  dmean              82332 non-null  int64  \n",
      " 29  trans_depth        82332 non-null  int64  \n",
      " 30  response_body_len  82332 non-null  int64  \n",
      " 31  ct_srv_src         82332 non-null  int64  \n",
      " 32  ct_state_ttl       82332 non-null  int64  \n",
      " 33  ct_dst_ltm         82332 non-null  int64  \n",
      " 34  ct_src_dport_ltm   82332 non-null  int64  \n",
      " 35  ct_dst_sport_ltm   82332 non-null  int64  \n",
      " 36  ct_dst_src_ltm     82332 non-null  int64  \n",
      " 37  is_ftp_login       82332 non-null  int64  \n",
      " 38  ct_ftp_cmd         82332 non-null  int64  \n",
      " 39  ct_flw_http_mthd   82332 non-null  int64  \n",
      " 40  ct_src_ltm         82332 non-null  int64  \n",
      " 41  ct_srv_dst         82332 non-null  int64  \n",
      " 42  is_sm_ips_ports    82332 non-null  int64  \n",
      " 43  label              82332 non-null  int64  \n",
      "dtypes: float64(11), int64(30), object(3)\n",
      "memory usage: 27.6+ MB\n"
     ]
    }
   ],
   "source": [
    "Test.info()"
   ]
  },
  {
   "cell_type": "code",
   "execution_count": 8,
   "metadata": {
    "colab": {
     "base_uri": "https://localhost:8080/"
    },
    "id": "nstRSROQxRDr",
    "outputId": "b88267c8-ff71-467c-a970-6b88ba02e268"
   },
   "outputs": [
    {
     "name": "stdout",
     "output_type": "stream",
     "text": [
      "<class 'pandas.core.frame.DataFrame'>\n",
      "RangeIndex: 175341 entries, 0 to 175340\n",
      "Data columns (total 44 columns):\n",
      " #   Column             Non-Null Count   Dtype  \n",
      "---  ------             --------------   -----  \n",
      " 0   id                 175341 non-null  int64  \n",
      " 1   dur                175341 non-null  float64\n",
      " 2   proto              175341 non-null  object \n",
      " 3   service            175341 non-null  object \n",
      " 4   state              175341 non-null  object \n",
      " 5   spkts              175341 non-null  int64  \n",
      " 6   dpkts              175341 non-null  int64  \n",
      " 7   sbytes             175341 non-null  int64  \n",
      " 8   dbytes             175341 non-null  int64  \n",
      " 9   rate               175341 non-null  float64\n",
      " 10  sttl               175341 non-null  int64  \n",
      " 11  dttl               175341 non-null  int64  \n",
      " 12  sload              175341 non-null  float64\n",
      " 13  dload              175341 non-null  float64\n",
      " 14  sloss              175341 non-null  int64  \n",
      " 15  dloss              175341 non-null  int64  \n",
      " 16  sinpkt             175341 non-null  float64\n",
      " 17  dinpkt             175341 non-null  float64\n",
      " 18  sjit               175341 non-null  float64\n",
      " 19  djit               175341 non-null  float64\n",
      " 20  swin               175341 non-null  int64  \n",
      " 21  stcpb              175341 non-null  int64  \n",
      " 22  dtcpb              175341 non-null  int64  \n",
      " 23  dwin               175341 non-null  int64  \n",
      " 24  tcprtt             175341 non-null  float64\n",
      " 25  synack             175341 non-null  float64\n",
      " 26  ackdat             175341 non-null  float64\n",
      " 27  smean              175341 non-null  int64  \n",
      " 28  dmean              175341 non-null  int64  \n",
      " 29  trans_depth        175341 non-null  int64  \n",
      " 30  response_body_len  175341 non-null  int64  \n",
      " 31  ct_srv_src         175341 non-null  int64  \n",
      " 32  ct_state_ttl       175341 non-null  int64  \n",
      " 33  ct_dst_ltm         175341 non-null  int64  \n",
      " 34  ct_src_dport_ltm   175341 non-null  int64  \n",
      " 35  ct_dst_sport_ltm   175341 non-null  int64  \n",
      " 36  ct_dst_src_ltm     175341 non-null  int64  \n",
      " 37  is_ftp_login       175341 non-null  int64  \n",
      " 38  ct_ftp_cmd         175341 non-null  int64  \n",
      " 39  ct_flw_http_mthd   175341 non-null  int64  \n",
      " 40  ct_src_ltm         175341 non-null  int64  \n",
      " 41  ct_srv_dst         175341 non-null  int64  \n",
      " 42  is_sm_ips_ports    175341 non-null  int64  \n",
      " 43  label              175341 non-null  int64  \n",
      "dtypes: float64(11), int64(30), object(3)\n",
      "memory usage: 58.9+ MB\n"
     ]
    }
   ],
   "source": [
    "Train.info()"
   ]
  },
  {
   "cell_type": "code",
   "execution_count": 9,
   "metadata": {
    "colab": {
     "base_uri": "https://localhost:8080/",
     "height": 466
    },
    "id": "hEYs5cDHKjL_",
    "outputId": "574d32e4-1981-4297-9b6e-0dd68b9d60da"
   },
   "outputs": [
    {
     "data": {
      "text/plain": [
       "<Axes: xlabel='label', ylabel='count'>"
      ]
     },
     "execution_count": 9,
     "metadata": {},
     "output_type": "execute_result"
    },
    {
     "data": {
      "image/png": "[encoded data removed]",
      "text/plain": [
       "<Figure size 640x480 with 1 Axes>"
      ]
     },
     "metadata": {},
     "output_type": "display_data"
    }
   ],
   "source": [
    "\n",
    "import seaborn as sns\n",
    "sns.countplot(x=Train['label'])"
   ]
  },
  {
   "cell_type": "code",
   "execution_count": 10,
   "metadata": {
    "colab": {
     "base_uri": "https://localhost:8080/",
     "height": 466
    },
    "id": "QZx-jSbWKzzy",
    "outputId": "0b84ab5f-0dd1-4900-9dab-4c781b32f8e2"
   },
   "outputs": [
    {
     "data": {
      "text/plain": [
       "<Axes: xlabel='label', ylabel='count'>"
      ]
     },
     "execution_count": 10,
     "metadata": {},
     "output_type": "execute_result"
    },
    {
     "data": {
      "image/png": "[encoded data removed]",
      "text/plain": [
       "<Figure size 640x480 with 1 Axes>"
      ]
     },
     "metadata": {},
     "output_type": "display_data"
    }
   ],
   "source": [
    "sns.countplot(x=Test['label'])"
   ]
  },
  {
   "cell_type": "code",
   "execution_count": 11,
   "metadata": {
    "colab": {
     "base_uri": "https://localhost:8080/"
    },
    "id": "-nDqQzhhVYyI",
    "outputId": "91082216-0cf9-43be-fc2b-0b62b84203c7"
   },
   "outputs": [
    {
     "data": {
      "text/plain": [
       "{'3pc',\n",
       " 'a/n',\n",
       " 'aes-sp3-d',\n",
       " 'any',\n",
       " 'argus',\n",
       " 'aris',\n",
       " 'arp',\n",
       " 'ax.25',\n",
       " 'bbn-rcc',\n",
       " 'bna',\n",
       " 'br-sat-mon',\n",
       " 'cbt',\n",
       " 'cftp',\n",
       " 'chaos',\n",
       " 'compaq-peer',\n",
       " 'cphb',\n",
       " 'cpnx',\n",
       " 'crtp',\n",
       " 'crudp',\n",
       " 'dcn',\n",
       " 'ddp',\n",
       " 'ddx',\n",
       " 'dgp',\n",
       " 'egp',\n",
       " 'eigrp',\n",
       " 'emcon',\n",
       " 'encap',\n",
       " 'etherip',\n",
       " 'fc',\n",
       " 'fire',\n",
       " 'ggp',\n",
       " 'gmtp',\n",
       " 'gre',\n",
       " 'hmp',\n",
       " 'i-nlsp',\n",
       " 'iatp',\n",
       " 'ib',\n",
       " 'icmp',\n",
       " 'idpr',\n",
       " 'idpr-cmtp',\n",
       " 'idrp',\n",
       " 'ifmp',\n",
       " 'igmp',\n",
       " 'igp',\n",
       " 'il',\n",
       " 'ip',\n",
       " 'ipcomp',\n",
       " 'ipcv',\n",
       " 'ipip',\n",
       " 'iplt',\n",
       " 'ipnip',\n",
       " 'ippc',\n",
       " 'ipv6',\n",
       " 'ipv6-frag',\n",
       " 'ipv6-no',\n",
       " 'ipv6-opts',\n",
       " 'ipv6-route',\n",
       " 'ipx-n-ip',\n",
       " 'irtp',\n",
       " 'isis',\n",
       " 'iso-ip',\n",
       " 'iso-tp4',\n",
       " 'kryptolan',\n",
       " 'l2tp',\n",
       " 'larp',\n",
       " 'leaf-1',\n",
       " 'leaf-2',\n",
       " 'merit-inp',\n",
       " 'mfe-nsp',\n",
       " 'mhrp',\n",
       " 'micp',\n",
       " 'mobile',\n",
       " 'mtp',\n",
       " 'mux',\n",
       " 'narp',\n",
       " 'netblt',\n",
       " 'nsfnet-igp',\n",
       " 'nvp',\n",
       " 'ospf',\n",
       " 'pgm',\n",
       " 'pim',\n",
       " 'pipe',\n",
       " 'pnni',\n",
       " 'pri-enc',\n",
       " 'prm',\n",
       " 'ptp',\n",
       " 'pup',\n",
       " 'pvp',\n",
       " 'qnx',\n",
       " 'rdp',\n",
       " 'rsvp',\n",
       " 'rtp',\n",
       " 'rvd',\n",
       " 'sat-expak',\n",
       " 'sat-mon',\n",
       " 'sccopmce',\n",
       " 'scps',\n",
       " 'sctp',\n",
       " 'sdrp',\n",
       " 'secure-vmtp',\n",
       " 'sep',\n",
       " 'skip',\n",
       " 'sm',\n",
       " 'smp',\n",
       " 'snp',\n",
       " 'sprite-rpc',\n",
       " 'sps',\n",
       " 'srp',\n",
       " 'st2',\n",
       " 'stp',\n",
       " 'sun-nd',\n",
       " 'swipe',\n",
       " 'tcf',\n",
       " 'tcp',\n",
       " 'tlsp',\n",
       " 'tp++',\n",
       " 'trunk-1',\n",
       " 'trunk-2',\n",
       " 'ttp',\n",
       " 'udp',\n",
       " 'unas',\n",
       " 'uti',\n",
       " 'vines',\n",
       " 'visa',\n",
       " 'vmtp',\n",
       " 'vrrp',\n",
       " 'wb-expak',\n",
       " 'wb-mon',\n",
       " 'wsn',\n",
       " 'xnet',\n",
       " 'xns-idp',\n",
       " 'xtp',\n",
       " 'zero'}"
      ]
     },
     "execution_count": 11,
     "metadata": {},
     "output_type": "execute_result"
    }
   ],
   "source": [
    "set(Train['proto'])"
   ]
  },
  {
   "cell_type": "code",
   "execution_count": 12,
   "metadata": {
    "id": "oZpjl_wLV_f2"
   },
   "outputs": [],
   "source": [
    "import pandas as pd\n",
    "\n",
    "# Assuming you have a DataFrame called 'df' with columns 'proto', 'service', and 'state'\n",
    "from sklearn.preprocessing import LabelEncoder\n",
    "\n",
    "label_encoder = LabelEncoder()\n",
    "\n",
    "# Apply label encoding to 'proto' column\n",
    "Train['proto_e'] = label_encoder.fit_transform(Train['proto'])\n",
    "\n",
    "# Apply label encoding to 'service' column\n",
    "Train['service_e'] = label_encoder.fit_transform(Train['service'])\n",
    "\n",
    "# Apply label encoding to 'state' column\n",
    "Train['state_e'] = label_encoder.fit_transform(Train['state'])\n",
    "\n",
    "# Drop the original columns\n",
    "Train.drop(columns=['proto', 'service', 'state'], inplace=True)"
   ]
  },
  {
   "cell_type": "code",
   "execution_count": 13,
   "metadata": {
    "id": "OaVwAB8ZWhPy"
   },
   "outputs": [],
   "source": [
    "import pandas as pd\n",
    "\n",
    "# Assuming you have a DataFrame called 'df' with columns 'proto', 'service', and 'state'\n",
    "from sklearn.preprocessing import LabelEncoder\n",
    "\n",
    "label_encoder = LabelEncoder()\n",
    "\n",
    "# Apply label encoding to 'proto' column\n",
    "Test['proto_e'] = label_encoder.fit_transform(Test['proto'])\n",
    "\n",
    "# Apply label encoding to 'service' column\n",
    "Test['service_e'] = label_encoder.fit_transform(Test['service'])\n",
    "\n",
    "# Apply label encoding to 'state' column\n",
    "Test['state_e'] = label_encoder.fit_transform(Test['state'])\n",
    "# Drop the original columns\n",
    "Test.drop(columns=['proto', 'service', 'state'], inplace=True)"
   ]
  },
  {
   "cell_type": "code",
   "execution_count": 14,
   "metadata": {
    "colab": {
     "base_uri": "https://localhost:8080/"
    },
    "id": "2OBV8IY7Wpjj",
    "outputId": "27d5636a-21b2-4e79-f95a-49513d87bb9b"
   },
   "outputs": [
    {
     "name": "stdout",
     "output_type": "stream",
     "text": [
      "<class 'pandas.core.frame.DataFrame'>\n",
      "RangeIndex: 175341 entries, 0 to 175340\n",
      "Data columns (total 44 columns):\n",
      " #   Column             Non-Null Count   Dtype  \n",
      "---  ------             --------------   -----  \n",
      " 0   id                 175341 non-null  int64  \n",
      " 1   dur                175341 non-null  float64\n",
      " 2   spkts              175341 non-null  int64  \n",
      " 3   dpkts              175341 non-null  int64  \n",
      " 4   sbytes             175341 non-null  int64  \n",
      " 5   dbytes             175341 non-null  int64  \n",
      " 6   rate               175341 non-null  float64\n",
      " 7   sttl               175341 non-null  int64  \n",
      " 8   dttl               175341 non-null  int64  \n",
      " 9   sload              175341 non-null  float64\n",
      " 10  dload              175341 non-null  float64\n",
      " 11  sloss              175341 non-null  int64  \n",
      " 12  dloss              175341 non-null  int64  \n",
      " 13  sinpkt             175341 non-null  float64\n",
      " 14  dinpkt             175341 non-null  float64\n",
      " 15  sjit               175341 non-null  float64\n",
      " 16  djit               175341 non-null  float64\n",
      " 17  swin               175341 non-null  int64  \n",
      " 18  stcpb              175341 non-null  int64  \n",
      " 19  dtcpb              175341 non-null  int64  \n",
      " 20  dwin               175341 non-null  int64  \n",
      " 21  tcprtt             175341 non-null  float64\n",
      " 22  synack             175341 non-null  float64\n",
      " 23  ackdat             175341 non-null  float64\n",
      " 24  smean              175341 non-null  int64  \n",
      " 25  dmean              175341 non-null  int64  \n",
      " 26  trans_depth        175341 non-null  int64  \n",
      " 27  response_body_len  175341 non-null  int64  \n",
      " 28  ct_srv_src         175341 non-null  int64  \n",
      " 29  ct_state_ttl       175341 non-null  int64  \n",
      " 30  ct_dst_ltm         175341 non-null  int64  \n",
      " 31  ct_src_dport_ltm   175341 non-null  int64  \n",
      " 32  ct_dst_sport_ltm   175341 non-null  int64  \n",
      " 33  ct_dst_src_ltm     175341 non-null  int64  \n",
      " 34  is_ftp_login       175341 non-null  int64  \n",
      " 35  ct_ftp_cmd         175341 non-null  int64  \n",
      " 36  ct_flw_http_mthd   175341 non-null  int64  \n",
      " 37  ct_src_ltm         175341 non-null  int64  \n",
      " 38  ct_srv_dst         175341 non-null  int64  \n",
      " 39  is_sm_ips_ports    175341 non-null  int64  \n",
      " 40  label              175341 non-null  int64  \n",
      " 41  proto_e            175341 non-null  int32  \n",
      " 42  service_e          175341 non-null  int32  \n",
      " 43  state_e            175341 non-null  int32  \n",
      "dtypes: float64(11), int32(3), int64(30)\n",
      "memory usage: 56.9 MB\n"
     ]
    }
   ],
   "source": [
    "Train.info()"
   ]
  },
  {
   "cell_type": "code",
   "execution_count": 15,
   "metadata": {
    "colab": {
     "base_uri": "https://localhost:8080/"
    },
    "id": "C4ZbINI1Wxhf",
    "outputId": "f1ebc078-dd7e-446d-b541-178dd35c404c"
   },
   "outputs": [
    {
     "name": "stdout",
     "output_type": "stream",
     "text": [
      "<class 'pandas.core.frame.DataFrame'>\n",
      "RangeIndex: 82332 entries, 0 to 82331\n",
      "Data columns (total 44 columns):\n",
      " #   Column             Non-Null Count  Dtype  \n",
      "---  ------             --------------  -----  \n",
      " 0   id                 82332 non-null  int64  \n",
      " 1   dur                82332 non-null  float64\n",
      " 2   spkts              82332 non-null  int64  \n",
      " 3   dpkts              82332 non-null  int64  \n",
      " 4   sbytes             82332 non-null  int64  \n",
      " 5   dbytes             82332 non-null  int64  \n",
      " 6   rate               82332 non-null  float64\n",
      " 7   sttl               82332 non-null  int64  \n",
      " 8   dttl               82332 non-null  int64  \n",
      " 9   sload              82332 non-null  float64\n",
      " 10  dload              82332 non-null  float64\n",
      " 11  sloss              82332 non-null  int64  \n",
      " 12  dloss              82332 non-null  int64  \n",
      " 13  sinpkt             82332 non-null  float64\n",
      " 14  dinpkt             82332 non-null  float64\n",
      " 15  sjit               82332 non-null  float64\n",
      " 16  djit               82332 non-null  float64\n",
      " 17  swin               82332 non-null  int64  \n",
      " 18  stcpb              82332 non-null  int64  \n",
      " 19  dtcpb              82332 non-null  int64  \n",
      " 20  dwin               82332 non-null  int64  \n",
      " 21  tcprtt             82332 non-null  float64\n",
      " 22  synack             82332 non-null  float64\n",
      " 23  ackdat             82332 non-null  float64\n",
      " 24  smean              82332 non-null  int64  \n",
      " 25  dmean              82332 non-null  int64  \n",
      " 26  trans_depth        82332 non-null  int64  \n",
      " 27  response_body_len  82332 non-null  int64  \n",
      " 28  ct_srv_src         82332 non-null  int64  \n",
      " 29  ct_state_ttl       82332 non-null  int64  \n",
      " 30  ct_dst_ltm         82332 non-null  int64  \n",
      " 31  ct_src_dport_ltm   82332 non-null  int64  \n",
      " 32  ct_dst_sport_ltm   82332 non-null  int64  \n",
      " 33  ct_dst_src_ltm     82332 non-null  int64  \n",
      " 34  is_ftp_login       82332 non-null  int64  \n",
      " 35  ct_ftp_cmd         82332 non-null  int64  \n",
      " 36  ct_flw_http_mthd   82332 non-null  int64  \n",
      " 37  ct_src_ltm         82332 non-null  int64  \n",
      " 38  ct_srv_dst         82332 non-null  int64  \n",
      " 39  is_sm_ips_ports    82332 non-null  int64  \n",
      " 40  label              82332 non-null  int64  \n",
      " 41  proto_e            82332 non-null  int32  \n",
      " 42  service_e          82332 non-null  int32  \n",
      " 43  state_e            82332 non-null  int32  \n",
      "dtypes: float64(11), int32(3), int64(30)\n",
      "memory usage: 26.7 MB\n"
     ]
    }
   ],
   "source": [
    "Test.info()"
   ]
  },
  {
   "cell_type": "code",
   "execution_count": 16,
   "metadata": {
    "id": "mcjiG_SVW1xp"
   },
   "outputs": [],
   "source": [
    "x_train=Train.drop(['label'],axis=1)\n",
    "y_train=Train['label']"
   ]
  },
  {
   "cell_type": "code",
   "execution_count": 17,
   "metadata": {
    "id": "lPBCnMx5YVaT"
   },
   "outputs": [],
   "source": [
    "x_test=Test.drop(['label'],axis=1)\n",
    "y_test=Test['label']"
   ]
  },
  {
   "cell_type": "code",
   "execution_count": 18,
   "metadata": {
    "colab": {
     "base_uri": "https://localhost:8080/"
    },
    "id": "o8xyEC0ZufFT",
    "outputId": "ffcbfde9-d30e-42c9-f2d6-20cfda86f4a1"
   },
   "outputs": [
    {
     "data": {
      "text/plain": [
       "(82332, 43)"
      ]
     },
     "execution_count": 18,
     "metadata": {},
     "output_type": "execute_result"
    }
   ],
   "source": [
    "x_test.shape"
   ]
  },
  {
   "cell_type": "code",
   "execution_count": 19,
   "metadata": {
    "colab": {
     "base_uri": "https://localhost:8080/"
    },
    "id": "oujVCydCXO8l",
    "outputId": "d3016370-fe43-436e-83a4-52f7406b1521"
   },
   "outputs": [
    {
     "data": {
      "text/plain": [
       "0         0\n",
       "1         0\n",
       "2         0\n",
       "3         0\n",
       "4         0\n",
       "         ..\n",
       "175336    1\n",
       "175337    1\n",
       "175338    1\n",
       "175339    1\n",
       "175340    1\n",
       "Name: label, Length: 175341, dtype: int64"
      ]
     },
     "execution_count": 19,
     "metadata": {},
     "output_type": "execute_result"
    }
   ],
   "source": [
    "y_train"
   ]
  },
  {
   "cell_type": "code",
   "execution_count": 20,
   "metadata": {
    "colab": {
     "base_uri": "https://localhost:8080/"
    },
    "id": "4bP6B9Xauh7x",
    "outputId": "690cc773-f26f-4bbc-c319-4f4c2209a279"
   },
   "outputs": [
    {
     "name": "stdout",
     "output_type": "stream",
     "text": [
      "[[-1.73204093 -0.19102881 -0.10445581 ...  0.15180939 -0.70230738\n",
      "  -0.40921807]\n",
      " [-1.73202117 -0.10948479 -0.04601353 ...  0.15180939 -0.70230738\n",
      "  -0.40921807]\n",
      " [-1.73200142  0.04069922 -0.08984524 ...  0.15180939 -0.70230738\n",
      "  -0.40921807]\n",
      " ...\n",
      " [ 1.73200142 -0.20977336 -0.13367695 ...  0.42023529  0.16531734\n",
      "   0.7429361 ]\n",
      " [ 1.73202117 -0.20977336 -0.13367695 ...  0.42023529  0.16531734\n",
      "   0.7429361 ]\n",
      " [ 1.73204093 -0.20977336 -0.13367695 ...  0.42023529  0.16531734\n",
      "   0.7429361 ]]\n"
     ]
    }
   ],
   "source": [
    "# importing required libraries for normalizing data\n",
    "from sklearn import preprocessing\n",
    "from sklearn.preprocessing import StandardScaler\n",
    "\n",
    "# define min max scaler\n",
    "sc = StandardScaler()\n",
    "x_train=sc.fit_transform(x_train)\n",
    "x_test=sc.fit_transform(x_test)\n",
    "\n",
    "print(x_train)"
   ]
  },
  {
   "cell_type": "code",
   "execution_count": 21,
   "metadata": {
    "colab": {
     "base_uri": "https://localhost:8080/"
    },
    "id": "sFkbJ_6gvgcr",
    "outputId": "19a6b3ff-93e5-429f-d4fc-d5e0306a89dd"
   },
   "outputs": [
    {
     "name": "stdout",
     "output_type": "stream",
     "text": [
      "(175341, 43) (82332, 43) (175341,) (82332,)\n"
     ]
    }
   ],
   "source": [
    "print(x_train.shape, x_test.shape, y_train.shape, y_test.shape)"
   ]
  },
  {
   "cell_type": "code",
   "execution_count": 22,
   "metadata": {
    "colab": {
     "base_uri": "https://localhost:8080/"
    },
    "id": "1H8kzoJwy4IH",
    "outputId": "323c9009-958c-4dae-fbab-aa99870a2c36"
   },
   "outputs": [
    {
     "name": "stdout",
     "output_type": "stream",
     "text": [
      "Model: \"model\"\n",
      "__________________________________________________________________________________________________\n",
      " Layer (type)                Output Shape                 Param #   Connected to                  \n",
      "==================================================================================================\n",
      " input_1 (InputLayer)        [(None, 175341, 43)]         0         []                            \n",
      "                                                                                                  \n",
      " conv1d (Conv1D)             (None, 175341, 128)          16640     ['input_1[0][0]']             \n",
      "                                                                                                  \n",
      " conv1d_3 (Conv1D)           (None, 175341, 128)          16640     ['input_1[0][0]']             \n",
      "                                                                                                  \n",
      " conv1d_1 (Conv1D)           (None, 175341, 64)           24640     ['conv1d[0][0]']              \n",
      "                                                                                                  \n",
      " conv1d_4 (Conv1D)           (None, 175341, 64)           24640     ['conv1d_3[0][0]']            \n",
      "                                                                                                  \n",
      " conv1d_2 (Conv1D)           (None, 175341, 32)           6176      ['conv1d_1[0][0]']            \n",
      "                                                                                                  \n",
      " conv1d_5 (Conv1D)           (None, 175341, 32)           6176      ['conv1d_4[0][0]']            \n",
      "                                                                                                  \n",
      " tf.math.add (TFOpLambda)    (None, 175341, 32)           0         ['conv1d_2[0][0]',            \n",
      "                                                                     'conv1d_5[0][0]']            \n",
      "                                                                                                  \n",
      "==================================================================================================\n",
      "Total params: 94912 (370.75 KB)\n",
      "Trainable params: 94912 (370.75 KB)\n",
      "Non-trainable params: 0 (0.00 Byte)\n",
      "__________________________________________________________________________________________________\n",
      "Model: \"model_1\"\n",
      "_________________________________________________________________\n",
      " Layer (type)                Output Shape              Param #   \n",
      "=================================================================\n",
      " input_1 (InputLayer)        [(None, 175341, 43)]      0         \n",
      "                                                                 \n",
      " model (Functional)          (None, 175341, 32)        94912     \n",
      "                                                                 \n",
      " conv1d_transpose (Conv1DTr  (None, 175341, 32)        3104      \n",
      " anspose)                                                        \n",
      "                                                                 \n",
      " conv1d_transpose_1 (Conv1D  (None, 175341, 64)        6208      \n",
      " Transpose)                                                      \n",
      "                                                                 \n",
      " conv1d_transpose_2 (Conv1D  (None, 175341, 128)       24704     \n",
      " Transpose)                                                      \n",
      "                                                                 \n",
      " conv1d_transpose_3 (Conv1D  (None, 175341, 256)       98560     \n",
      " Transpose)                                                      \n",
      "                                                                 \n",
      " conv1d_transpose_4 (Conv1D  (None, 175341, 128)       98432     \n",
      " Transpose)                                                      \n",
      "                                                                 \n",
      " conv1d_transpose_5 (Conv1D  (None, 175341, 64)        24640     \n",
      " Transpose)                                                      \n",
      "                                                                 \n",
      " conv1d_transpose_6 (Conv1D  (None, 175341, 32)        6176      \n",
      " Transpose)                                                      \n",
      "                                                                 \n",
      " conv1d_transpose_7 (Conv1D  (None, 175341, 43)        4171      \n",
      " Transpose)                                                      \n",
      "                                                                 \n",
      " tf.reshape (TFOpLambda)     (None, 175341, 43)        0         \n",
      "                                                                 \n",
      "=================================================================\n",
      "Total params: 360907 (1.38 MB)\n",
      "Trainable params: 360907 (1.38 MB)\n",
      "Non-trainable params: 0 (0.00 Byte)\n",
      "_________________________________________________________________\n",
      "1/1 [==============================] - 1s 683ms/step\n",
      "1/1 [==============================] - 1s 524ms/step\n"
     ]
    }
   ],
   "source": [
    "import tensorflow as tf\n",
    "from tensorflow.keras.layers import Input, Conv1D, GlobalAveragePooling1D, Dense, Softmax, Reshape, Multiply, Add, Concatenate, Flatten\n",
    "from tensorflow.keras.models import Model\n",
    "\n",
    "# Your data shapes\n",
    "timesteps = x_train.shape[0]\n",
    "input_dim = x_train.shape[1]\n",
    "\n",
    "inp = Input(shape=(timesteps,input_dim))# Define Channel Attention module\n",
    "class ChannelAttention(tf.keras.layers.Layer):\n",
    "    def __init__(self):\n",
    "        super(ChannelAttention, self).__init__()\n",
    "        self.avg_pool = GlobalAveragePooling1D()\n",
    "        self.fc = Dense(1, activation='relu')  # Use 1 output unit for channel attention\n",
    "        self.softmax = Softmax(axis=-1)\n",
    "        self.multiply = Multiply()\n",
    "\n",
    "    def call(self, x):\n",
    "        # Compute channel attention map\n",
    "        y = self.avg_pool(x)\n",
    "        y = self.fc(y)\n",
    "        y = self.softmax(y)\n",
    "        y = Reshape(target_shape=(1, 1, -1))(y)\n",
    "        attention_map = self.multiply([x, y])\n",
    "\n",
    "        # Combine attention map with original input\n",
    "        output = Add()([x, attention_map])\n",
    "        return output\n",
    "\n",
    "# Define Positional Attention module\n",
    "class PositionalAttention(tf.keras.layers.Layer):\n",
    "    def __init__(self):\n",
    "        super(PositionalAttention, self).__init__()\n",
    "\n",
    "    def build(self, input_shape):\n",
    "        self.query = Conv1D(input_shape[-1], kernel_size=1)\n",
    "        self.key = Conv1D(input_shape[-1], kernel_size=1)\n",
    "        self.value = Conv1D(input_shape[-1], kernel_size=1)\n",
    "\n",
    "    def call(self, inputs):\n",
    "        # Split the input into query, key, and value\n",
    "        query = self.query(inputs)\n",
    "        key = self.key(inputs)\n",
    "        value = self.value(inputs)\n",
    "\n",
    "        # Reshape query, key, and value for positional attention\n",
    "        query = tf.reshape(query, [-1, query.shape[1], query.shape[2], query.shape[3]])\n",
    "        key = tf.reshape(key, [-1, key.shape[1], key.shape[2], key.shape[3]])\n",
    "        value = tf.reshape(value, [-1, value.shape[1], value.shape[2], value.shape[3]])\n",
    "\n",
    "        # Compute attention scores\n",
    "        scores = tf.matmul(query, key, transpose_b=True)\n",
    "        scores = scores / tf.math.sqrt(tf.cast(query.shape[-1], tf.float32))\n",
    "\n",
    "        # Apply softmax activation to get attention probabilities\n",
    "        attention_probs = tf.nn.softmax(scores, axis=-1)\n",
    "\n",
    "        # Compute attention-weighted sum of value feature maps\n",
    "        attention_output = tf.matmul(attention_probs, value)\n",
    "        return attention_output\n",
    "\n",
    "\n",
    "\n",
    "# Define the autoencoder architecture\n",
    "# Encoder 1 with standard convolution layers and positional attention\n",
    "x1 = Conv1D(filters=128, kernel_size=3, padding='same', activation='relu')(inp)\n",
    "x1 = Conv1D(filters=64, kernel_size=3, padding='same', activation='relu')(x1)\n",
    "x1 = Conv1D(filters=32, kernel_size=3, padding='same', activation='relu')(x1)\n",
    "#x1_att = PositionalAttention(32,num_heads=4)(x1)\n",
    "\n",
    "# Encoder 2 with dilated convolution layers and channel attention\n",
    "x2 = Conv1D(filters=128, kernel_size=3, padding='same', dilation_rate=2, activation='relu')(inp)\n",
    "x2 = Conv1D(filters=64, kernel_size=3, padding='same', dilation_rate=4, activation='relu')(x2)\n",
    "x2 = Conv1D(filters=32, kernel_size=3, padding='same', dilation_rate=4, activation='relu')(x2)\n",
    "#x2_att = ChannelAttention(32)(x2)\n",
    "\n",
    "# Reshape x1 and x2 to have the same shape for addition\n",
    "# Reshape x1 and x2 to have the same shape for addition\n",
    "#x1_reshaped = tf.reshape(x1_att, [-1, timesteps, 32])\n",
    "#x2_reshaped = tf.reshape(x2_att, [-1, timesteps, 32])\n",
    "\n",
    "\n",
    "# Perform addition\n",
    "encoder_output = tf.add(x1, x2)\n",
    "\n",
    "# Create the encoder model\n",
    "encoder = Model(inputs=inp, outputs=encoder_output)\n",
    "\n",
    "# Print the summary of the encoder\n",
    "encoder.summary()\n",
    "\n",
    "#decoder part\n",
    "from tensorflow.keras.layers import Conv1DTranspose\n",
    "\n",
    "# Define the decoder architecture\n",
    "def create_decoder(encoder_output, input_dim, timesteps):\n",
    "    # Decoder 1\n",
    "    x = Conv1DTranspose(filters=32, kernel_size=3, padding='same', activation='relu')(encoder_output)\n",
    "    # Add more decoder layers as needed\n",
    "    x = Conv1DTranspose(filters=64, kernel_size=3, padding='same', activation='relu')(x)\n",
    "    x = Conv1DTranspose(filters=128, kernel_size=3, padding='same', activation='relu')(x)\n",
    "    x = Conv1DTranspose(filters=256, kernel_size=3, padding='same', activation='relu')(x)\n",
    "    x = Conv1DTranspose(filters=128, kernel_size=3, padding='same', activation='relu')(x)\n",
    "    x = Conv1DTranspose(filters=64, kernel_size=3, padding='same', activation='relu')(x)\n",
    "    x = Conv1DTranspose(filters=32, kernel_size=3, padding='same', activation='relu')(x)\n",
    "    # Final layer\n",
    "    decoded_output = Conv1DTranspose(filters=input_dim, kernel_size=3, padding='same', activation='sigmoid')(x)\n",
    "\n",
    "    # Reshape the output to match the original input shape\n",
    "    decoded_output = tf.reshape(decoded_output, [-1, timesteps, input_dim])\n",
    "\n",
    "    return decoded_output\n",
    "# Assuming you have the encoder model `encoder` already defined\n",
    "# Get the output of the encoder\n",
    "encoder_output = encoder(inp)\n",
    "\n",
    "# Create the decoder model\n",
    "decoder_output = create_decoder(encoder_output, input_dim, timesteps)\n",
    "\n",
    "decoder = Model(inputs=inp, outputs=decoder_output)\n",
    "\n",
    "# Print the summary of the decoder\n",
    "decoder.summary()\n",
    "\n",
    "import numpy as np\n",
    "# Expand dimensions to match expected input shape\n",
    "x_train_expanded = np.expand_dims(x_train, axis=0)\n",
    "x_test_expanded = np.expand_dims(x_test, axis=0)\n",
    "\n",
    "# Assuming you have the encoder model `encoder` already defined\n",
    "# Get the output of the encoder\n",
    "encoded_x_train = encoder.predict(x_train_expanded)  # Shape: (1, timesteps, 32)\n",
    "encoded_x_test = encoder.predict(x_test_expanded)    # Shape: (1, timesteps, 32)\n",
    "\n"
   ]
  },
  {
   "cell_type": "code",
   "execution_count": null,
   "metadata": {
    "id": "7Hxa4HvfIxgg"
   },
   "outputs": [],
   "source": []
  },
  {
   "cell_type": "markdown",
   "metadata": {
    "id": "dBQDkQGqXJHx"
   },
   "source": [
    "since the encoder model uses dilated convo layers which requires in 3D shape of input data to fit the model or train the model ,or else 2D enough. To do so below steps requires."
   ]
  },
  {
   "cell_type": "code",
   "execution_count": 23,
   "metadata": {
    "colab": {
     "base_uri": "https://localhost:8080/"
    },
    "id": "Dz8uoh-IuIHF",
    "outputId": "deef81a0-8d95-4d56-8d83-a98617a7d111"
   },
   "outputs": [
    {
     "data": {
      "text/plain": [
       "(82332, 43)"
      ]
     },
     "execution_count": 23,
     "metadata": {},
     "output_type": "execute_result"
    }
   ],
   "source": [
    "x_test.shape"
   ]
  },
  {
   "cell_type": "code",
   "execution_count": 24,
   "metadata": {
    "colab": {
     "base_uri": "https://localhost:8080/"
    },
    "id": "jzPzQ7DP2GV8",
    "outputId": "0622029d-c7f7-4e7c-ffca-d7511c776dc3"
   },
   "outputs": [
    {
     "data": {
      "text/plain": [
       "(1, 82332, 32)"
      ]
     },
     "execution_count": 24,
     "metadata": {},
     "output_type": "execute_result"
    }
   ],
   "source": [
    "encoded_x_test.shape"
   ]
  },
  {
   "cell_type": "code",
   "execution_count": 25,
   "metadata": {
    "colab": {
     "base_uri": "https://localhost:8080/"
    },
    "id": "_rRp9xt5OCsm",
    "outputId": "9fb047a2-9f33-4b98-d427-6a7ce48f1b4c"
   },
   "outputs": [
    {
     "name": "stdout",
     "output_type": "stream",
     "text": [
      "Shape of x_train_reshaped: (1, 82332, 32)\n",
      "Shape of y_train_reshaped: (82332,)\n"
     ]
    }
   ],
   "source": [
    "print(\"Shape of x_train_reshaped:\", encoded_x_test.shape)  # Should be (num_samples, timesteps, input_dim)\n",
    "print(\"Shape of y_train_reshaped:\", y_test.shape)  # Should be (num_samples, timesteps, output_dim)\n"
   ]
  },
  {
   "cell_type": "markdown",
   "metadata": {
    "id": "dn8LiRqdXp8M"
   },
   "source": [
    "loss and mae values less means the model works better.\n"
   ]
  },
  {
   "cell_type": "markdown",
   "metadata": {
    "id": "B287JFUsZO5c"
   },
   "source": [
    "final step : fit the dataa to classifier to get accuracy and detection ."
   ]
  },
  {
   "cell_type": "code",
   "execution_count": 26,
   "metadata": {
    "colab": {
     "base_uri": "https://localhost:8080/"
    },
    "id": "PkmiAIprqg8F",
    "outputId": "8615e365-4eac-4371-d946-ed5323f23f72"
   },
   "outputs": [
    {
     "name": "stdout",
     "output_type": "stream",
     "text": [
      "Shape of x_train_squeezed: (175341, 32)\n",
      "Shape of x_train_squeezed: (175341,)\n",
      "Shape of x_test_squeezed: (82332, 32)\n",
      "Shape of x_train_squeezed: (82332,)\n"
     ]
    }
   ],
   "source": [
    "import numpy as np\n",
    "\n",
    "def squeeze(input_array):\n",
    "    \"\"\"\n",
    "    Removes dimensions of size 1 from the shape of a NumPy array.\n",
    "\n",
    "    Args:\n",
    "        input_array (np.ndarray): The input array.\n",
    "\n",
    "    Returns:\n",
    "        np.ndarray: The array with dimensions of size 1 removed.\n",
    "    \"\"\"\n",
    "    return np.squeeze(input_array)\n",
    "\n",
    "# Example usage\n",
    "\n",
    "x_test_squeezed = squeeze(encoded_x_test)\n",
    "x_train_squeezed= squeeze(encoded_x_train)\n",
    "\n",
    "\n",
    "print(\"Shape of x_train_squeezed:\", x_train_squeezed.shape)\n",
    "print(\"Shape of x_train_squeezed:\", y_train.shape)   # Output: (175341, 194)\n",
    "print(\"Shape of x_test_squeezed:\", x_test_squeezed.shape)\n",
    "print(\"Shape of x_train_squeezed:\", y_test.shape)"
   ]
  },
  {
   "cell_type": "markdown",
   "metadata": {
    "id": "kg84McjM3Tk-"
   },
   "source": [
    "finally we got encoded output shape of x_train and y_train. now model evalution and check accuracy\n"
   ]
  },
  {
   "cell_type": "markdown",
   "metadata": {
    "id": "lmNI6W32fWrO"
   },
   "source": []
  },
  {
   "cell_type": "markdown",
   "metadata": {
    "id": "_ry4UJW3QfHf"
   },
   "source": [
    "above samples are incorrect so make sure to equal them"
   ]
  },
  {
   "cell_type": "code",
   "execution_count": 27,
   "metadata": {
    "colab": {
     "base_uri": "https://localhost:8080/"
    },
    "id": "ezvDTj4vWfNY",
    "outputId": "385dfd24-e83b-4aec-a2f4-dcd58d4409d5"
   },
   "outputs": [
    {
     "data": {
      "text/plain": [
       "\"import tensorflow as tf\\nfrom tensorflow.keras.models import Sequential\\nfrom tensorflow.keras.layers import Dense, Dropout\\n\\n# Define the model\\nmodel = Sequential([\\n    Dense(64, activation='relu', input_shape=(x_train_squeezed.shape[1],)),\\n    Dropout(0.5),\\n    Dense(32, activation='relu'),\\n    Dropout(0.5),\\n    Dense(1, activation='sigmoid')\\n])\\n\\n# Compile the model\\nmodel.compile(optimizer='adam',\\n              loss='binary_crossentropy',\\n              metrics=['accuracy'])\\n\\n# Train the model\\nmodel.fit(x_train_squeezed, y_train, epochs=10, batch_size=128, validation_data=(x_test_squeezed, y_test))\""
      ]
     },
     "execution_count": 27,
     "metadata": {},
     "output_type": "execute_result"
    }
   ],
   "source": [
    "'''import tensorflow as tf\n",
    "from tensorflow.keras.models import Sequential\n",
    "from tensorflow.keras.layers import Dense, Dropout\n",
    "\n",
    "# Define the model\n",
    "model = Sequential([\n",
    "    Dense(64, activation='relu', input_shape=(x_train_squeezed.shape[1],)),\n",
    "    Dropout(0.5),\n",
    "    Dense(32, activation='relu'),\n",
    "    Dropout(0.5),\n",
    "    Dense(1, activation='sigmoid')\n",
    "])\n",
    "\n",
    "# Compile the model\n",
    "model.compile(optimizer='adam',\n",
    "              loss='binary_crossentropy',\n",
    "              metrics=['accuracy'])\n",
    "\n",
    "# Train the model\n",
    "model.fit(x_train_squeezed, y_train, epochs=10, batch_size=128, validation_data=(x_test_squeezed, y_test))'''\n",
    "\n",
    "\n"
   ]
  },
  {
   "cell_type": "code",
   "execution_count": 28,
   "metadata": {
    "id": "UG4wa43KYeYG"
   },
   "outputs": [],
   "source": [
    "from tensorflow.keras.layers import Input, Dense\n",
    "from tensorflow.keras.models import Model\n",
    "\n",
    "# Create a simple lightweight model\n",
    "inp = Input(shape=(x_train_squeezed.shape[1],))\n",
    "x = Dense(64, activation='relu')(inp)\n",
    "x = Dense(32, activation='relu')(x)\n",
    "out = Dense(1, activation='sigmoid')(x)\n",
    "\n",
    "# Define the model\n",
    "mlp = Model(inputs=inp, outputs=out)\n",
    "\n",
    "# Compile the model\n",
    "mlp.compile(optimizer='adam', loss='binary_crossentropy', metrics=['accuracy'])\n"
   ]
  },
  {
   "cell_type": "code",
   "execution_count": 29,
   "metadata": {
    "colab": {
     "base_uri": "https://localhost:8080/"
    },
    "id": "7wEjZFyZYjFL",
    "outputId": "802256c0-1f4d-4b8f-9ecf-5f2c1e84dabc"
   },
   "outputs": [
    {
     "name": "stdout",
     "output_type": "stream",
     "text": [
      "Epoch 1/20\n",
      "1370/1370 [==============================] - 2s 1ms/step - loss: 0.3119 - accuracy: 0.8744\n",
      "Epoch 2/20\n",
      "1370/1370 [==============================] - 2s 1ms/step - loss: 0.2515 - accuracy: 0.9001\n",
      "Epoch 3/20\n",
      "1370/1370 [==============================] - 2s 1ms/step - loss: 0.2392 - accuracy: 0.9058\n",
      "Epoch 4/20\n",
      "1370/1370 [==============================] - 2s 1ms/step - loss: 0.2311 - accuracy: 0.9097\n",
      "Epoch 5/20\n",
      "1370/1370 [==============================] - 2s 1ms/step - loss: 0.2253 - accuracy: 0.9123\n",
      "Epoch 6/20\n",
      "1370/1370 [==============================] - 2s 1ms/step - loss: 0.2210 - accuracy: 0.9143\n",
      "Epoch 7/20\n",
      "1370/1370 [==============================] - 2s 1ms/step - loss: 0.2177 - accuracy: 0.9152\n",
      "Epoch 8/20\n",
      "1370/1370 [==============================] - 2s 1ms/step - loss: 0.2145 - accuracy: 0.9167\n",
      "Epoch 9/20\n",
      "1370/1370 [==============================] - 2s 1ms/step - loss: 0.2117 - accuracy: 0.9180\n",
      "Epoch 10/20\n",
      "1370/1370 [==============================] - 2s 1ms/step - loss: 0.2102 - accuracy: 0.9190\n",
      "Epoch 11/20\n",
      "1370/1370 [==============================] - 2s 1ms/step - loss: 0.2084 - accuracy: 0.9194\n",
      "Epoch 12/20\n",
      "1370/1370 [==============================] - 2s 1ms/step - loss: 0.2069 - accuracy: 0.9208\n",
      "Epoch 13/20\n",
      "1370/1370 [==============================] - 2s 1ms/step - loss: 0.2054 - accuracy: 0.9211\n",
      "Epoch 14/20\n",
      "1370/1370 [==============================] - 2s 1ms/step - loss: 0.2041 - accuracy: 0.9214\n",
      "Epoch 15/20\n",
      "1370/1370 [==============================] - 2s 1ms/step - loss: 0.2028 - accuracy: 0.9220\n",
      "Epoch 16/20\n",
      "1370/1370 [==============================] - 2s 1ms/step - loss: 0.2020 - accuracy: 0.9221\n",
      "Epoch 17/20\n",
      "1370/1370 [==============================] - 2s 1ms/step - loss: 0.2010 - accuracy: 0.9224\n",
      "Epoch 18/20\n",
      "1370/1370 [==============================] - 2s 1ms/step - loss: 0.2003 - accuracy: 0.9227\n",
      "Epoch 19/20\n",
      "1370/1370 [==============================] - 2s 1ms/step - loss: 0.1993 - accuracy: 0.9236\n",
      "Epoch 20/20\n",
      "1370/1370 [==============================] - 2s 1ms/step - loss: 0.1984 - accuracy: 0.9236\n"
     ]
    },
    {
     "data": {
      "text/plain": [
       "<keras.src.callbacks.History at 0x1b530151190>"
      ]
     },
     "execution_count": 29,
     "metadata": {},
     "output_type": "execute_result"
    }
   ],
   "source": [
    "mlp.fit(x_train_squeezed, y_train, epochs=20, batch_size=128)\n"
   ]
  },
  {
   "cell_type": "code",
   "execution_count": 41,
   "metadata": {
    "colab": {
     "base_uri": "https://localhost:8080/"
    },
    "id": "XlRvkKXQXCaL",
    "outputId": "4daf6154-ceb2-46a4-d356-e5defd81400e"
   },
   "outputs": [
    {
     "name": "stdout",
     "output_type": "stream",
     "text": [
      "5480/5480 [==============================] - 5s 983us/step - loss: 0.1925 - accuracy: 0.9261\n",
      "Train Loss: 0.19250687956809998\n",
      "Train Accuracy: 0.9260583519935608\n"
     ]
    }
   ],
   "source": [
    "# Evaluate the model on the test data\n",
    "loss, accuracy = mlp.evaluate(x_train_squeezed, y_train)\n",
    "\n",
    "print(\"Train Loss:\", loss)\n",
    "print(\"Train Accuracy:\", accuracy)"
   ]
  },
  {
   "cell_type": "code",
   "execution_count": 42,
   "metadata": {},
   "outputs": [
    {
     "name": "stdout",
     "output_type": "stream",
     "text": [
      "2573/2573 [==============================] - 3s 985us/step - loss: 0.7078 - accuracy: 0.7249\n",
      "Test Loss: 0.7077764868736267\n",
      "Test Accuracy: 0.7248700261116028\n"
     ]
    }
   ],
   "source": [
    "# Evaluate the model on the test data\n",
    "loss, accuracy = mlp.evaluate(x_test_squeezed, y_test)\n",
    "\n",
    "print(\"Test Loss:\", loss)\n",
    "print(\"Test Accuracy:\", accuracy)"
   ]
  },
  {
   "cell_type": "code",
   "execution_count": 43,
   "metadata": {},
   "outputs": [
    {
     "name": "stdout",
     "output_type": "stream",
     "text": [
      "5480/5480 [==============================] - 5s 953us/step\n",
      "Confusion Matrix: [[ 45875  10125]\n",
      " [  2840 116501]]\n",
      "Precision: 0.9200401181431933\n",
      "Recall: 0.9762026461987079\n"
     ]
    }
   ],
   "source": [
    "from sklearn.metrics import precision_score, recall_score,confusion_matrix\n",
    "\n",
    "\n",
    "# Assuming you have the model's predictions stored in a variable called \"predictions\"\n",
    "# Replace this with your actual model predictions\n",
    "predictions = mlp.predict(x_train_squeezed)\n",
    "\n",
    "# Convert the predicted probabilities to binary predictions\n",
    "# Assuming a threshold of 0.5 for binary classification\n",
    "binary_predictions = (predictions > 0.5).astype(int)\n",
    "\n",
    "# Assuming you have the ground truth labels for the test data in a variable called \"y_test\"\n",
    "# Replace this with your actual ground truth labels\n",
    "# Assuming binary classification with 0 and 1 labels\n",
    "y_train_binary = (y_train > 0.5).astype(int)\n",
    "\n",
    "# Compute precision and recall\n",
    "precision = precision_score(y_train_binary, binary_predictions)\n",
    "recall = recall_score(y_train_binary, binary_predictions)\n",
    "conf_matrix = confusion_matrix(y_train_binary, binary_predictions)\n",
    "\n",
    "print(\"Confusion Matrix:\",conf_matrix)\n",
    "print(\"Precision:\", precision)\n",
    "print(\"Recall:\", recall)\n"
   ]
  },
  {
   "cell_type": "markdown",
   "metadata": {
    "id": "W_r-73DxYBCN"
   },
   "source": [
    "novelty"
   ]
  },
  {
   "cell_type": "code",
   "execution_count": 36,
   "metadata": {
    "colab": {
     "base_uri": "https://localhost:8080/",
     "height": 472
    },
    "id": "fVW7XpkZTJuz",
    "outputId": "43a91bc1-685a-422a-f1f2-982047fb6cba"
   },
   "outputs": [
    {
     "data": {
      "image/png": "[encoded data removed]",
      "text/plain": [
       "<Figure size 640x480 with 1 Axes>"
      ]
     },
     "metadata": {},
     "output_type": "display_data"
    }
   ],
   "source": [
    "import matplotlib.pyplot as plt\n",
    "\n",
    "# Assuming you have the model's history stored in a variable called \"history\"\n",
    "# Replace this with the actual history object returned from model.fit()\n",
    "plt.plot(history.history['accuracy'])\n",
    "plt.plot(history.history['val_accuracy'])\n",
    "plt.title('Model Accuracy')\n",
    "plt.xlabel('Epoch')\n",
    "plt.ylabel('Accuracy')\n",
    "plt.legend(['train', 'val'], loc='upper left')\n",
    "plt.show()"
   ]
  },
  {
   "cell_type": "code",
   "execution_count": 37,
   "metadata": {
    "colab": {
     "base_uri": "https://localhost:8080/"
    },
    "id": "1xV8H-w5GSiG",
    "outputId": "f6ff9b8a-ac52-42db-eb50-c381c27a673e"
   },
   "outputs": [
    {
     "name": "stdout",
     "output_type": "stream",
     "text": [
      "5480/5480 [==============================] - 4s 786us/step\n",
      "Confusion Matrix: [[ 45875  10125]\n",
      " [  2840 116501]]\n",
      "Precision: 0.9200401181431933\n",
      "Recall: 0.9762026461987079\n"
     ]
    }
   ],
   "source": [
    "from sklearn.metrics import precision_score, recall_score,confusion_matrix\n",
    "\n",
    "\n",
    "# Assuming you have the model's predictions stored in a variable called \"predictions\"\n",
    "# Replace this with your actual model predictions\n",
    "predictions = mlp.predict(x_train_squeezed)\n",
    "\n",
    "# Convert the predicted probabilities to binary predictions\n",
    "# Assuming a threshold of 0.5 for binary classification\n",
    "binary_predictions = (predictions > 0.5).astype(int)\n",
    "\n",
    "# Assuming you have the ground truth labels for the test data in a variable called \"y_test\"\n",
    "# Replace this with your actual ground truth labels\n",
    "# Assuming binary classification with 0 and 1 labels\n",
    "y_test_binary = (y_train > 0.5).astype(int)\n",
    "\n",
    "# Compute precision and recall\n",
    "precision = precision_score(y_test_binary, binary_predictions)\n",
    "recall = recall_score(y_test_binary, binary_predictions)\n",
    "conf_matrix = confusion_matrix(y_test_binary, binary_predictions)\n",
    "\n",
    "print(\"Confusion Matrix:\",conf_matrix)\n",
    "print(\"Precision:\", precision)\n",
    "print(\"Recall:\", recall)\n"
   ]
  },
  {
   "cell_type": "code",
   "execution_count": 38,
   "metadata": {
    "colab": {
     "base_uri": "https://localhost:8080/",
     "height": 564
    },
    "id": "D7J_44RbHYdR",
    "outputId": "13df79a9-0a62-46ab-fba7-b1cd71461836"
   },
   "outputs": [
    {
     "data": {
      "image/png": "[encoded data removed]",
      "text/plain": [
       "<Figure size 800x600 with 2 Axes>"
      ]
     },
     "metadata": {},
     "output_type": "display_data"
    }
   ],
   "source": [
    "import seaborn as sns\n",
    "\n",
    "# Assuming you have the confusion matrix stored in a variable called \"conf_matrix\"\n",
    "# Replace this with the actual confusion matrix calculated earlier\n",
    "plt.figure(figsize=(8, 6))\n",
    "sns.heatmap(conf_matrix, annot=True, cmap='Blues', fmt='d')\n",
    "plt.title('Confusion Matrix')\n",
    "plt.xlabel('Predicted')\n",
    "plt.ylabel('True')\n",
    "plt.show()"
   ]
  },
  {
   "cell_type": "code",
   "execution_count": 39,
   "metadata": {
    "colab": {
     "base_uri": "https://localhost:8080/"
    },
    "id": "pu-RB8BkHi5k",
    "outputId": "99c0ba44-6502-4187-8288-deb765577fbb"
   },
   "outputs": [
    {
     "name": "stdout",
     "output_type": "stream",
     "text": [
      "1/1 [==============================] - 0s 16ms/step\n",
      "Normal\n"
     ]
    }
   ],
   "source": [
    "import numpy as np\n",
    "\n",
    "# Assuming x_train_squeezed is a NumPy array\n",
    "x = x_train_squeezed[1, :]\n",
    "\n",
    "# Assuming x has shape (seq_length,) where seq_length is the number of time steps\n",
    "# Reshape x to have shape (1, seq_length) to match the input shape of the Dense layer\n",
    "x = x.reshape(1, -1)\n",
    "\n",
    "# Your remaining code goes here\n",
    "yp = mlp.predict(x)\n",
    "\n",
    "# Assuming the model output shape is (batch_size, num_classes)\n",
    "# Select the first five predictions and flatten them to a 1D array\n",
    "predictions = yp[0][:5]\n",
    "\n",
    "# Define the threshold for anomaly detection (you may need to tune this value)\n",
    "threshold = 1\n",
    "\n",
    "# Check if any of the first five predictions exceed the threshold\n",
    "if np.any(predictions >= threshold):\n",
    "    print(\"Intrusion Detected!\")\n",
    "else:\n",
    "    print(\"Normal\")\n"
   ]
  },
  {
   "cell_type": "markdown",
   "metadata": {
    "id": "oYTrj1-zNrfg"
   },
   "source": [
    "run this in think or lab since ram is crashing"
   ]
  }
 ],
 "metadata": {
  "colab": {
   "provenance": []
  },
  "kernelspec": {
   "display_name": "Python 3 (ipykernel)",
   "language": "python",
   "name": "python3"
  },
  "language_info": {
   "codemirror_mode": {
    "name": "ipython",
    "version": 3
   },
   "file_extension": ".py",
   "mimetype": "text/x-python",
   "name": "python",
   "nbconvert_exporter": "python",
   "pygments_lexer": "ipython3",
   "version": "3.11.4"
  }
 },
 "nbformat": 4,
 "nbformat_minor": 4
}

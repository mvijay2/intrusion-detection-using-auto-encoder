{
 "cells": [
  {
   "cell_type": "code",
   "execution_count": 1,
   "metadata": {
    "id": "3aUP5RL0eH7X"
   },
   "outputs": [],
   "source": [
    " import math\n",
    "import pandas as pd\n",
    "\n",
    "\n"
   ]
  },
  {
   "cell_type": "code",
   "execution_count": 2,
   "metadata": {
    "id": "Fhp6bNVHJZwN"
   },
   "outputs": [],
   "source": [
    "Test = pd.read_csv(r'C:\\Users\\lenovo\\Downloads\\UNSW_NB15_training-set.csv.zip')\n",
    "Train = pd.read_csv(r'C:\\Users\\lenovo\\Downloads\\UNSW_NB15_testing-set.csv.zip')"
   ]
  },
  {
   "cell_type": "code",
   "execution_count": 3,
   "metadata": {
    "colab": {
     "base_uri": "https://localhost:8080/"
    },
    "id": "MWICv_jXU9iK",
    "outputId": "e49fb136-78eb-4a86-e4ba-eb38a2f9bf67"
   },
   "outputs": [
    {
     "data": {
      "text/plain": [
       "{'Analysis',\n",
       " 'Backdoor',\n",
       " 'DoS',\n",
       " 'Exploits',\n",
       " 'Fuzzers',\n",
       " 'Generic',\n",
       " 'Normal',\n",
       " 'Reconnaissance',\n",
       " 'Shellcode',\n",
       " 'Worms'}"
      ]
     },
     "execution_count": 3,
     "metadata": {},
     "output_type": "execute_result"
    }
   ],
   "source": [
    "set(Train[\"attack_cat\"])"
   ]
  },
  {
   "cell_type": "code",
   "execution_count": 4,
   "metadata": {
    "colab": {
     "base_uri": "https://localhost:8080/"
    },
    "id": "keYLf1I4VJn3",
    "outputId": "a4feb174-d4bc-45e4-df40-74cc6f22f318"
   },
   "outputs": [
    {
     "data": {
      "text/plain": [
       "{0, 1}"
      ]
     },
     "execution_count": 4,
     "metadata": {},
     "output_type": "execute_result"
    }
   ],
   "source": [
    "set(Train[\"label\"])"
   ]
  },
  {
   "cell_type": "code",
   "execution_count": 5,
   "metadata": {
    "colab": {
     "base_uri": "https://localhost:8080/"
    },
    "id": "TXkSc35cWcrX",
    "outputId": "c3ae418b-4fe3-435e-e83a-8d4d0ea04b84"
   },
   "outputs": [
    {
     "name": "stdout",
     "output_type": "stream",
     "text": [
      "(175341, 44) (82332, 44)\n"
     ]
    }
   ],
   "source": [
    "Train=Train.drop(\"attack_cat\",axis=1)\n",
    "\n",
    "Test=Test.drop(\"attack_cat\",axis=1)\n",
    "\n",
    "print(Train.shape, Test.shape)"
   ]
  },
  {
   "cell_type": "code",
   "execution_count": 6,
   "metadata": {
    "colab": {
     "base_uri": "https://localhost:8080/"
    },
    "id": "t3wKzI8tJ7u-",
    "outputId": "92032ac5-9065-48e5-a09e-b2c044eb9af7"
   },
   "outputs": [
    {
     "name": "stdout",
     "output_type": "stream",
     "text": [
      "<class 'pandas.core.frame.DataFrame'>\n",
      "RangeIndex: 82332 entries, 0 to 82331\n",
      "Data columns (total 44 columns):\n",
      " #   Column             Non-Null Count  Dtype  \n",
      "---  ------             --------------  -----  \n",
      " 0   id                 82332 non-null  int64  \n",
      " 1   dur                82332 non-null  float64\n",
      " 2   proto              82332 non-null  object \n",
      " 3   service            82332 non-null  object \n",
      " 4   state              82332 non-null  object \n",
      " 5   spkts              82332 non-null  int64  \n",
      " 6   dpkts              82332 non-null  int64  \n",
      " 7   sbytes             82332 non-null  int64  \n",
      " 8   dbytes             82332 non-null  int64  \n",
      " 9   rate               82332 non-null  float64\n",
      " 10  sttl               82332 non-null  int64  \n",
      " 11  dttl               82332 non-null  int64  \n",
      " 12  sload              82332 non-null  float64\n",
      " 13  dload              82332 non-null  float64\n",
      " 14  sloss              82332 non-null  int64  \n",
      " 15  dloss              82332 non-null  int64  \n",
      " 16  sinpkt             82332 non-null  float64\n",
      " 17  dinpkt             82332 non-null  float64\n",
      " 18  sjit               82332 non-null  float64\n",
      " 19  djit               82332 non-null  float64\n",
      " 20  swin               82332 non-null  int64  \n",
      " 21  stcpb              82332 non-null  int64  \n",
      " 22  dtcpb              82332 non-null  int64  \n",
      " 23  dwin               82332 non-null  int64  \n",
      " 24  tcprtt             82332 non-null  float64\n",
      " 25  synack             82332 non-null  float64\n",
      " 26  ackdat             82332 non-null  float64\n",
      " 27  smean              82332 non-null  int64  \n",
      " 28  dmean              82332 non-null  int64  \n",
      " 29  trans_depth        82332 non-null  int64  \n",
      " 30  response_body_len  82332 non-null  int64  \n",
      " 31  ct_srv_src         82332 non-null  int64  \n",
      " 32  ct_state_ttl       82332 non-null  int64  \n",
      " 33  ct_dst_ltm         82332 non-null  int64  \n",
      " 34  ct_src_dport_ltm   82332 non-null  int64  \n",
      " 35  ct_dst_sport_ltm   82332 non-null  int64  \n",
      " 36  ct_dst_src_ltm     82332 non-null  int64  \n",
      " 37  is_ftp_login       82332 non-null  int64  \n",
      " 38  ct_ftp_cmd         82332 non-null  int64  \n",
      " 39  ct_flw_http_mthd   82332 non-null  int64  \n",
      " 40  ct_src_ltm         82332 non-null  int64  \n",
      " 41  ct_srv_dst         82332 non-null  int64  \n",
      " 42  is_sm_ips_ports    82332 non-null  int64  \n",
      " 43  label              82332 non-null  int64  \n",
      "dtypes: float64(11), int64(30), object(3)\n",
      "memory usage: 27.6+ MB\n"
     ]
    }
   ],
   "source": [
    "Test.info()"
   ]
  },
  {
   "cell_type": "code",
   "execution_count": 7,
   "metadata": {
    "colab": {
     "base_uri": "https://localhost:8080/"
    },
    "id": "nstRSROQxRDr",
    "outputId": "22a57446-57a9-4658-93de-6021f3ffa069"
   },
   "outputs": [
    {
     "name": "stdout",
     "output_type": "stream",
     "text": [
      "<class 'pandas.core.frame.DataFrame'>\n",
      "RangeIndex: 175341 entries, 0 to 175340\n",
      "Data columns (total 44 columns):\n",
      " #   Column             Non-Null Count   Dtype  \n",
      "---  ------             --------------   -----  \n",
      " 0   id                 175341 non-null  int64  \n",
      " 1   dur                175341 non-null  float64\n",
      " 2   proto              175341 non-null  object \n",
      " 3   service            175341 non-null  object \n",
      " 4   state              175341 non-null  object \n",
      " 5   spkts              175341 non-null  int64  \n",
      " 6   dpkts              175341 non-null  int64  \n",
      " 7   sbytes             175341 non-null  int64  \n",
      " 8   dbytes             175341 non-null  int64  \n",
      " 9   rate               175341 non-null  float64\n",
      " 10  sttl               175341 non-null  int64  \n",
      " 11  dttl               175341 non-null  int64  \n",
      " 12  sload              175341 non-null  float64\n",
      " 13  dload              175341 non-null  float64\n",
      " 14  sloss              175341 non-null  int64  \n",
      " 15  dloss              175341 non-null  int64  \n",
      " 16  sinpkt             175341 non-null  float64\n",
      " 17  dinpkt             175341 non-null  float64\n",
      " 18  sjit               175341 non-null  float64\n",
      " 19  djit               175341 non-null  float64\n",
      " 20  swin               175341 non-null  int64  \n",
      " 21  stcpb              175341 non-null  int64  \n",
      " 22  dtcpb              175341 non-null  int64  \n",
      " 23  dwin               175341 non-null  int64  \n",
      " 24  tcprtt             175341 non-null  float64\n",
      " 25  synack             175341 non-null  float64\n",
      " 26  ackdat             175341 non-null  float64\n",
      " 27  smean              175341 non-null  int64  \n",
      " 28  dmean              175341 non-null  int64  \n",
      " 29  trans_depth        175341 non-null  int64  \n",
      " 30  response_body_len  175341 non-null  int64  \n",
      " 31  ct_srv_src         175341 non-null  int64  \n",
      " 32  ct_state_ttl       175341 non-null  int64  \n",
      " 33  ct_dst_ltm         175341 non-null  int64  \n",
      " 34  ct_src_dport_ltm   175341 non-null  int64  \n",
      " 35  ct_dst_sport_ltm   175341 non-null  int64  \n",
      " 36  ct_dst_src_ltm     175341 non-null  int64  \n",
      " 37  is_ftp_login       175341 non-null  int64  \n",
      " 38  ct_ftp_cmd         175341 non-null  int64  \n",
      " 39  ct_flw_http_mthd   175341 non-null  int64  \n",
      " 40  ct_src_ltm         175341 non-null  int64  \n",
      " 41  ct_srv_dst         175341 non-null  int64  \n",
      " 42  is_sm_ips_ports    175341 non-null  int64  \n",
      " 43  label              175341 non-null  int64  \n",
      "dtypes: float64(11), int64(30), object(3)\n",
      "memory usage: 58.9+ MB\n"
     ]
    }
   ],
   "source": [
    "Train.info()"
   ]
  },
  {
   "cell_type": "code",
   "execution_count": 8,
   "metadata": {
    "colab": {
     "base_uri": "https://localhost:8080/",
     "height": 466
    },
    "id": "hEYs5cDHKjL_",
    "outputId": "4cbc4958-1721-472c-81c3-1e81bee1f02c"
   },
   "outputs": [
    {
     "data": {
      "text/plain": [
       "<Axes: xlabel='label', ylabel='count'>"
      ]
     },
     "execution_count": 8,
     "metadata": {},
     "output_type": "execute_result"
    },
    {
     "data": {
      "image/png": "[encoded data removed]",
      "text/plain": [
       "<Figure size 640x480 with 1 Axes>"
      ]
     },
     "metadata": {},
     "output_type": "display_data"
    }
   ],
   "source": [
    "\n",
    "import seaborn as sns\n",
    "sns.countplot(x=Train['label'])"
   ]
  },
  {
   "cell_type": "code",
   "execution_count": 9,
   "metadata": {
    "colab": {
     "base_uri": "https://localhost:8080/",
     "height": 466
    },
    "id": "QZx-jSbWKzzy",
    "outputId": "19bb7201-ef86-43d8-f3af-5d539abfdf22"
   },
   "outputs": [
    {
     "data": {
      "text/plain": [
       "<Axes: xlabel='label', ylabel='count'>"
      ]
     },
     "execution_count": 9,
     "metadata": {},
     "output_type": "execute_result"
    },
    {
     "data": {
      "image/png": "[encoded data removed]",
      "text/plain": [
       "<Figure size 640x480 with 1 Axes>"
      ]
     },
     "metadata": {},
     "output_type": "display_data"
    }
   ],
   "source": [
    "sns.countplot(x=Test['label'])"
   ]
  },
  {
   "cell_type": "code",
   "execution_count": 10,
   "metadata": {
    "colab": {
     "base_uri": "https://localhost:8080/"
    },
    "id": "-nDqQzhhVYyI",
    "outputId": "fbf04f9d-9c7f-4137-db9d-73231215d8e3"
   },
   "outputs": [
    {
     "data": {
      "text/plain": [
       "{'3pc',\n",
       " 'a/n',\n",
       " 'aes-sp3-d',\n",
       " 'any',\n",
       " 'argus',\n",
       " 'aris',\n",
       " 'arp',\n",
       " 'ax.25',\n",
       " 'bbn-rcc',\n",
       " 'bna',\n",
       " 'br-sat-mon',\n",
       " 'cbt',\n",
       " 'cftp',\n",
       " 'chaos',\n",
       " 'compaq-peer',\n",
       " 'cphb',\n",
       " 'cpnx',\n",
       " 'crtp',\n",
       " 'crudp',\n",
       " 'dcn',\n",
       " 'ddp',\n",
       " 'ddx',\n",
       " 'dgp',\n",
       " 'egp',\n",
       " 'eigrp',\n",
       " 'emcon',\n",
       " 'encap',\n",
       " 'etherip',\n",
       " 'fc',\n",
       " 'fire',\n",
       " 'ggp',\n",
       " 'gmtp',\n",
       " 'gre',\n",
       " 'hmp',\n",
       " 'i-nlsp',\n",
       " 'iatp',\n",
       " 'ib',\n",
       " 'icmp',\n",
       " 'idpr',\n",
       " 'idpr-cmtp',\n",
       " 'idrp',\n",
       " 'ifmp',\n",
       " 'igmp',\n",
       " 'igp',\n",
       " 'il',\n",
       " 'ip',\n",
       " 'ipcomp',\n",
       " 'ipcv',\n",
       " 'ipip',\n",
       " 'iplt',\n",
       " 'ipnip',\n",
       " 'ippc',\n",
       " 'ipv6',\n",
       " 'ipv6-frag',\n",
       " 'ipv6-no',\n",
       " 'ipv6-opts',\n",
       " 'ipv6-route',\n",
       " 'ipx-n-ip',\n",
       " 'irtp',\n",
       " 'isis',\n",
       " 'iso-ip',\n",
       " 'iso-tp4',\n",
       " 'kryptolan',\n",
       " 'l2tp',\n",
       " 'larp',\n",
       " 'leaf-1',\n",
       " 'leaf-2',\n",
       " 'merit-inp',\n",
       " 'mfe-nsp',\n",
       " 'mhrp',\n",
       " 'micp',\n",
       " 'mobile',\n",
       " 'mtp',\n",
       " 'mux',\n",
       " 'narp',\n",
       " 'netblt',\n",
       " 'nsfnet-igp',\n",
       " 'nvp',\n",
       " 'ospf',\n",
       " 'pgm',\n",
       " 'pim',\n",
       " 'pipe',\n",
       " 'pnni',\n",
       " 'pri-enc',\n",
       " 'prm',\n",
       " 'ptp',\n",
       " 'pup',\n",
       " 'pvp',\n",
       " 'qnx',\n",
       " 'rdp',\n",
       " 'rsvp',\n",
       " 'rtp',\n",
       " 'rvd',\n",
       " 'sat-expak',\n",
       " 'sat-mon',\n",
       " 'sccopmce',\n",
       " 'scps',\n",
       " 'sctp',\n",
       " 'sdrp',\n",
       " 'secure-vmtp',\n",
       " 'sep',\n",
       " 'skip',\n",
       " 'sm',\n",
       " 'smp',\n",
       " 'snp',\n",
       " 'sprite-rpc',\n",
       " 'sps',\n",
       " 'srp',\n",
       " 'st2',\n",
       " 'stp',\n",
       " 'sun-nd',\n",
       " 'swipe',\n",
       " 'tcf',\n",
       " 'tcp',\n",
       " 'tlsp',\n",
       " 'tp++',\n",
       " 'trunk-1',\n",
       " 'trunk-2',\n",
       " 'ttp',\n",
       " 'udp',\n",
       " 'unas',\n",
       " 'uti',\n",
       " 'vines',\n",
       " 'visa',\n",
       " 'vmtp',\n",
       " 'vrrp',\n",
       " 'wb-expak',\n",
       " 'wb-mon',\n",
       " 'wsn',\n",
       " 'xnet',\n",
       " 'xns-idp',\n",
       " 'xtp',\n",
       " 'zero'}"
      ]
     },
     "execution_count": 10,
     "metadata": {},
     "output_type": "execute_result"
    }
   ],
   "source": [
    "set(Train['proto'])"
   ]
  },
  {
   "cell_type": "code",
   "execution_count": 11,
   "metadata": {
    "id": "oZpjl_wLV_f2"
   },
   "outputs": [],
   "source": [
    "import pandas as pd\n",
    "\n",
    "# Assuming you have a DataFrame called 'df' with columns 'proto', 'service', and 'state'\n",
    "from sklearn.preprocessing import LabelEncoder\n",
    "\n",
    "label_encoder = LabelEncoder()\n",
    "\n",
    "# Apply label encoding to 'proto' column\n",
    "Train['proto_e'] = label_encoder.fit_transform(Train['proto'])\n",
    "\n",
    "# Apply label encoding to 'service' column\n",
    "Train['service_e'] = label_encoder.fit_transform(Train['service'])\n",
    "\n",
    "# Apply label encoding to 'state' column\n",
    "Train['state_e'] = label_encoder.fit_transform(Train['state'])\n",
    "\n",
    "# Drop the original columns\n",
    "Train.drop(columns=['proto', 'service', 'state'], inplace=True)"
   ]
  },
  {
   "cell_type": "code",
   "execution_count": 12,
   "metadata": {
    "id": "OaVwAB8ZWhPy"
   },
   "outputs": [],
   "source": [
    "\n",
    "import pandas as pd\n",
    "\n",
    "# Assuming you have a DataFrame called 'df' with columns 'proto', 'service', and 'state'\n",
    "from sklearn.preprocessing import LabelEncoder\n",
    "\n",
    "label_encoder = LabelEncoder()\n",
    "\n",
    "# Apply label encoding to 'proto' column\n",
    "Test['proto_e'] = label_encoder.fit_transform(Test['proto'])\n",
    "\n",
    "# Apply label encoding to 'service' column\n",
    "Test['service_e'] = label_encoder.fit_transform(Test['service'])\n",
    "\n",
    "# Apply label encoding to 'state' column\n",
    "Test['state_e'] = label_encoder.fit_transform(Test['state'])\n",
    "# Drop the original columns\n",
    "Test.drop(columns=['proto', 'service', 'state'], inplace=True)"
   ]
  },
  {
   "cell_type": "code",
   "execution_count": 13,
   "metadata": {
    "colab": {
     "base_uri": "https://localhost:8080/"
    },
    "id": "2OBV8IY7Wpjj",
    "outputId": "f6f5ca9d-0afb-401a-a154-6a3cd5ab8fb3"
   },
   "outputs": [
    {
     "name": "stdout",
     "output_type": "stream",
     "text": [
      "<class 'pandas.core.frame.DataFrame'>\n",
      "RangeIndex: 175341 entries, 0 to 175340\n",
      "Data columns (total 44 columns):\n",
      " #   Column             Non-Null Count   Dtype  \n",
      "---  ------             --------------   -----  \n",
      " 0   id                 175341 non-null  int64  \n",
      " 1   dur                175341 non-null  float64\n",
      " 2   spkts              175341 non-null  int64  \n",
      " 3   dpkts              175341 non-null  int64  \n",
      " 4   sbytes             175341 non-null  int64  \n",
      " 5   dbytes             175341 non-null  int64  \n",
      " 6   rate               175341 non-null  float64\n",
      " 7   sttl               175341 non-null  int64  \n",
      " 8   dttl               175341 non-null  int64  \n",
      " 9   sload              175341 non-null  float64\n",
      " 10  dload              175341 non-null  float64\n",
      " 11  sloss              175341 non-null  int64  \n",
      " 12  dloss              175341 non-null  int64  \n",
      " 13  sinpkt             175341 non-null  float64\n",
      " 14  dinpkt             175341 non-null  float64\n",
      " 15  sjit               175341 non-null  float64\n",
      " 16  djit               175341 non-null  float64\n",
      " 17  swin               175341 non-null  int64  \n",
      " 18  stcpb              175341 non-null  int64  \n",
      " 19  dtcpb              175341 non-null  int64  \n",
      " 20  dwin               175341 non-null  int64  \n",
      " 21  tcprtt             175341 non-null  float64\n",
      " 22  synack             175341 non-null  float64\n",
      " 23  ackdat             175341 non-null  float64\n",
      " 24  smean              175341 non-null  int64  \n",
      " 25  dmean              175341 non-null  int64  \n",
      " 26  trans_depth        175341 non-null  int64  \n",
      " 27  response_body_len  175341 non-null  int64  \n",
      " 28  ct_srv_src         175341 non-null  int64  \n",
      " 29  ct_state_ttl       175341 non-null  int64  \n",
      " 30  ct_dst_ltm         175341 non-null  int64  \n",
      " 31  ct_src_dport_ltm   175341 non-null  int64  \n",
      " 32  ct_dst_sport_ltm   175341 non-null  int64  \n",
      " 33  ct_dst_src_ltm     175341 non-null  int64  \n",
      " 34  is_ftp_login       175341 non-null  int64  \n",
      " 35  ct_ftp_cmd         175341 non-null  int64  \n",
      " 36  ct_flw_http_mthd   175341 non-null  int64  \n",
      " 37  ct_src_ltm         175341 non-null  int64  \n",
      " 38  ct_srv_dst         175341 non-null  int64  \n",
      " 39  is_sm_ips_ports    175341 non-null  int64  \n",
      " 40  label              175341 non-null  int64  \n",
      " 41  proto_e            175341 non-null  int32  \n",
      " 42  service_e          175341 non-null  int32  \n",
      " 43  state_e            175341 non-null  int32  \n",
      "dtypes: float64(11), int32(3), int64(30)\n",
      "memory usage: 56.9 MB\n"
     ]
    }
   ],
   "source": [
    "Train.info()"
   ]
  },
  {
   "cell_type": "code",
   "execution_count": 14,
   "metadata": {
    "colab": {
     "base_uri": "https://localhost:8080/"
    },
    "id": "C4ZbINI1Wxhf",
    "outputId": "af2e164b-d055-4003-8f01-695011fd8233"
   },
   "outputs": [
    {
     "name": "stdout",
     "output_type": "stream",
     "text": [
      "<class 'pandas.core.frame.DataFrame'>\n",
      "RangeIndex: 82332 entries, 0 to 82331\n",
      "Data columns (total 44 columns):\n",
      " #   Column             Non-Null Count  Dtype  \n",
      "---  ------             --------------  -----  \n",
      " 0   id                 82332 non-null  int64  \n",
      " 1   dur                82332 non-null  float64\n",
      " 2   spkts              82332 non-null  int64  \n",
      " 3   dpkts              82332 non-null  int64  \n",
      " 4   sbytes             82332 non-null  int64  \n",
      " 5   dbytes             82332 non-null  int64  \n",
      " 6   rate               82332 non-null  float64\n",
      " 7   sttl               82332 non-null  int64  \n",
      " 8   dttl               82332 non-null  int64  \n",
      " 9   sload              82332 non-null  float64\n",
      " 10  dload              82332 non-null  float64\n",
      " 11  sloss              82332 non-null  int64  \n",
      " 12  dloss              82332 non-null  int64  \n",
      " 13  sinpkt             82332 non-null  float64\n",
      " 14  dinpkt             82332 non-null  float64\n",
      " 15  sjit               82332 non-null  float64\n",
      " 16  djit               82332 non-null  float64\n",
      " 17  swin               82332 non-null  int64  \n",
      " 18  stcpb              82332 non-null  int64  \n",
      " 19  dtcpb              82332 non-null  int64  \n",
      " 20  dwin               82332 non-null  int64  \n",
      " 21  tcprtt             82332 non-null  float64\n",
      " 22  synack             82332 non-null  float64\n",
      " 23  ackdat             82332 non-null  float64\n",
      " 24  smean              82332 non-null  int64  \n",
      " 25  dmean              82332 non-null  int64  \n",
      " 26  trans_depth        82332 non-null  int64  \n",
      " 27  response_body_len  82332 non-null  int64  \n",
      " 28  ct_srv_src         82332 non-null  int64  \n",
      " 29  ct_state_ttl       82332 non-null  int64  \n",
      " 30  ct_dst_ltm         82332 non-null  int64  \n",
      " 31  ct_src_dport_ltm   82332 non-null  int64  \n",
      " 32  ct_dst_sport_ltm   82332 non-null  int64  \n",
      " 33  ct_dst_src_ltm     82332 non-null  int64  \n",
      " 34  is_ftp_login       82332 non-null  int64  \n",
      " 35  ct_ftp_cmd         82332 non-null  int64  \n",
      " 36  ct_flw_http_mthd   82332 non-null  int64  \n",
      " 37  ct_src_ltm         82332 non-null  int64  \n",
      " 38  ct_srv_dst         82332 non-null  int64  \n",
      " 39  is_sm_ips_ports    82332 non-null  int64  \n",
      " 40  label              82332 non-null  int64  \n",
      " 41  proto_e            82332 non-null  int32  \n",
      " 42  service_e          82332 non-null  int32  \n",
      " 43  state_e            82332 non-null  int32  \n",
      "dtypes: float64(11), int32(3), int64(30)\n",
      "memory usage: 26.7 MB\n"
     ]
    }
   ],
   "source": [
    "Test.info()"
   ]
  },
  {
   "cell_type": "code",
   "execution_count": 15,
   "metadata": {
    "id": "mcjiG_SVW1xp"
   },
   "outputs": [],
   "source": [
    "x_train=Train.drop(['label'],axis=1)\n",
    "y_train=Train['label']"
   ]
  },
  {
   "cell_type": "code",
   "execution_count": 16,
   "metadata": {
    "id": "lPBCnMx5YVaT"
   },
   "outputs": [],
   "source": [
    "x_test=Test.drop(['label'],axis=1)\n",
    "y_test=Test['label']"
   ]
  },
  {
   "cell_type": "code",
   "execution_count": 17,
   "metadata": {
    "colab": {
     "base_uri": "https://localhost:8080/"
    },
    "id": "o8xyEC0ZufFT",
    "outputId": "015f7fdb-c0f4-44fd-9029-fee3ddc66fe9"
   },
   "outputs": [
    {
     "data": {
      "text/plain": [
       "(82332, 43)"
      ]
     },
     "execution_count": 17,
     "metadata": {},
     "output_type": "execute_result"
    }
   ],
   "source": [
    "x_test.shape"
   ]
  },
  {
   "cell_type": "code",
   "execution_count": 18,
   "metadata": {
    "colab": {
     "base_uri": "https://localhost:8080/"
    },
    "id": "oujVCydCXO8l",
    "outputId": "c1206676-80b0-45e1-f1ac-3f4ff2462e44"
   },
   "outputs": [
    {
     "data": {
      "text/plain": [
       "0         0\n",
       "1         0\n",
       "2         0\n",
       "3         0\n",
       "4         0\n",
       "         ..\n",
       "175336    1\n",
       "175337    1\n",
       "175338    1\n",
       "175339    1\n",
       "175340    1\n",
       "Name: label, Length: 175341, dtype: int64"
      ]
     },
     "execution_count": 18,
     "metadata": {},
     "output_type": "execute_result"
    }
   ],
   "source": [
    "y_train"
   ]
  },
  {
   "cell_type": "code",
   "execution_count": 19,
   "metadata": {
    "colab": {
     "base_uri": "https://localhost:8080/"
    },
    "id": "4bP6B9Xauh7x",
    "outputId": "b73d179f-9e0a-458a-f5d5-8f343a6951c0"
   },
   "outputs": [
    {
     "name": "stdout",
     "output_type": "stream",
     "text": [
      "[[-1.73204093 -0.19102881 -0.10445581 ...  0.15180939 -0.70230738\n",
      "  -0.40921807]\n",
      " [-1.73202117 -0.10948479 -0.04601353 ...  0.15180939 -0.70230738\n",
      "  -0.40921807]\n",
      " [-1.73200142  0.04069922 -0.08984524 ...  0.15180939 -0.70230738\n",
      "  -0.40921807]\n",
      " ...\n",
      " [ 1.73200142 -0.20977336 -0.13367695 ...  0.42023529  0.16531734\n",
      "   0.7429361 ]\n",
      " [ 1.73202117 -0.20977336 -0.13367695 ...  0.42023529  0.16531734\n",
      "   0.7429361 ]\n",
      " [ 1.73204093 -0.20977336 -0.13367695 ...  0.42023529  0.16531734\n",
      "   0.7429361 ]]\n"
     ]
    }
   ],
   "source": [
    "# importing required libraries for normalizing data\n",
    "from sklearn import preprocessing\n",
    "from sklearn.preprocessing import StandardScaler\n",
    "\n",
    "# define min max scaler\n",
    "sc = StandardScaler()\n",
    "x_train=sc.fit_transform(x_train)\n",
    "x_test=sc.fit_transform(x_test)\n",
    "\n",
    "print(x_train)"
   ]
  },
  {
   "cell_type": "code",
   "execution_count": 20,
   "metadata": {
    "colab": {
     "base_uri": "https://localhost:8080/"
    },
    "id": "sFkbJ_6gvgcr",
    "outputId": "ccb76b64-c0e3-488a-bd36-5fb837f63a17"
   },
   "outputs": [
    {
     "name": "stdout",
     "output_type": "stream",
     "text": [
      "(175341, 43) (82332, 43) (175341,) (82332,)\n"
     ]
    }
   ],
   "source": [
    "print(x_train.shape, x_test.shape, y_train.shape, y_test.shape)"
   ]
  },
  {
   "cell_type": "code",
   "execution_count": 21,
   "metadata": {
    "id": "Cb6AY42tedZC"
   },
   "outputs": [],
   "source": [
    "import numpy as np\n",
    "x_train=np.concatenate((x_train, x_test))\n",
    "y_train=np.concatenate((y_train, y_test))"
   ]
  },
  {
   "cell_type": "markdown",
   "metadata": {
    "id": "dBQDkQGqXJHx"
   },
   "source": [
    "since the encoder model uses dilated convo layers which requires in 3D shape of input data to fit the model or train the model ,or else 2D enough. To do so below steps requires."
   ]
  },
  {
   "cell_type": "code",
   "execution_count": 22,
   "metadata": {
    "colab": {
     "base_uri": "https://localhost:8080/"
    },
    "id": "hRpd4kIYfGOh",
    "outputId": "0087a3b2-34a7-485f-8e5e-a73cdeb42bb4"
   },
   "outputs": [
    {
     "data": {
      "text/plain": [
       "(257673, 43)"
      ]
     },
     "execution_count": 22,
     "metadata": {},
     "output_type": "execute_result"
    }
   ],
   "source": [
    "x_train.shape"
   ]
  },
  {
   "cell_type": "code",
   "execution_count": 23,
   "metadata": {
    "id": "PtkeB53vAsn1"
   },
   "outputs": [],
   "source": [
    "from tensorflow.keras.layers import Input, Conv2D, GlobalAveragePooling2D, Dense, Softmax, Reshape, Multiply, Add, Concatenate, Flatten"
   ]
  },
  {
   "cell_type": "code",
   "execution_count": 24,
   "metadata": {
    "colab": {
     "base_uri": "https://localhost:8080/"
    },
    "id": "Up0KclnysGhG",
    "outputId": "ee8832b3-2a7f-4c95-ac0b-eb7ee980da24"
   },
   "outputs": [
    {
     "name": "stdout",
     "output_type": "stream",
     "text": [
      "Model: \"model\"\n",
      "__________________________________________________________________________________________________\n",
      " Layer (type)                Output Shape                 Param #   Connected to                  \n",
      "==================================================================================================\n",
      " input_1 (InputLayer)        [(None, 257673, 43, 1)]      0         []                            \n",
      "                                                                                                  \n",
      " conv2d_3 (Conv2D)           (None, 257673, 43, 128)      1280      ['input_1[0][0]']             \n",
      "                                                                                                  \n",
      " conv2d (Conv2D)             (None, 257673, 43, 128)      1280      ['input_1[0][0]']             \n",
      "                                                                                                  \n",
      " conv2d_4 (Conv2D)           (None, 257673, 43, 64)       73792     ['conv2d_3[0][0]']            \n",
      "                                                                                                  \n",
      " conv2d_1 (Conv2D)           (None, 257673, 43, 64)       73792     ['conv2d[0][0]']              \n",
      "                                                                                                  \n",
      " conv2d_5 (Conv2D)           (None, 257673, 43, 32)       18464     ['conv2d_4[0][0]']            \n",
      "                                                                                                  \n",
      " conv2d_2 (Conv2D)           (None, 257673, 43, 32)       18464     ['conv2d_1[0][0]']            \n",
      "                                                                                                  \n",
      " positional_self_attention   (None, 32)                   3168      ['conv2d_5[0][0]']            \n",
      " (PositionalSelfAttention)                                                                        \n",
      "                                                                                                  \n",
      " channel_attention (Channel  (None, 257673, 43, 32)       33        ['conv2d_2[0][0]']            \n",
      " Attention)                                                                                       \n",
      "                                                                                                  \n",
      " tf.math.add (TFOpLambda)    (None, 257673, 43, 32)       0         ['positional_self_attention[0]\n",
      "                                                                    [0]',                         \n",
      "                                                                     'channel_attention[0][0]']   \n",
      "                                                                                                  \n",
      "==================================================================================================\n",
      "Total params: 190273 (743.25 KB)\n",
      "Trainable params: 190273 (743.25 KB)\n",
      "Non-trainable params: 0 (0.00 Byte)\n",
      "__________________________________________________________________________________________________\n",
      "Model: \"model_1\"\n",
      "_________________________________________________________________\n",
      " Layer (type)                Output Shape              Param #   \n",
      "=================================================================\n",
      " input_1 (InputLayer)        [(None, 257673, 43, 1)]   0         \n",
      "                                                                 \n",
      " model (Functional)          (None, 257673, 43, 32)    190273    \n",
      "                                                                 \n",
      " conv2d_transpose (Conv2DTr  (None, 257673, 43, 32)    9248      \n",
      " anspose)                                                        \n",
      "                                                                 \n",
      " conv2d_transpose_1 (Conv2D  (None, 257673, 43, 64)    18496     \n",
      " Transpose)                                                      \n",
      "                                                                 \n",
      " conv2d_transpose_2 (Conv2D  (None, 257673, 43, 128)   73856     \n",
      " Transpose)                                                      \n",
      "                                                                 \n",
      " conv2d_transpose_3 (Conv2D  (None, 257673, 43, 256)   295168    \n",
      " Transpose)                                                      \n",
      "                                                                 \n",
      " conv2d_transpose_4 (Conv2D  (None, 257673, 43, 128)   295040    \n",
      " Transpose)                                                      \n",
      "                                                                 \n",
      " conv2d_transpose_5 (Conv2D  (None, 257673, 43, 64)    73792     \n",
      " Transpose)                                                      \n",
      "                                                                 \n",
      " conv2d_transpose_6 (Conv2D  (None, 257673, 43, 32)    18464     \n",
      " Transpose)                                                      \n",
      "                                                                 \n",
      " conv2d_transpose_7 (Conv2D  (None, 257673, 43, 1)     289       \n",
      " Transpose)                                                      \n",
      "                                                                 \n",
      "=================================================================\n",
      "Total params: 974626 (3.72 MB)\n",
      "Trainable params: 974626 (3.72 MB)\n",
      "Non-trainable params: 0 (0.00 Byte)\n",
      "_________________________________________________________________\n",
      "Model: \"model_2\"\n",
      "_________________________________________________________________\n",
      " Layer (type)                Output Shape              Param #   \n",
      "=================================================================\n",
      " input_1 (InputLayer)        [(None, 257673, 43, 1)]   0         \n",
      "                                                                 \n",
      " model (Functional)          (None, 257673, 43, 32)    190273    \n",
      "                                                                 \n",
      " conv2d_transpose (Conv2DTr  (None, 257673, 43, 32)    9248      \n",
      " anspose)                                                        \n",
      "                                                                 \n",
      " conv2d_transpose_1 (Conv2D  (None, 257673, 43, 64)    18496     \n",
      " Transpose)                                                      \n",
      "                                                                 \n",
      " conv2d_transpose_2 (Conv2D  (None, 257673, 43, 128)   73856     \n",
      " Transpose)                                                      \n",
      "                                                                 \n",
      " conv2d_transpose_3 (Conv2D  (None, 257673, 43, 256)   295168    \n",
      " Transpose)                                                      \n",
      "                                                                 \n",
      " conv2d_transpose_4 (Conv2D  (None, 257673, 43, 128)   295040    \n",
      " Transpose)                                                      \n",
      "                                                                 \n",
      " conv2d_transpose_5 (Conv2D  (None, 257673, 43, 64)    73792     \n",
      " Transpose)                                                      \n",
      "                                                                 \n",
      " conv2d_transpose_6 (Conv2D  (None, 257673, 43, 32)    18464     \n",
      " Transpose)                                                      \n",
      "                                                                 \n",
      " conv2d_transpose_7 (Conv2D  (None, 257673, 43, 1)     289       \n",
      " Transpose)                                                      \n",
      "                                                                 \n",
      "=================================================================\n",
      "Total params: 974626 (3.72 MB)\n",
      "Trainable params: 974626 (3.72 MB)\n",
      "Non-trainable params: 0 (0.00 Byte)\n",
      "_________________________________________________________________\n"
     ]
    }
   ],
   "source": [
    "import tensorflow as tf\n",
    "from tensorflow.keras.layers import Input, Conv2D, GlobalAveragePooling2D, Dense, Softmax, Reshape, Multiply, Add, Concatenate, Flatten\n",
    "from tensorflow.keras.models import Model\n",
    "\n",
    "num_samples, num_features = x_train.shape\n",
    "\n",
    "inp = Input(shape=(num_samples,num_features, 1))  # Adjust input shape for Conv2D\n",
    "\n",
    "class ChannelAttention(tf.keras.layers.Layer):\n",
    "    def __init__(self, reduction=16):\n",
    "        super(ChannelAttention, self).__init__()\n",
    "        self.reduction = reduction\n",
    "        self.avg_pool = GlobalAveragePooling2D(data_format='channels_last')  # Update data format\n",
    "        self.fc = Dense(1, activation='relu')  # Use 1 output unit for channel attention\n",
    "        self.sigmoid = tf.keras.layers.Activation('sigmoid')\n",
    "\n",
    "    def call(self, x):\n",
    "        y = self.avg_pool(x)\n",
    "        y = self.fc(y)\n",
    "        y = self.sigmoid(y)\n",
    "        y = tf.expand_dims(y, axis=1)  # Add an axis for channels (updated axis=1)\n",
    "        y = tf.expand_dims(y, axis=1)  # Add another axis for broadcasting\n",
    "        return x * y\n",
    "\n",
    "\n",
    "\n",
    "# Define Positional Self-Attention module\n",
    "class PositionalSelfAttention(tf.keras.layers.Layer):\n",
    "    def __init__(self, d_model, num_heads):\n",
    "        super(PositionalSelfAttention, self).__init__()\n",
    "        self.d_model = d_model\n",
    "        self.num_heads = num_heads\n",
    "        self.head_dim = d_model // num_heads\n",
    "\n",
    "    def build(self, input_shape):\n",
    "        self.query = tf.keras.layers.Dense(self.d_model)\n",
    "        self.key = tf.keras.layers.Dense(self.d_model)\n",
    "        self.value = tf.keras.layers.Dense(self.d_model)\n",
    "\n",
    "    def call(self, inputs):\n",
    "        # Split the input into query, key, and value\n",
    "        query = self.query(inputs)\n",
    "        key = self.key(inputs)\n",
    "        value = self.value(inputs)\n",
    "\n",
    "        # Reshape query, key, and value for multi-head attention\n",
    "        query = tf.reshape(query, [-1, self.num_heads, self.head_dim])\n",
    "        key = tf.reshape(key, [-1, self.num_heads, self.head_dim])\n",
    "        value = tf.reshape(value, [-1, self.num_heads, self.head_dim])\n",
    "\n",
    "        # Compute attention scores\n",
    "        scores = tf.matmul(query, key, transpose_b=True)\n",
    "        scores = scores / tf.math.sqrt(tf.cast(self.head_dim, tf.float32))\n",
    "\n",
    "        # Apply softmax activation to get attention probabilities\n",
    "        attention_probs = tf.nn.softmax(scores, axis=-1)\n",
    "\n",
    "        # Compute attention-weighted sum of value vectors\n",
    "        attention_output = tf.matmul(attention_probs, value)\n",
    "        attention_output = tf.reshape(attention_output, [-1, self.d_model])\n",
    "\n",
    "        return attention_output\n",
    "\n",
    "# Long-Range Feature Extractor with Dilated Convolution\n",
    "long_range_feature_extractor_dilated = Conv2D(filters=128, kernel_size=(3, 3), padding='same', dilation_rate=3, activation='relu')(inp)\n",
    "long_range_feature_extractor_dilated = Conv2D(filters=64, kernel_size=(3, 3), padding='same', dilation_rate=3, activation='relu')(long_range_feature_extractor_dilated)\n",
    "long_range_feature_extractor_dilated = Conv2D(filters=32, kernel_size=(3, 3), padding='same', dilation_rate=3, activation='relu')(long_range_feature_extractor_dilated)\n",
    "long_range_feature_extractor_dilated = ChannelAttention(32)(long_range_feature_extractor_dilated)\n",
    "\n",
    "\n",
    "# Local Feature Extractor with Standard Convolution\n",
    "local_feature_extractor_standard = Conv2D(filters=128, kernel_size=(3, 3), padding='same', activation='relu')(inp)\n",
    "local_feature_extractor_standard = Conv2D(filters=64, kernel_size=(3, 3), padding='same', activation='relu')(local_feature_extractor_standard)\n",
    "local_feature_extractor_standard = Conv2D(filters=32, kernel_size=(3, 3), padding='same', activation='relu')(local_feature_extractor_standard)\n",
    "local_feature_extractor_standard = PositionalSelfAttention(32, num_heads=4)(local_feature_extractor_standard)\n",
    "\n",
    "x1_reshaped = tf.reshape(long_range_feature_extractor_dilated, [-1,num_samples,32])\n",
    "x2_reshaped = tf.reshape(local_feature_extractor_standard, [-1,num_samples,32])\n",
    "\n",
    "\n",
    "# Concatenate features from both extractors\n",
    "encoded_output1 = tf.add(local_feature_extractor_standard, long_range_feature_extractor_dilated)\n",
    "\n",
    "\n",
    "\n",
    "# Create the encoder model for decoder\n",
    "encoder_d = Model(inp, encoded_output1)\n",
    "\n",
    "# Print the summary of the encoder\n",
    "encoder_d.summary()\n",
    "\n",
    "from tensorflow.keras.layers import Conv2DTranspose, Reshape\n",
    "\n",
    "encoder_output = encoder_d(inp)\n",
    "# Reshape the encoder output to match the desired decoder input shape\n",
    "#reshaped_encoder_output = Reshape((num_samples, num_features, 32, 1))(encoder_output)\n",
    "\n",
    "# Define the decoder architecture\n",
    "def create_decoder(encoder_output):\n",
    "    # Decoder 1\n",
    "    x = Conv2DTranspose(filters=32, kernel_size=(3, 3), padding='same', activation='relu')(encoder_output)\n",
    "    # Add more decoder layers as needed\n",
    "    x = Conv2DTranspose(filters=64, kernel_size=(3, 3), padding='same', activation='relu')(x)\n",
    "    x = Conv2DTranspose(filters=128, kernel_size=(3, 3), padding='same', activation='relu')(x)\n",
    "    x = Conv2DTranspose(filters=256, kernel_size=(3, 3), padding='same', activation='relu')(x)\n",
    "    x = Conv2DTranspose(filters=128, kernel_size=(3, 3), padding='same', activation='relu')(x)\n",
    "    x = Conv2DTranspose(filters=64, kernel_size=(3, 3), padding='same', activation='relu')(x)\n",
    "    x = Conv2DTranspose(filters=32, kernel_size=(3, 3), padding='same', activation='relu')(x)\n",
    "    # Final layer\n",
    "    decoded_output = Conv2DTranspose(filters=1, kernel_size=(3, 3), padding='same', activation='sigmoid')(x)\n",
    "    return decoded_output\n",
    "\n",
    "decoder_output = create_decoder(encoder_output)\n",
    "\n",
    "decoder = Model(inputs=inp, outputs=decoder_output)\n",
    "\n",
    "# Print the summary of the decoder\n",
    "decoder.summary()\n",
    "# Create the autoencoder model\n",
    "autoencoder_model = Model(inputs=inp, outputs=decoder_output)\n",
    "\n",
    "# Compile the autoencoder\n",
    "autoencoder_model.compile(optimizer='adam', loss='mean_squared_error')\n",
    "\n",
    "# Print the summary of the autoencoder\n",
    "autoencoder_model.summary()\n",
    "\n",
    "#ram crashing so no need as the model is done with encoder part only\n",
    "# Reshape x_train to match the input shape of the autoencoder\n",
    "#x_train_reshaped = x_train.reshape((-1, num_samples, num_features, 1))\n",
    "\n",
    "# Fit the autoencoder to the x_train data\n",
    "#autoencoder_model.fit(x_train_reshaped, x_train_reshaped, batch_size=32, epochs=10)\n",
    "\n"
   ]
  },
  {
   "cell_type": "markdown",
   "metadata": {
    "id": "S_GC3s6iPOgk"
   },
   "source": [
    "run this in think since it is crashing the ram"
   ]
  },
  {
   "cell_type": "code",
   "execution_count": 25,
   "metadata": {
    "colab": {
     "base_uri": "https://localhost:8080/"
    },
    "id": "MMjiZtadPVBR",
    "outputId": "0eed7f45-b7aa-4868-92ea-82bad83c138f"
   },
   "outputs": [
    {
     "name": "stdout",
     "output_type": "stream",
     "text": [
      "Model: \"model_3\"\n",
      "__________________________________________________________________________________________________\n",
      " Layer (type)                Output Shape                 Param #   Connected to                  \n",
      "==================================================================================================\n",
      " input_1 (InputLayer)        [(None, 257673, 43, 1)]      0         []                            \n",
      "                                                                                                  \n",
      " conv2d (Conv2D)             (None, 257673, 43, 128)      1280      ['input_1[0][0]']             \n",
      "                                                                                                  \n",
      " conv2d_3 (Conv2D)           (None, 257673, 43, 128)      1280      ['input_1[0][0]']             \n",
      "                                                                                                  \n",
      " conv2d_1 (Conv2D)           (None, 257673, 43, 64)       73792     ['conv2d[0][0]']              \n",
      "                                                                                                  \n",
      " conv2d_4 (Conv2D)           (None, 257673, 43, 64)       73792     ['conv2d_3[0][0]']            \n",
      "                                                                                                  \n",
      " conv2d_2 (Conv2D)           (None, 257673, 43, 32)       18464     ['conv2d_1[0][0]']            \n",
      "                                                                                                  \n",
      " conv2d_5 (Conv2D)           (None, 257673, 43, 32)       18464     ['conv2d_4[0][0]']            \n",
      "                                                                                                  \n",
      " channel_attention (Channel  (None, 257673, 43, 32)       33        ['conv2d_2[0][0]']            \n",
      " Attention)                                                                                       \n",
      "                                                                                                  \n",
      " positional_self_attention   (None, 32)                   3168      ['conv2d_5[0][0]']            \n",
      " (PositionalSelfAttention)                                                                        \n",
      "                                                                                                  \n",
      " tf.reshape_2 (TFOpLambda)   (None, 257673, 32)           0         ['channel_attention[0][0]']   \n",
      "                                                                                                  \n",
      " tf.reshape_3 (TFOpLambda)   (None, 257673, 32)           0         ['positional_self_attention[0]\n",
      "                                                                    [0]']                         \n",
      "                                                                                                  \n",
      " tf.math.add_1 (TFOpLambda)  (None, 257673, 32)           0         ['tf.reshape_2[0][0]',        \n",
      "                                                                     'tf.reshape_3[0][0]']        \n",
      "                                                                                                  \n",
      "==================================================================================================\n",
      "Total params: 190273 (743.25 KB)\n",
      "Trainable params: 190273 (743.25 KB)\n",
      "Non-trainable params: 0 (0.00 Byte)\n",
      "__________________________________________________________________________________________________\n"
     ]
    }
   ],
   "source": [
    "#since the ram is unable proceed with above encoder_d i haev created another encoder by reshaping so the encoder model can encode the x data easily.\n",
    "\n",
    "x1_reshaped = tf.reshape(long_range_feature_extractor_dilated, [-1,num_samples,32])\n",
    "x2_reshaped = tf.reshape(local_feature_extractor_standard, [-1,num_samples,32])\n",
    "# Concatenate features from both extractors\n",
    "encoded_output = tf.add(x1_reshaped, x2_reshaped)\n",
    "\n",
    "\n",
    "\n",
    "# Create the encoder model for decoder\n",
    "encoder = Model(inp, encoded_output)\n",
    "\n",
    "# Print the summary of the encoder\n",
    "encoder.summary()"
   ]
  },
  {
   "cell_type": "code",
   "execution_count": 26,
   "metadata": {},
   "outputs": [
    {
     "name": "stdout",
     "output_type": "stream",
     "text": [
      "1/1 [==============================] - 34s 34s/step\n"
     ]
    }
   ],
   "source": [
    "import numpy as np\n",
    "x_train_expanded=np.expand_dims(x_train,axis=0)\n",
    "encoded_x_train=encoder.predict(x_train_expanded)"
   ]
  },
  {
   "cell_type": "code",
   "execution_count": 27,
   "metadata": {
    "id": "b29-TsF0hqu5"
   },
   "outputs": [
    {
     "name": "stdout",
     "output_type": "stream",
     "text": [
      "encoded_x_train.shape (43, 257673, 32)\n",
      "y_train.shape (257673,)\n"
     ]
    }
   ],
   "source": [
    "print('encoded_x_train.shape',encoded_x_train.shape)\n",
    "print('y_train.shape',y_train.shape)"
   ]
  },
  {
   "cell_type": "code",
   "execution_count": 28,
   "metadata": {},
   "outputs": [],
   "source": [
    "x_train=encoded_x_train.reshape(encoded_x_train.shape[1],-1)"
   ]
  },
  {
   "cell_type": "code",
   "execution_count": 29,
   "metadata": {},
   "outputs": [
    {
     "name": "stdout",
     "output_type": "stream",
     "text": [
      "x_train.shape (257673, 1376)\n",
      "y_train.shape (257673,)\n"
     ]
    }
   ],
   "source": [
    "print('x_train.shape',x_train.shape)\n",
    "print('y_train.shape',y_train.shape)"
   ]
  },
  {
   "cell_type": "code",
   "execution_count": 30,
   "metadata": {
    "colab": {
     "base_uri": "https://localhost:8080/",
     "height": 70
    },
    "id": "WQRm-jvq1GIT",
    "outputId": "756a2fab-0a3c-4fd1-f22a-c59cc6e6133a"
   },
   "outputs": [],
   "source": [
    "import numpy as np\n",
    "from sklearn.model_selection import train_test_split\n",
    "\n",
    "# Assuming you have x_train and y_train datasets\n",
    "\n",
    "# Define the ratio of validation data\n",
    "validation_ratio = 0.325# You can adjust this based on your needs\n",
    "\n",
    "# Split the data into training and validation sets\n",
    "x_train1, x_val, y_train1, y_val = train_test_split(x_train, y_train, test_size=validation_ratio, random_state=42)\n",
    "\n",
    "# Now you have separate x_train, y_train (for training) and x_val, y_val (for validation)\n"
   ]
  },
  {
   "cell_type": "code",
   "execution_count": 31,
   "metadata": {},
   "outputs": [
    {
     "data": {
      "text/plain": [
       "(173929, 1376)"
      ]
     },
     "execution_count": 31,
     "metadata": {},
     "output_type": "execute_result"
    }
   ],
   "source": [
    "x_train1.shape"
   ]
  },
  {
   "cell_type": "code",
   "execution_count": 43,
   "metadata": {
    "id": "en9QoKisjLgI"
   },
   "outputs": [
    {
     "name": "stdout",
     "output_type": "stream",
     "text": [
      "Epoch 1/40\n",
      "5436/5436 [==============================] - 17s 3ms/step - loss: 0.1065 - accuracy: 0.9608 - val_loss: 0.0882 - val_accuracy: 0.9695\n",
      "Epoch 2/40\n",
      "5436/5436 [==============================] - 16s 3ms/step - loss: 0.0742 - accuracy: 0.9724 - val_loss: 0.0706 - val_accuracy: 0.9736\n",
      "Epoch 3/40\n",
      "5436/5436 [==============================] - 15s 3ms/step - loss: 0.0650 - accuracy: 0.9751 - val_loss: 0.0689 - val_accuracy: 0.9737\n",
      "Epoch 4/40\n",
      "5436/5436 [==============================] - 15s 3ms/step - loss: 0.0592 - accuracy: 0.9774 - val_loss: 0.0652 - val_accuracy: 0.9755\n",
      "Epoch 5/40\n",
      "5436/5436 [==============================] - 15s 3ms/step - loss: 0.0544 - accuracy: 0.9792 - val_loss: 0.0640 - val_accuracy: 0.9772\n",
      "Epoch 6/40\n",
      "5436/5436 [==============================] - 15s 3ms/step - loss: 0.0505 - accuracy: 0.9805 - val_loss: 0.0627 - val_accuracy: 0.9778\n",
      "Epoch 7/40\n",
      "5436/5436 [==============================] - 15s 3ms/step - loss: 0.0477 - accuracy: 0.9818 - val_loss: 0.0575 - val_accuracy: 0.9790\n",
      "Epoch 8/40\n",
      "5436/5436 [==============================] - 15s 3ms/step - loss: 0.0444 - accuracy: 0.9825 - val_loss: 0.0632 - val_accuracy: 0.9798\n",
      "Epoch 9/40\n",
      "5436/5436 [==============================] - 15s 3ms/step - loss: 0.0421 - accuracy: 0.9836 - val_loss: 0.0573 - val_accuracy: 0.9797\n",
      "Epoch 10/40\n",
      "5436/5436 [==============================] - 15s 3ms/step - loss: 0.0396 - accuracy: 0.9847 - val_loss: 0.0661 - val_accuracy: 0.9758\n",
      "Epoch 11/40\n",
      "5436/5436 [==============================] - 15s 3ms/step - loss: 0.0375 - accuracy: 0.9855 - val_loss: 0.0716 - val_accuracy: 0.9785\n",
      "Epoch 12/40\n",
      "5436/5436 [==============================] - 15s 3ms/step - loss: 0.0358 - accuracy: 0.9862 - val_loss: 0.0639 - val_accuracy: 0.9804\n",
      "Epoch 13/40\n",
      "5436/5436 [==============================] - 15s 3ms/step - loss: 0.0332 - accuracy: 0.9870 - val_loss: 0.0620 - val_accuracy: 0.9805\n",
      "Epoch 14/40\n",
      "5436/5436 [==============================] - 16s 3ms/step - loss: 0.0317 - accuracy: 0.9879 - val_loss: 0.0715 - val_accuracy: 0.9811\n",
      "Epoch 15/40\n",
      "5436/5436 [==============================] - 15s 3ms/step - loss: 0.0300 - accuracy: 0.9886 - val_loss: 0.0630 - val_accuracy: 0.9800\n",
      "Epoch 16/40\n",
      "5436/5436 [==============================] - 15s 3ms/step - loss: 0.0280 - accuracy: 0.9892 - val_loss: 0.0670 - val_accuracy: 0.9796\n",
      "Epoch 17/40\n",
      "5436/5436 [==============================] - 15s 3ms/step - loss: 0.0269 - accuracy: 0.9896 - val_loss: 0.0723 - val_accuracy: 0.9762\n",
      "Epoch 18/40\n",
      "5436/5436 [==============================] - 15s 3ms/step - loss: 0.0255 - accuracy: 0.9900 - val_loss: 0.0835 - val_accuracy: 0.9773\n",
      "Epoch 19/40\n",
      "5436/5436 [==============================] - 15s 3ms/step - loss: 0.0241 - accuracy: 0.9906 - val_loss: 0.0768 - val_accuracy: 0.9792\n",
      "Epoch 20/40\n",
      "5436/5436 [==============================] - 15s 3ms/step - loss: 0.0231 - accuracy: 0.9913 - val_loss: 0.0757 - val_accuracy: 0.9799\n",
      "Epoch 21/40\n",
      "5436/5436 [==============================] - 16s 3ms/step - loss: 0.0216 - accuracy: 0.9917 - val_loss: 0.0873 - val_accuracy: 0.9802\n",
      "Epoch 22/40\n",
      "5436/5436 [==============================] - 16s 3ms/step - loss: 0.0204 - accuracy: 0.9921 - val_loss: 0.1058 - val_accuracy: 0.9799\n",
      "Epoch 23/40\n",
      "5436/5436 [==============================] - 16s 3ms/step - loss: 0.0188 - accuracy: 0.9928 - val_loss: 0.0992 - val_accuracy: 0.9789\n",
      "Epoch 24/40\n",
      "5436/5436 [==============================] - 16s 3ms/step - loss: 0.0187 - accuracy: 0.9930 - val_loss: 0.0975 - val_accuracy: 0.9783\n",
      "Epoch 25/40\n",
      "5436/5436 [==============================] - 15s 3ms/step - loss: 0.0175 - accuracy: 0.9933 - val_loss: 0.1001 - val_accuracy: 0.9798\n",
      "Epoch 26/40\n",
      "5436/5436 [==============================] - 15s 3ms/step - loss: 0.0158 - accuracy: 0.9939 - val_loss: 0.1006 - val_accuracy: 0.9797\n",
      "Epoch 27/40\n",
      "5436/5436 [==============================] - 16s 3ms/step - loss: 0.0157 - accuracy: 0.9939 - val_loss: 0.1041 - val_accuracy: 0.9794\n",
      "Epoch 28/40\n",
      "5436/5436 [==============================] - 15s 3ms/step - loss: 0.0152 - accuracy: 0.9941 - val_loss: 0.1027 - val_accuracy: 0.9795\n",
      "Epoch 29/40\n",
      "5436/5436 [==============================] - 17s 3ms/step - loss: 0.0141 - accuracy: 0.9949 - val_loss: 0.1210 - val_accuracy: 0.9802\n",
      "Epoch 30/40\n",
      "5436/5436 [==============================] - 17s 3ms/step - loss: 0.0141 - accuracy: 0.9948 - val_loss: 0.1202 - val_accuracy: 0.9803\n",
      "Epoch 31/40\n",
      "5436/5436 [==============================] - 15s 3ms/step - loss: 0.0129 - accuracy: 0.9951 - val_loss: 0.1210 - val_accuracy: 0.9761\n",
      "Epoch 32/40\n",
      "5436/5436 [==============================] - 16s 3ms/step - loss: 0.0119 - accuracy: 0.9956 - val_loss: 0.1456 - val_accuracy: 0.9794\n",
      "Epoch 33/40\n",
      "5436/5436 [==============================] - 17s 3ms/step - loss: 0.0126 - accuracy: 0.9955 - val_loss: 0.1321 - val_accuracy: 0.9803\n",
      "Epoch 34/40\n",
      "5436/5436 [==============================] - 16s 3ms/step - loss: 0.0114 - accuracy: 0.9959 - val_loss: 0.1515 - val_accuracy: 0.9787\n",
      "Epoch 35/40\n",
      "5436/5436 [==============================] - 15s 3ms/step - loss: 0.0116 - accuracy: 0.9957 - val_loss: 0.1396 - val_accuracy: 0.9728\n",
      "Epoch 36/40\n",
      "5436/5436 [==============================] - 16s 3ms/step - loss: 0.0110 - accuracy: 0.9961 - val_loss: 0.1339 - val_accuracy: 0.9792\n",
      "Epoch 37/40\n",
      "5436/5436 [==============================] - 15s 3ms/step - loss: 0.0100 - accuracy: 0.9964 - val_loss: 0.1330 - val_accuracy: 0.9804\n",
      "Epoch 38/40\n",
      "5436/5436 [==============================] - 15s 3ms/step - loss: 0.0103 - accuracy: 0.9963 - val_loss: 0.1364 - val_accuracy: 0.9801\n",
      "Epoch 39/40\n",
      "5436/5436 [==============================] - 15s 3ms/step - loss: 0.0091 - accuracy: 0.9967 - val_loss: 0.1482 - val_accuracy: 0.9777\n",
      "Epoch 40/40\n",
      "5436/5436 [==============================] - 15s 3ms/step - loss: 0.0093 - accuracy: 0.9968 - val_loss: 0.1262 - val_accuracy: 0.9790\n"
     ]
    }
   ],
   "source": [
    "\n",
    "import tensorflow as tf\n",
    "from tensorflow.keras.layers import Input, Flatten, Dense\n",
    "from tensorflow.keras.models import Model\n",
    "from sklearn.metrics import accuracy_score\n",
    "\n",
    "\n",
    "# Define the classifier model\n",
    "inp = Input(shape=(x_train1.shape[1],))\n",
    "x = Dense(128, activation='relu')(inp)\n",
    "x = Dense(64, activation='relu')(x)\n",
    "x = Dense(32, activation='relu')(x)\n",
    "output = Dense(1, activation='sigmoid')(x)\n",
    "\n",
    "# Create the classifier model\n",
    "classifier_model = Model(inputs=inp, outputs=output)\n",
    "\n",
    "# Compile the model\n",
    "classifier_model.compile(optimizer='adam', loss='binary_crossentropy', metrics=['accuracy'])\n",
    "\n",
    "# Train the classifier\n",
    "history=classifier_model.fit(x_train1, y_train1, epochs=40, batch_size=32,validation_data=(x_val,y_val))\n",
    "\n",
    "\n"
   ]
  },
  {
   "cell_type": "code",
   "execution_count": 50,
   "metadata": {},
   "outputs": [
    {
     "name": "stdout",
     "output_type": "stream",
     "text": [
      "5436/5436 [==============================] - 9s 2ms/step\n",
      "Accuracy on training set: 0.998056678299766\n"
     ]
    }
   ],
   "source": [
    "# Evaluate the classifier on the validation set\n",
    "val_predictions = classifier_model.predict(x_train1)\n",
    "val_predictions_binary = (val_predictions > 0.5).astype(int)\n",
    "accuracy = accuracy_score(y_train1,val_predictions_binary)\n",
    "\n",
    "# Print the accuracy\n",
    "print(\"Accuracy on training set:\", accuracy)"
   ]
  },
  {
   "cell_type": "code",
   "execution_count": 51,
   "metadata": {
    "id": "Y-jgPkBakce1"
   },
   "outputs": [
    {
     "name": "stdout",
     "output_type": "stream",
     "text": [
      "2617/2617 [==============================] - 4s 2ms/step\n",
      "Accuracy on validation set: 0.9790432747420711\n"
     ]
    }
   ],
   "source": [
    "# Evaluate the classifier on the validation set\n",
    "val_predictions = classifier_model.predict(x_val)\n",
    "val_predictions_binary = (val_predictions > 0.5).astype(int)\n",
    "accuracy = accuracy_score(y_val,val_predictions_binary)\n",
    "\n",
    "# Print the accuracy\n",
    "print(\"Accuracy on validation set:\", accuracy)"
   ]
  },
  {
   "cell_type": "code",
   "execution_count": 52,
   "metadata": {},
   "outputs": [
    {
     "data": {
      "image/png": "[encoded data removed]",
      "text/plain": [
       "<Figure size 640x480 with 1 Axes>"
      ]
     },
     "metadata": {},
     "output_type": "display_data"
    }
   ],
   "source": [
    "import matplotlib.pyplot as plt\n",
    "\n",
    "# Assuming you have the model's history stored in a variable called \"history\"\n",
    "# Replace this with the actual history object returned from model.fit()\n",
    "plt.plot(history.history['accuracy'])\n",
    "plt.plot(history.history['val_accuracy'])\n",
    "plt.title('Model Accuracy')\n",
    "plt.xlabel('Epoch')\n",
    "plt.ylabel('Accuracy')\n",
    "plt.legend(['train', 'val'], loc='upper left')\n",
    "plt.show()"
   ]
  },
  {
   "cell_type": "code",
   "execution_count": 56,
   "metadata": {},
   "outputs": [
    {
     "name": "stdout",
     "output_type": "stream",
     "text": [
      "5436/5436 [==============================] - 9s 2ms/step\n",
      "Confusion Matrix: [[ 62624     98]\n",
      " [   240 110967]]\n",
      "Precision: 0.9991176338180345\n",
      "Recall: 0.997841862472686\n"
     ]
    }
   ],
   "source": [
    "from sklearn.metrics import precision_score, recall_score,confusion_matrix\n",
    "\n",
    "\n",
    "# Assuming you have the model's predictions stored in a variable called \"predictions\"\n",
    "# Replace this with your actual model predictions\n",
    "predictions = classifier_model.predict(x_train1)\n",
    "\n",
    "# Convert the predicted probabilities to binary predictions\n",
    "# Assuming a threshold of 0.5 for binary classification\n",
    "binary_predictions = (predictions > 0.5).astype(int)\n",
    "\n",
    "# Assuming you have the ground truth labels for the test data in a variable called \"y_test\"\n",
    "# Replace this with your actual ground truth labels\n",
    "# Assuming binary classification with 0 and 1 labels\n",
    "y_train_binary = (y_train1 > 0.5).astype(int)\n",
    "\n",
    "# Compute precision and recall\n",
    "precision = precision_score(y_train_binary, binary_predictions)\n",
    "recall = recall_score(y_train_binary, binary_predictions)\n",
    "conf_matrix = confusion_matrix(y_train_binary, binary_predictions)\n",
    "\n",
    "print(\"Confusion Matrix:\",conf_matrix)\n",
    "print(\"Precision:\", precision)\n",
    "print(\"Recall:\", recall)\n"
   ]
  },
  {
   "cell_type": "code",
   "execution_count": 54,
   "metadata": {},
   "outputs": [
    {
     "data": {
      "image/png": "[encoded data removed]",
      "text/plain": [
       "<Figure size 800x600 with 2 Axes>"
      ]
     },
     "metadata": {},
     "output_type": "display_data"
    }
   ],
   "source": [
    "import seaborn as sns\n",
    "\n",
    "# Assuming you have the confusion matrix stored in a variable called \"conf_matrix\"\n",
    "# Replace this with the actual confusion matrix calculated earlier\n",
    "plt.figure(figsize=(8, 6))\n",
    "sns.heatmap(conf_matrix, annot=True, cmap='Blues', fmt='d')\n",
    "plt.title('Confusion Matrix')\n",
    "plt.xlabel('Predicted')\n",
    "plt.ylabel('True')\n",
    "plt.show()"
   ]
  },
  {
   "cell_type": "code",
   "execution_count": 55,
   "metadata": {
    "id": "pu-RB8BkHi5k"
   },
   "outputs": [
    {
     "name": "stdout",
     "output_type": "stream",
     "text": [
      "1/1 [==============================] - 0s 18ms/step\n",
      "Normal\n"
     ]
    }
   ],
   "source": [
    "import numpy as np\n",
    "\n",
    "# Assuming x_train_squeezed is a NumPy array\n",
    "x = x_train1[1, :]\n",
    "\n",
    "# Assuming x has shape (seq_length,) where seq_length is the number of time steps\n",
    "# Reshape x to have shape (1, seq_length) to match the input shape of the Dense layer\n",
    "x = x.reshape(1, -1)\n",
    "\n",
    "# Your remaining code goes here\n",
    "yp = classifier_model.predict(x)\n",
    "\n",
    "# Assuming the model output shape is (batch_size, num_classes)\n",
    "# Select the first five predictions and flatten them to a 1D array\n",
    "predictions = yp[0][:5]\n",
    "\n",
    "# Define the threshold for anomaly detection (you may need to tune this value)\n",
    "threshold = 1\n",
    "\n",
    "# Check if any of the first five predictions exceed the threshold\n",
    "if np.any(predictions >= threshold):\n",
    "    print(\"Intrusion Detected!\")\n",
    "else:\n",
    "    print(\"Normal\")\n"
   ]
  }
 ],
 "metadata": {
  "accelerator": "GPU",
  "colab": {
   "provenance": []
  },
  "kernelspec": {
   "display_name": "Python 3 (ipykernel)",
   "language": "python",
   "name": "python3"
  },
  "language_info": {
   "codemirror_mode": {
    "name": "ipython",
    "version": 3
   },
   "file_extension": ".py",
   "mimetype": "text/x-python",
   "name": "python",
   "nbconvert_exporter": "python",
   "pygments_lexer": "ipython3",
   "version": "3.11.4"
  }
 },
 "nbformat": 4,
 "nbformat_minor": 4
}
